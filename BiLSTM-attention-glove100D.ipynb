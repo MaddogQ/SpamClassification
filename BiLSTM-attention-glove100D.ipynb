{
 "cells": [
  {
   "cell_type": "markdown",
   "metadata": {},
   "source": [
    "# Prepare Dataset\n"
   ]
  },
  {
   "cell_type": "code",
   "execution_count": 53,
   "metadata": {
    "_cell_guid": "b1076dfc-b9ad-4769-8c92-a6c4dae69d19",
    "_uuid": "8f2839f25d086af736a60e9eeb907d3b93b6e0e5",
    "trusted": true
   },
   "outputs": [],
   "source": [
    "import os\n",
    "import re\n",
    "\n",
    "import pandas as pd\n",
    "from bs4 import BeautifulSoup"
   ]
  },
  {
   "cell_type": "code",
   "execution_count": 54,
   "metadata": {
    "trusted": true
   },
   "outputs": [],
   "source": [
    "df = pd.read_csv(\n",
    "    \"./input/deceptive-opinion-spam-corpus/deceptive-opinion.csv\"\n",
    ")"
   ]
  },
  {
   "cell_type": "code",
   "execution_count": 55,
   "metadata": {
    "trusted": true
   },
   "outputs": [],
   "source": [
    "df = df.drop([\"hotel\", \"polarity\", \"source\"], axis=1)"
   ]
  },
  {
   "cell_type": "code",
   "execution_count": 56,
   "metadata": {
    "trusted": true
   },
   "outputs": [
    {
     "data": {
      "text/html": [
       "<div>\n",
       "<style scoped>\n",
       "    .dataframe tbody tr th:only-of-type {\n",
       "        vertical-align: middle;\n",
       "    }\n",
       "\n",
       "    .dataframe tbody tr th {\n",
       "        vertical-align: top;\n",
       "    }\n",
       "\n",
       "    .dataframe thead th {\n",
       "        text-align: right;\n",
       "    }\n",
       "</style>\n",
       "<table border=\"1\" class=\"dataframe\">\n",
       "  <thead>\n",
       "    <tr style=\"text-align: right;\">\n",
       "      <th></th>\n",
       "      <th>deceptive</th>\n",
       "      <th>text</th>\n",
       "    </tr>\n",
       "  </thead>\n",
       "  <tbody>\n",
       "    <tr>\n",
       "      <th>0</th>\n",
       "      <td>truthful</td>\n",
       "      <td>We stayed for a one night getaway with family ...</td>\n",
       "    </tr>\n",
       "    <tr>\n",
       "      <th>1</th>\n",
       "      <td>truthful</td>\n",
       "      <td>Triple A rate with upgrade to view room was le...</td>\n",
       "    </tr>\n",
       "    <tr>\n",
       "      <th>2</th>\n",
       "      <td>truthful</td>\n",
       "      <td>This comes a little late as I'm finally catchi...</td>\n",
       "    </tr>\n",
       "    <tr>\n",
       "      <th>3</th>\n",
       "      <td>truthful</td>\n",
       "      <td>The Omni Chicago really delivers on all fronts...</td>\n",
       "    </tr>\n",
       "    <tr>\n",
       "      <th>4</th>\n",
       "      <td>truthful</td>\n",
       "      <td>I asked for a high floor away from the elevato...</td>\n",
       "    </tr>\n",
       "  </tbody>\n",
       "</table>\n",
       "</div>"
      ],
      "text/plain": [
       "  deceptive                                               text\n",
       "0  truthful  We stayed for a one night getaway with family ...\n",
       "1  truthful  Triple A rate with upgrade to view room was le...\n",
       "2  truthful  This comes a little late as I'm finally catchi...\n",
       "3  truthful  The Omni Chicago really delivers on all fronts...\n",
       "4  truthful  I asked for a high floor away from the elevato..."
      ]
     },
     "execution_count": 56,
     "metadata": {},
     "output_type": "execute_result"
    }
   ],
   "source": [
    "df.head()"
   ]
  },
  {
   "cell_type": "code",
   "execution_count": 57,
   "metadata": {
    "trusted": true
   },
   "outputs": [],
   "source": [
    "df1 = df.sample(frac=1)"
   ]
  },
  {
   "cell_type": "code",
   "execution_count": 58,
   "metadata": {
    "trusted": true
   },
   "outputs": [
    {
     "data": {
      "text/html": [
       "<div>\n",
       "<style scoped>\n",
       "    .dataframe tbody tr th:only-of-type {\n",
       "        vertical-align: middle;\n",
       "    }\n",
       "\n",
       "    .dataframe tbody tr th {\n",
       "        vertical-align: top;\n",
       "    }\n",
       "\n",
       "    .dataframe thead th {\n",
       "        text-align: right;\n",
       "    }\n",
       "</style>\n",
       "<table border=\"1\" class=\"dataframe\">\n",
       "  <thead>\n",
       "    <tr style=\"text-align: right;\">\n",
       "      <th></th>\n",
       "      <th>deceptive</th>\n",
       "      <th>text</th>\n",
       "    </tr>\n",
       "  </thead>\n",
       "  <tbody>\n",
       "    <tr>\n",
       "      <th>171</th>\n",
       "      <td>truthful</td>\n",
       "      <td>As we pulled away in a taxi heading to the air...</td>\n",
       "    </tr>\n",
       "    <tr>\n",
       "      <th>482</th>\n",
       "      <td>deceptive</td>\n",
       "      <td>Staying at the Swissotel in downtown Chicago i...</td>\n",
       "    </tr>\n",
       "    <tr>\n",
       "      <th>3</th>\n",
       "      <td>truthful</td>\n",
       "      <td>The Omni Chicago really delivers on all fronts...</td>\n",
       "    </tr>\n",
       "    <tr>\n",
       "      <th>755</th>\n",
       "      <td>deceptive</td>\n",
       "      <td>The Palmer House Hilton hotel takes luxury to ...</td>\n",
       "    </tr>\n",
       "    <tr>\n",
       "      <th>1044</th>\n",
       "      <td>truthful</td>\n",
       "      <td>Just returned from the James Hotel after stayi...</td>\n",
       "    </tr>\n",
       "  </tbody>\n",
       "</table>\n",
       "</div>"
      ],
      "text/plain": [
       "      deceptive                                               text\n",
       "171    truthful  As we pulled away in a taxi heading to the air...\n",
       "482   deceptive  Staying at the Swissotel in downtown Chicago i...\n",
       "3      truthful  The Omni Chicago really delivers on all fronts...\n",
       "755   deceptive  The Palmer House Hilton hotel takes luxury to ...\n",
       "1044   truthful  Just returned from the James Hotel after stayi..."
      ]
     },
     "execution_count": 58,
     "metadata": {},
     "output_type": "execute_result"
    }
   ],
   "source": [
    "df1.head()"
   ]
  },
  {
   "cell_type": "code",
   "execution_count": 59,
   "metadata": {
    "trusted": true
   },
   "outputs": [
    {
     "data": {
      "text/plain": [
       "array([1, 0])"
      ]
     },
     "execution_count": 59,
     "metadata": {},
     "output_type": "execute_result"
    }
   ],
   "source": [
    "from sklearn import preprocessing\n",
    "\n",
    "# label_encoder object knows how to understand word labels.\n",
    "label_encoder = preprocessing.LabelEncoder()\n",
    "\n",
    "# Encode labels in column 'species'.\n",
    "df1[\"deceptive\"] = label_encoder.fit_transform(df1[\"deceptive\"])\n",
    "\n",
    "df1[\"deceptive\"].unique()"
   ]
  },
  {
   "cell_type": "code",
   "execution_count": 60,
   "metadata": {
    "trusted": true
   },
   "outputs": [
    {
     "data": {
      "text/html": [
       "<div>\n",
       "<style scoped>\n",
       "    .dataframe tbody tr th:only-of-type {\n",
       "        vertical-align: middle;\n",
       "    }\n",
       "\n",
       "    .dataframe tbody tr th {\n",
       "        vertical-align: top;\n",
       "    }\n",
       "\n",
       "    .dataframe thead th {\n",
       "        text-align: right;\n",
       "    }\n",
       "</style>\n",
       "<table border=\"1\" class=\"dataframe\">\n",
       "  <thead>\n",
       "    <tr style=\"text-align: right;\">\n",
       "      <th></th>\n",
       "      <th>deceptive</th>\n",
       "      <th>text</th>\n",
       "    </tr>\n",
       "  </thead>\n",
       "  <tbody>\n",
       "    <tr>\n",
       "      <th>171</th>\n",
       "      <td>1</td>\n",
       "      <td>As we pulled away in a taxi heading to the air...</td>\n",
       "    </tr>\n",
       "    <tr>\n",
       "      <th>482</th>\n",
       "      <td>0</td>\n",
       "      <td>Staying at the Swissotel in downtown Chicago i...</td>\n",
       "    </tr>\n",
       "    <tr>\n",
       "      <th>3</th>\n",
       "      <td>1</td>\n",
       "      <td>The Omni Chicago really delivers on all fronts...</td>\n",
       "    </tr>\n",
       "    <tr>\n",
       "      <th>755</th>\n",
       "      <td>0</td>\n",
       "      <td>The Palmer House Hilton hotel takes luxury to ...</td>\n",
       "    </tr>\n",
       "    <tr>\n",
       "      <th>1044</th>\n",
       "      <td>1</td>\n",
       "      <td>Just returned from the James Hotel after stayi...</td>\n",
       "    </tr>\n",
       "  </tbody>\n",
       "</table>\n",
       "</div>"
      ],
      "text/plain": [
       "      deceptive                                               text\n",
       "171           1  As we pulled away in a taxi heading to the air...\n",
       "482           0  Staying at the Swissotel in downtown Chicago i...\n",
       "3             1  The Omni Chicago really delivers on all fronts...\n",
       "755           0  The Palmer House Hilton hotel takes luxury to ...\n",
       "1044          1  Just returned from the James Hotel after stayi..."
      ]
     },
     "execution_count": 60,
     "metadata": {},
     "output_type": "execute_result"
    }
   ],
   "source": [
    "df1.head()"
   ]
  },
  {
   "cell_type": "code",
   "execution_count": 61,
   "metadata": {
    "trusted": true
   },
   "outputs": [
    {
     "data": {
      "text/html": [
       "<div>\n",
       "<style scoped>\n",
       "    .dataframe tbody tr th:only-of-type {\n",
       "        vertical-align: middle;\n",
       "    }\n",
       "\n",
       "    .dataframe tbody tr th {\n",
       "        vertical-align: top;\n",
       "    }\n",
       "\n",
       "    .dataframe thead th {\n",
       "        text-align: right;\n",
       "    }\n",
       "</style>\n",
       "<table border=\"1\" class=\"dataframe\">\n",
       "  <thead>\n",
       "    <tr style=\"text-align: right;\">\n",
       "      <th></th>\n",
       "      <th>deceptive</th>\n",
       "    </tr>\n",
       "  </thead>\n",
       "  <tbody>\n",
       "    <tr>\n",
       "      <th>count</th>\n",
       "      <td>1600.000000</td>\n",
       "    </tr>\n",
       "    <tr>\n",
       "      <th>mean</th>\n",
       "      <td>0.500000</td>\n",
       "    </tr>\n",
       "    <tr>\n",
       "      <th>std</th>\n",
       "      <td>0.500156</td>\n",
       "    </tr>\n",
       "    <tr>\n",
       "      <th>min</th>\n",
       "      <td>0.000000</td>\n",
       "    </tr>\n",
       "    <tr>\n",
       "      <th>25%</th>\n",
       "      <td>0.000000</td>\n",
       "    </tr>\n",
       "    <tr>\n",
       "      <th>50%</th>\n",
       "      <td>0.500000</td>\n",
       "    </tr>\n",
       "    <tr>\n",
       "      <th>75%</th>\n",
       "      <td>1.000000</td>\n",
       "    </tr>\n",
       "    <tr>\n",
       "      <th>max</th>\n",
       "      <td>1.000000</td>\n",
       "    </tr>\n",
       "  </tbody>\n",
       "</table>\n",
       "</div>"
      ],
      "text/plain": [
       "         deceptive\n",
       "count  1600.000000\n",
       "mean      0.500000\n",
       "std       0.500156\n",
       "min       0.000000\n",
       "25%       0.000000\n",
       "50%       0.500000\n",
       "75%       1.000000\n",
       "max       1.000000"
      ]
     },
     "execution_count": 61,
     "metadata": {},
     "output_type": "execute_result"
    }
   ],
   "source": [
    "df1.describe()"
   ]
  },
  {
   "cell_type": "markdown",
   "metadata": {},
   "source": [
    "## Data cleaning\n"
   ]
  },
  {
   "cell_type": "code",
   "execution_count": 62,
   "metadata": {
    "trusted": true
   },
   "outputs": [],
   "source": [
    "from nltk.corpus import stopwords\n",
    "\n",
    "REPLACE_BY_SPACE_RE = re.compile(\"[/(){}\\[\\]\\|@,;]\")\n",
    "BAD_SYMBOLS_RE = re.compile(\"[^0-9a-z #+_]\")\n",
    "STOPWORDS = set(stopwords.words(\"english\"))\n",
    "\n",
    "\n",
    "def clean_data(text):\n",
    "    \"\"\"\n",
    "    text: a string\n",
    "\n",
    "    return: modified initial string\n",
    "    \"\"\"\n",
    "    # text = BeautifulSoup(text, \"lxml\").text  # HTML decoding\n",
    "    text = text.lower().split()\n",
    "    text = \" \".join(text)\n",
    "    text = re.sub(r\"[^A-Za-z0-9^,!.\\/'+\\-=]\", \" \", text)\n",
    "    text = re.sub(r\"what's\", \"what is \", text)\n",
    "    text = re.sub(r\"\\'s\", \" \", text)\n",
    "    text = re.sub(r\"\\'ve\", \" have \", text)\n",
    "    text = re.sub(r\"can't\", \"cannot \", text)\n",
    "    text = re.sub(r\"n't\", \" not \", text)\n",
    "    text = re.sub(r\"i'm\", \"i am \", text)\n",
    "    text = re.sub(r\"\\'re\", \" are \", text)\n",
    "    text = re.sub(r\"\\'d\", \" would \", text)\n",
    "    text = re.sub(r\"\\'ll\", \" will \", text)\n",
    "    text = re.sub(r\",\", \" \", text)\n",
    "    text = re.sub(r\"\\.\", \" \", text)\n",
    "    text = re.sub(r\"!\", \" ! \", text)\n",
    "    text = re.sub(r\"\\/\", \" \", text)\n",
    "    text = re.sub(r\"\\^\", \" ^ \", text)\n",
    "    text = re.sub(r\"\\+\", \" + \", text)\n",
    "    text = re.sub(r\"\\-\", \" - \", text)\n",
    "    text = re.sub(r\"\\=\", \" = \", text)\n",
    "    text = re.sub(r\"'\", \" \", text)\n",
    "    text = re.sub(r\"(\\d+)(k)\", r\"\\g<1>000\", text)\n",
    "    text = re.sub(r\":\", \" : \", text)\n",
    "    text = re.sub(r\" e g \", \" eg \", text)\n",
    "    text = re.sub(r\" b g \", \" bg \", text)\n",
    "    text = re.sub(r\" u s \", \" american \", text)\n",
    "    text = re.sub(r\"\\0s\", \"0\", text)\n",
    "    text = re.sub(r\" 9 11 \", \"911\", text)\n",
    "    text = re.sub(r\"e - mail\", \"email\", text)\n",
    "    text = re.sub(r\"j k\", \"jk\", text)\n",
    "    text = re.sub(r\"\\s{2,}\", \" \", text)\n",
    "\n",
    "    return text\n",
    "\n",
    "\n",
    "df1[\"text\"] = df1[\"text\"].apply(clean_data)"
   ]
  },
  {
   "cell_type": "code",
   "execution_count": 63,
   "metadata": {
    "trusted": true
   },
   "outputs": [],
   "source": [
    "X = df1.text\n",
    "y = df1.deceptive"
   ]
  },
  {
   "cell_type": "code",
   "execution_count": 64,
   "metadata": {
    "trusted": true
   },
   "outputs": [],
   "source": [
    "X = X.map(lambda a: clean_data(a))"
   ]
  },
  {
   "cell_type": "code",
   "execution_count": 65,
   "metadata": {
    "trusted": true
   },
   "outputs": [],
   "source": [
    "from __future__ import print_function\n",
    "\n",
    "import numpy as np\n",
    "from keras import constraints, initializers, regularizers\n",
    "from keras.preprocessing.text import Tokenizer\n",
    "from sklearn.model_selection import train_test_split"
   ]
  },
  {
   "cell_type": "code",
   "execution_count": 66,
   "metadata": {
    "trusted": true
   },
   "outputs": [],
   "source": [
    "# X_train, y_train for training (70%)\n",
    "# X_val, y_val for development (15%)\n",
    "# X_test, y_test for testing (15%)\n",
    "\n",
    "X_train, X_temp, y_train, y_temp = train_test_split(X, y, test_size=0.3, random_state=42)  # 70% train, 30% temp\n",
    "X_val, X_test, y_val, y_test = train_test_split(X_temp, y_temp, test_size=0.5, random_state=42)  # 15% dev, 15% test\n",
    "\n",
    "# train, test, y_train, y_test = train_test_split(X, y, stratify=y, random_state=42)"
   ]
  },
  {
   "cell_type": "code",
   "execution_count": 67,
   "metadata": {
    "trusted": true
   },
   "outputs": [],
   "source": [
    "tokenizer = Tokenizer(\n",
    "    num_words=None,\n",
    "    lower=True,\n",
    "    filters='!\"#$%&()*+,-./:;<=>?@[\\\\]^_`{|}~\\t\\n',\n",
    "    split=\" \",\n",
    "    char_level=False,\n",
    ")"
   ]
  },
  {
   "cell_type": "code",
   "execution_count": 68,
   "metadata": {
    "trusted": true
   },
   "outputs": [],
   "source": [
    "tokenizer.fit_on_texts(X)"
   ]
  },
  {
   "cell_type": "code",
   "execution_count": 69,
   "metadata": {
    "trusted": true
   },
   "outputs": [],
   "source": [
    "x_train = tokenizer.texts_to_sequences(X_train)\n",
    "x_val = tokenizer.texts_to_sequences(X_val)\n",
    "x_test = tokenizer.texts_to_sequences(X_test)"
   ]
  },
  {
   "cell_type": "code",
   "execution_count": 70,
   "metadata": {
    "trusted": true
   },
   "outputs": [],
   "source": [
    "word_index = tokenizer.word_index"
   ]
  },
  {
   "cell_type": "code",
   "execution_count": 71,
   "metadata": {
    "trusted": true
   },
   "outputs": [],
   "source": [
    "X = tokenizer.texts_to_sequences(X)"
   ]
  },
  {
   "cell_type": "code",
   "execution_count": 72,
   "metadata": {
    "trusted": true
   },
   "outputs": [
    {
     "name": "stdout",
     "output_type": "stream",
     "text": [
      "Vocab size: 9635\n",
      "Longest comment size: 795\n",
      "Average comment size: 150.44875\n",
      "Stdev of comment size: 88.50470254985042\n",
      "Max comment size: 415\n"
     ]
    }
   ],
   "source": [
    "vocab_size = len(word_index)\n",
    "print(\"Vocab size: {}\".format(vocab_size))\n",
    "longest = max(len(seq) for seq in X)\n",
    "print(\"Longest comment size: {}\".format(longest))\n",
    "average = np.mean([len(seq) for seq in X])\n",
    "print(\"Average comment size: {}\".format(average))\n",
    "stdev = np.std([len(seq) for seq in X])\n",
    "print(\"Stdev of comment size: {}\".format(stdev))\n",
    "max_len = int(average + stdev * 3)\n",
    "print(\"Max comment size: {}\".format(max_len))"
   ]
  },
  {
   "cell_type": "markdown",
   "metadata": {},
   "source": [
    "## Padding\n"
   ]
  },
  {
   "cell_type": "code",
   "execution_count": 73,
   "metadata": {
    "trusted": true
   },
   "outputs": [],
   "source": [
    "from tensorflow.keras.preprocessing.sequence import pad_sequences"
   ]
  },
  {
   "cell_type": "code",
   "execution_count": 74,
   "metadata": {
    "trusted": true
   },
   "outputs": [],
   "source": [
    "processed_post_x_train = pad_sequences(\n",
    "    x_train, maxlen=max_len, padding=\"post\", truncating=\"post\"\n",
    ")\n",
    "processed_post_x_val = pad_sequences(\n",
    "    x_val, maxlen=max_len, padding=\"post\", truncating=\"post\"\n",
    ")\n",
    "processed_post_x_test = pad_sequences(\n",
    "    x_test, maxlen=max_len, padding=\"post\", truncating=\"post\"\n",
    ")"
   ]
  },
  {
   "cell_type": "code",
   "execution_count": 75,
   "metadata": {
    "trusted": true
   },
   "outputs": [],
   "source": [
    "processed_x_train = pad_sequences(x_train, maxlen=max_len)\n",
    "processed_x_val = pad_sequences(x_val, maxlen=max_len)\n",
    "processed_x_test = pad_sequences(x_test, maxlen=max_len)"
   ]
  },
  {
   "cell_type": "code",
   "execution_count": 76,
   "metadata": {
    "trusted": true
   },
   "outputs": [],
   "source": [
    "processed_pre_x_train = pad_sequences(x_train, maxlen=max_len)\n",
    "processed_pre_x_val = pad_sequences(x_val, maxlen=max_len)\n",
    "processed_pre_x_test = pad_sequences(x_test, maxlen=max_len)"
   ]
  },
  {
   "cell_type": "code",
   "execution_count": 77,
   "metadata": {
    "trusted": true
   },
   "outputs": [
    {
     "name": "stdout",
     "output_type": "stream",
     "text": [
      "x_train shape: (1120, 415)\n",
      "x_val shape: (240, 415)\n"
     ]
    }
   ],
   "source": [
    "print(\"x_train shape:\", processed_x_train.shape)\n",
    "print(\"x_val shape:\", processed_x_val.shape)"
   ]
  },
  {
   "cell_type": "markdown",
   "metadata": {},
   "source": [
    "# Model\n"
   ]
  },
  {
   "cell_type": "code",
   "execution_count": 78,
   "metadata": {
    "trusted": true
   },
   "outputs": [],
   "source": [
    "import matplotlib.pyplot as plt\n",
    "from keras import backend as K\n",
    "from keras.layers import (\n",
    "    LSTM,\n",
    "    Activation,\n",
    "    BatchNormalization,\n",
    "    Bidirectional,\n",
    "    Conv1D,\n",
    "    CuDNNGRU,\n",
    "    Dense,\n",
    "    Dropout,\n",
    "    Embedding,\n",
    "    GlobalMaxPooling1D,\n",
    "    Input,\n",
    "    MaxPooling1D,\n",
    "    concatenate,\n",
    ")\n",
    "from keras.models import Model, Sequential, load_model\n",
    "from keras.optimizers import Nadam\n",
    "from keras.utils.vis_utils import plot_model\n",
    "from tensorflow.keras.layers import AdditiveAttention, Embedding, Layer, concatenate"
   ]
  },
  {
   "cell_type": "code",
   "execution_count": 79,
   "metadata": {
    "trusted": true
   },
   "outputs": [
    {
     "name": "stdout",
     "output_type": "stream",
     "text": [
      "Found 400000 word vectors.\n"
     ]
    }
   ],
   "source": [
    "embeddings_index = {}\n",
    "f = open(\n",
    "    os.path.join(\n",
    "        \"./input/glove-global-vectors-for-word-representation\", \"glove.6B.100d.txt\"\n",
    "    )\n",
    ")\n",
    "for line in f:\n",
    "    values = line.split()\n",
    "    word = values[0]\n",
    "    coefs = np.asarray(values[1:], dtype=\"float32\")\n",
    "    embeddings_index[word] = coefs\n",
    "f.close()\n",
    "print(\"Found %s word vectors.\" % len(embeddings_index))"
   ]
  },
  {
   "cell_type": "code",
   "execution_count": 80,
   "metadata": {
    "trusted": true
   },
   "outputs": [],
   "source": [
    "embedding_dim = 100\n",
    "k = 0\n",
    "embedding_matrix = np.zeros((len(word_index) + 1, embedding_dim))\n",
    "for word, i in word_index.items():\n",
    "    embedding_vector = embeddings_index.get(word)\n",
    "    if embedding_vector is not None:\n",
    "        # Words not found in embedding index will be all-zeros.\n",
    "        k += 1\n",
    "        embedding_matrix[i] = embedding_vector"
   ]
  },
  {
   "cell_type": "code",
   "execution_count": 81,
   "metadata": {
    "trusted": true
   },
   "outputs": [],
   "source": [
    "class Attention(Layer):\n",
    "    def __init__(\n",
    "        self,\n",
    "        step_dim,\n",
    "        W_regularizer=None,\n",
    "        b_regularizer=None,\n",
    "        W_constraint=None,\n",
    "        b_constraint=None,\n",
    "        bias=True,\n",
    "        **kwargs\n",
    "    ):\n",
    "        \"\"\"\n",
    "        Keras Layer that implements an Attention mechanism for temporal data.\n",
    "        Supports Masking.\n",
    "        Follows the work of Raffel et al. [https://arxiv.org/abs/1512.08756]\n",
    "        # Input shape\n",
    "            3D tensor with shape: `(samples, steps, features)`.\n",
    "        # Output shape\n",
    "            2D tensor with shape: `(samples, features)`.\n",
    "        :param kwargs:\n",
    "        Just put it on top of an RNN Layer (GRU/LSTM/SimpleRNN) with return_sequences=True.\n",
    "        The dimensions are inferred based on the output shape of the RNN.\n",
    "        Example:\n",
    "            model.add(LSTM(64, return_sequences=True))\n",
    "            model.add(Attention())\n",
    "        \"\"\"\n",
    "        self.supports_masking = True\n",
    "        # self.init = initializations.get('glorot_uniform')\n",
    "        self.init = initializers.get(\"glorot_uniform\")\n",
    "\n",
    "        self.W_regularizer = regularizers.get(W_regularizer)\n",
    "        self.b_regularizer = regularizers.get(b_regularizer)\n",
    "\n",
    "        self.W_constraint = constraints.get(W_constraint)\n",
    "        self.b_constraint = constraints.get(b_constraint)\n",
    "\n",
    "        self.bias = bias\n",
    "        self.step_dim = step_dim\n",
    "        self.features_dim = 0\n",
    "        super(Attention, self).__init__(**kwargs)\n",
    "\n",
    "    def build(self, input_shape):\n",
    "        assert len(input_shape) == 3\n",
    "\n",
    "        # self.W = self.add_weight((input_shape[-1],),\n",
    "        #                          initializer=self.init,\n",
    "        #                          name='{}_W'.format(self.name),\n",
    "        #                          regularizer=self.W_regularizer,\n",
    "        #                          constraint=self.W_constraint)\n",
    "\n",
    "        self.W = self.add_weight(\n",
    "            shape=(input_shape[-1],),\n",
    "            initializer=self.init,  # ensure `init` is set up as a valid initializer\n",
    "            name=\"W\",\n",
    "            regularizer=self.W_regularizer,\n",
    "            constraint=self.W_constraint,\n",
    "        )\n",
    "\n",
    "        self.features_dim = input_shape[-1]\n",
    "\n",
    "        if self.bias:\n",
    "            # self.b = self.add_weight((input_shape[1],),\n",
    "            #                          initializer='zero',\n",
    "            #                           name='{}_b'.format(self.name),\n",
    "            #                          regularizer=self.b_regularizer,\n",
    "            #                          constraint=self.b_constraint)\n",
    "            self.b = self.add_weight(\n",
    "                shape=(input_shape[1],),\n",
    "                initializer=initializers.get(\n",
    "                    \"zeros\"\n",
    "                ),  # make sure `self.init` is a valid initializer\n",
    "                name=\"b\",  # only one `name` argument\n",
    "                regularizer=self.b_regularizer,\n",
    "                constraint=self.b_constraint,\n",
    "            )\n",
    "\n",
    "        else:\n",
    "            self.b = None\n",
    "\n",
    "        self.built = True\n",
    "\n",
    "    def compute_mask(self, input, input_mask=None):\n",
    "        # do not pass the mask to the next layers\n",
    "        return None\n",
    "\n",
    "    def call(self, x, mask=None):\n",
    "        # eij = K.dot(x, self.W) TF backend doesn't support it\n",
    "\n",
    "        # features_dim = self.W.shape[0]\n",
    "        # step_dim = x._keras_shape[1]\n",
    "\n",
    "        features_dim = self.features_dim\n",
    "        step_dim = self.step_dim\n",
    "\n",
    "        eij = K.reshape(\n",
    "            K.dot(\n",
    "                K.reshape(x, (-1, features_dim)), K.reshape(self.W, (features_dim, 1))\n",
    "            ),\n",
    "            (-1, step_dim),\n",
    "        )\n",
    "\n",
    "        if self.bias:\n",
    "            eij += self.b\n",
    "\n",
    "        eij = K.tanh(eij)\n",
    "\n",
    "        a = K.exp(eij)\n",
    "\n",
    "        # apply mask after the exp. will be re-normalized next\n",
    "        if mask is not None:\n",
    "            # Cast the mask to floatX to avoid float64 upcasting in theano\n",
    "            a *= K.cast(mask, K.floatx())\n",
    "\n",
    "        # in some cases especially in the early stages of training the sum may be almost zero\n",
    "        a /= K.cast(K.sum(a, axis=1, keepdims=True) + K.epsilon(), K.floatx())\n",
    "\n",
    "        a = K.expand_dims(a)\n",
    "        weighted_input = x * a\n",
    "        # print weigthted_input.shape\n",
    "        return K.sum(weighted_input, axis=1)\n",
    "\n",
    "    def compute_output_shape(self, input_shape):\n",
    "        # return input_shape[0], input_shape[-1]\n",
    "        return input_shape[0], self.features_dim\n",
    "\n",
    "    def get_config(self):\n",
    "        # Convert regularizers and constraints to their config forms\n",
    "        config = super(Attention, self).get_config()\n",
    "        config.update(\n",
    "            {\n",
    "                \"step_dim\": self.step_dim,\n",
    "                \"W_regularizer\": (\n",
    "                    self.W_regularizer.get_config() if self.W_regularizer else None\n",
    "                ),\n",
    "                \"b_regularizer\": (\n",
    "                    self.b_regularizer.get_config() if self.b_regularizer else None\n",
    "                ),\n",
    "                \"W_constraint\": (\n",
    "                    self.W_constraint.get_config() if self.W_constraint else None\n",
    "                ),\n",
    "                \"b_constraint\": (\n",
    "                    self.b_constraint.get_config() if self.b_constraint else None\n",
    "                ),\n",
    "                \"bias\": self.bias,\n",
    "            }\n",
    "        )\n",
    "        return config\n",
    "\n",
    "    @classmethod\n",
    "    def from_config(cls, config):\n",
    "        # Re-create the regularizers and constraints from their config forms\n",
    "        config[\"W_regularizer\"] = regularizers.get(config[\"W_regularizer\"])\n",
    "        config[\"b_regularizer\"] = regularizers.get(config[\"b_regularizer\"])\n",
    "        config[\"W_constraint\"] = constraints.get(config[\"W_constraint\"])\n",
    "        config[\"b_constraint\"] = constraints.get(config[\"b_constraint\"])\n",
    "        return cls(**config)"
   ]
  },
  {
   "cell_type": "code",
   "execution_count": 82,
   "metadata": {},
   "outputs": [],
   "source": [
    "def get_model():\n",
    "    review_input = Input(shape=(max_len,), dtype=\"int32\")\n",
    "    review_input_post = Input(shape=(max_len,), dtype=\"int32\")\n",
    "\n",
    "    # Use review_input here\n",
    "    x1 = Embedding(\n",
    "        vocab_size + 1,\n",
    "        embedding_dim,\n",
    "        weights=[embedding_matrix],\n",
    "        input_length=max_len,\n",
    "        trainable=True,\n",
    "    )(review_input)\n",
    "    x1 = Bidirectional(LSTM(60, return_sequences=True))(x1)\n",
    "    x1 = Dropout(0.3)(x1)  # original = 0.3\n",
    "    x1 = Attention(max_len)(x1)\n",
    "\n",
    "    # Use review_input_post here\n",
    "    x2 = Embedding(\n",
    "        vocab_size + 1,\n",
    "        embedding_dim,\n",
    "        weights=[embedding_matrix],\n",
    "        input_length=max_len,\n",
    "        trainable=True,\n",
    "    )(review_input_post)\n",
    "    x2 = Bidirectional(LSTM(60, return_sequences=True))(x2)\n",
    "    x2 = Dropout(0.3)(x2)  # original = 0.3\n",
    "    x2 = Attention(max_len)(x2)\n",
    "\n",
    "    x = concatenate([x1, x2])\n",
    "    x = Dense(50, activation=\"relu\")(x)\n",
    "    x = Dropout(0.2)(x)  # original = 0.2\n",
    "    x = BatchNormalization()(x)\n",
    "    preds = Dense(1, activation=\"sigmoid\")(x)\n",
    "    model = Model(inputs=[review_input, review_input_post], outputs=preds)\n",
    "\n",
    "    model.compile(loss=\"binary_crossentropy\", optimizer=\"adam\", metrics=[\"accuracy\"])\n",
    "    return model"
   ]
  },
  {
   "cell_type": "code",
   "execution_count": 83,
   "metadata": {},
   "outputs": [],
   "source": [
    "# model = get_model()"
   ]
  },
  {
   "cell_type": "code",
   "execution_count": 84,
   "metadata": {},
   "outputs": [],
   "source": [
    "from tensorflow.keras.layers import Input, Embedding, Bidirectional, LSTM, Dropout, Dense, BatchNormalization, Concatenate, AdditiveAttention\n",
    "from tensorflow.keras.models import Model\n",
    "\n",
    "\n",
    "def get_model():\n",
    "    # Define input layers\n",
    "    review_input = Input(shape=(max_len,), dtype='int32')\n",
    "    review_input_post = Input(shape=(max_len,), dtype='int32')\n",
    "\n",
    "    # Embedding and LSTM layers for the first input\n",
    "    x1 = Embedding(vocab_size + 1, embedding_dim,\n",
    "                   weights=[embedding_matrix], input_length=max_len, trainable=True)(review_input)\n",
    "    x1 = Bidirectional(LSTM(60, return_sequences=True))(x1)\n",
    "    x1 = Dropout(0.3)(x1)\n",
    "\n",
    "    # Embedding and LSTM layers for the second input\n",
    "    x2 = Embedding(vocab_size + 1, embedding_dim, weights=[\n",
    "                   embedding_matrix], input_length=max_len, trainable=True)(review_input_post)\n",
    "    x2 = Bidirectional(LSTM(60, return_sequences=True))(x2)\n",
    "    x2 = Dropout(0.3)(x2)\n",
    "\n",
    "    # Additive Attention layers for each input (using self-attention)\n",
    "    attention_layer_1 = AdditiveAttention()\n",
    "    # query and key-value pairs are the same for self-attention\n",
    "    x1 = attention_layer_1([x1, x1])\n",
    "\n",
    "    attention_layer_2 = AdditiveAttention()\n",
    "    # query and key-value pairs are the same for self-attention\n",
    "    x2 = attention_layer_2([x2, x2])\n",
    "\n",
    "    # Concatenate the outputs of both attention layers\n",
    "    x = Concatenate()([x1, x2])\n",
    "\n",
    "    # Dense layers\n",
    "    x = Dense(50, activation='relu')(x)\n",
    "    x = Dropout(0.2)(x)\n",
    "    x = BatchNormalization()(x)\n",
    "\n",
    "    # Output layer\n",
    "    preds = Dense(1, activation='sigmoid')(x)\n",
    "\n",
    "    # Build the model\n",
    "    model = Model(inputs=[review_input, review_input_post], outputs=preds)\n",
    "\n",
    "    # Compile the model\n",
    "    model.compile(loss='binary_crossentropy',\n",
    "                  optimizer='adam', metrics=['accuracy'])\n",
    "\n",
    "    return model"
   ]
  },
  {
   "cell_type": "code",
   "execution_count": 85,
   "metadata": {
    "trusted": true
   },
   "outputs": [],
   "source": [
    "model = get_model()"
   ]
  },
  {
   "cell_type": "code",
   "execution_count": 86,
   "metadata": {
    "trusted": true
   },
   "outputs": [
    {
     "name": "stdout",
     "output_type": "stream",
     "text": [
      "Model: \"model_1\"\n",
      "__________________________________________________________________________________________________\n",
      " Layer (type)                   Output Shape         Param #     Connected to                     \n",
      "==================================================================================================\n",
      " input_3 (InputLayer)           [(None, 415)]        0           []                               \n",
      "                                                                                                  \n",
      " input_4 (InputLayer)           [(None, 415)]        0           []                               \n",
      "                                                                                                  \n",
      " embedding_2 (Embedding)        (None, 415, 100)     963600      ['input_3[0][0]']                \n",
      "                                                                                                  \n",
      " embedding_3 (Embedding)        (None, 415, 100)     963600      ['input_4[0][0]']                \n",
      "                                                                                                  \n",
      " bidirectional_2 (Bidirectional  (None, 415, 120)    77280       ['embedding_2[0][0]']            \n",
      " )                                                                                                \n",
      "                                                                                                  \n",
      " bidirectional_3 (Bidirectional  (None, 415, 120)    77280       ['embedding_3[0][0]']            \n",
      " )                                                                                                \n",
      "                                                                                                  \n",
      " dropout_3 (Dropout)            (None, 415, 120)     0           ['bidirectional_2[0][0]']        \n",
      "                                                                                                  \n",
      " dropout_4 (Dropout)            (None, 415, 120)     0           ['bidirectional_3[0][0]']        \n",
      "                                                                                                  \n",
      " additive_attention_2 (Additive  (None, 415, 120)    120         ['dropout_3[0][0]',              \n",
      " Attention)                                                       'dropout_3[0][0]']              \n",
      "                                                                                                  \n",
      " additive_attention_3 (Additive  (None, 415, 120)    120         ['dropout_4[0][0]',              \n",
      " Attention)                                                       'dropout_4[0][0]']              \n",
      "                                                                                                  \n",
      " concatenate_1 (Concatenate)    (None, 415, 240)     0           ['additive_attention_2[0][0]',   \n",
      "                                                                  'additive_attention_3[0][0]']   \n",
      "                                                                                                  \n",
      " dense_2 (Dense)                (None, 415, 50)      12050       ['concatenate_1[0][0]']          \n",
      "                                                                                                  \n",
      " dropout_5 (Dropout)            (None, 415, 50)      0           ['dense_2[0][0]']                \n",
      "                                                                                                  \n",
      " batch_normalization_1 (BatchNo  (None, 415, 50)     200         ['dropout_5[0][0]']              \n",
      " rmalization)                                                                                     \n",
      "                                                                                                  \n",
      " dense_3 (Dense)                (None, 415, 1)       51          ['batch_normalization_1[0][0]']  \n",
      "                                                                                                  \n",
      "==================================================================================================\n",
      "Total params: 2,094,301\n",
      "Trainable params: 2,094,201\n",
      "Non-trainable params: 100\n",
      "__________________________________________________________________________________________________\n"
     ]
    }
   ],
   "source": [
    "model.summary()"
   ]
  },
  {
   "cell_type": "markdown",
   "metadata": {},
   "source": [
    "# Train\n"
   ]
  },
  {
   "cell_type": "code",
   "execution_count": 87,
   "metadata": {
    "trusted": true
   },
   "outputs": [],
   "source": [
    "from keras.callbacks import ModelCheckpoint\n",
    "\n",
    "# checkpoint\n",
    "filepath = \"./results/weights-improvement-{epoch:02d}-{val_accuracy:.2f}.hdf5\"\n",
    "checkpoint = ModelCheckpoint(\n",
    "    filepath, monitor=\"val_accuracy\", verbose=1, save_best_only=True, mode=\"max\"\n",
    ")\n",
    "callbacks_list = [checkpoint]"
   ]
  },
  {
   "cell_type": "code",
   "execution_count": 88,
   "metadata": {
    "trusted": true
   },
   "outputs": [],
   "source": [
    "from keras.callbacks import EarlyStopping\n",
    "\n",
    "early_stopping_monitor = EarlyStopping(patience=5)"
   ]
  },
  {
   "cell_type": "code",
   "execution_count": 89,
   "metadata": {},
   "outputs": [],
   "source": [
    "# Add learning rate scheduling\n",
    "from keras.callbacks import ReduceLROnPlateau\n",
    "\n",
    "reduce_lr = ReduceLROnPlateau(\n",
    "    monitor='val_loss',\n",
    "    factor=0.2,\n",
    "    patience=3,\n",
    "    min_lr=1e-6\n",
    ")\n",
    "\n",
    "# Modify callbacks list\n",
    "callbacks_list = [\n",
    "    checkpoint,\n",
    "    early_stopping_monitor,\n",
    "    reduce_lr\n",
    "]"
   ]
  },
  {
   "cell_type": "code",
   "execution_count": 90,
   "metadata": {},
   "outputs": [],
   "source": [
    "want_load = False\n",
    "model_checkpoint = \"./results/weights-improvement-12-0.88.hdf5\"\n",
    "\n",
    "if want_load:\n",
    "    model = get_model()\n",
    "    model.load_weights(model_checkpoint)"
   ]
  },
  {
   "cell_type": "code",
   "execution_count": 91,
   "metadata": {
    "trusted": true
   },
   "outputs": [
    {
     "name": "stdout",
     "output_type": "stream",
     "text": [
      "Epoch 1/15\n",
      "18/18 [==============================] - ETA: 0s - loss: 0.6826 - accuracy: 0.5879\n",
      "Epoch 1: val_accuracy improved from -inf to 0.54662, saving model to ./results\\weights-improvement-01-0.55.hdf5\n",
      "18/18 [==============================] - 99s 5s/step - loss: 0.6826 - accuracy: 0.5879 - val_loss: 0.6805 - val_accuracy: 0.5466 - lr: 0.0010\n",
      "Epoch 2/15\n",
      "18/18 [==============================] - ETA: 0s - loss: 0.5235 - accuracy: 0.7382\n",
      "Epoch 2: val_accuracy improved from 0.54662 to 0.66250, saving model to ./results\\weights-improvement-02-0.66.hdf5\n",
      "18/18 [==============================] - 88s 5s/step - loss: 0.5235 - accuracy: 0.7382 - val_loss: 0.6452 - val_accuracy: 0.6625 - lr: 0.0010\n",
      "Epoch 3/15\n",
      "18/18 [==============================] - ETA: 0s - loss: 0.4072 - accuracy: 0.8205\n",
      "Epoch 3: val_accuracy improved from 0.66250 to 0.69000, saving model to ./results\\weights-improvement-03-0.69.hdf5\n",
      "18/18 [==============================] - 88s 5s/step - loss: 0.4072 - accuracy: 0.8205 - val_loss: 0.6240 - val_accuracy: 0.6900 - lr: 0.0010\n",
      "Epoch 4/15\n",
      "18/18 [==============================] - ETA: 0s - loss: 0.2885 - accuracy: 0.8793\n",
      "Epoch 4: val_accuracy did not improve from 0.69000\n",
      "18/18 [==============================] - 90s 5s/step - loss: 0.2885 - accuracy: 0.8793 - val_loss: 0.6067 - val_accuracy: 0.6832 - lr: 0.0010\n",
      "Epoch 5/15\n",
      "18/18 [==============================] - ETA: 0s - loss: 0.2197 - accuracy: 0.9135\n",
      "Epoch 5: val_accuracy improved from 0.69000 to 0.73800, saving model to ./results\\weights-improvement-05-0.74.hdf5\n",
      "18/18 [==============================] - 93s 5s/step - loss: 0.2197 - accuracy: 0.9135 - val_loss: 0.5235 - val_accuracy: 0.7380 - lr: 0.0010\n",
      "Epoch 6/15\n",
      "18/18 [==============================] - ETA: 0s - loss: 0.1363 - accuracy: 0.9481\n",
      "Epoch 6: val_accuracy improved from 0.73800 to 0.84708, saving model to ./results\\weights-improvement-06-0.85.hdf5\n",
      "18/18 [==============================] - 93s 5s/step - loss: 0.1363 - accuracy: 0.9481 - val_loss: 0.4665 - val_accuracy: 0.8471 - lr: 0.0010\n",
      "Epoch 7/15\n",
      "18/18 [==============================] - ETA: 0s - loss: 0.0847 - accuracy: 0.9725\n",
      "Epoch 7: val_accuracy did not improve from 0.84708\n",
      "18/18 [==============================] - 97s 5s/step - loss: 0.0847 - accuracy: 0.9725 - val_loss: 0.4208 - val_accuracy: 0.8148 - lr: 0.0010\n",
      "Epoch 8/15\n",
      "18/18 [==============================] - ETA: 0s - loss: 0.0580 - accuracy: 0.9864\n",
      "Epoch 8: val_accuracy did not improve from 0.84708\n",
      "18/18 [==============================] - 98s 5s/step - loss: 0.0580 - accuracy: 0.9864 - val_loss: 0.4278 - val_accuracy: 0.7894 - lr: 0.0010\n",
      "Epoch 9/15\n",
      "18/18 [==============================] - ETA: 0s - loss: 0.0275 - accuracy: 0.9971\n",
      "Epoch 9: val_accuracy did not improve from 0.84708\n",
      "18/18 [==============================] - 96s 5s/step - loss: 0.0275 - accuracy: 0.9971 - val_loss: 0.3941 - val_accuracy: 0.8446 - lr: 0.0010\n",
      "Epoch 10/15\n",
      "18/18 [==============================] - ETA: 0s - loss: 0.0236 - accuracy: 0.9971\n",
      "Epoch 10: val_accuracy did not improve from 0.84708\n",
      "18/18 [==============================] - 95s 5s/step - loss: 0.0236 - accuracy: 0.9971 - val_loss: 0.3887 - val_accuracy: 0.8470 - lr: 0.0010\n",
      "Epoch 11/15\n",
      "18/18 [==============================] - ETA: 0s - loss: 0.0147 - accuracy: 0.9991\n",
      "Epoch 11: val_accuracy improved from 0.84708 to 0.86484, saving model to ./results\\weights-improvement-11-0.86.hdf5\n",
      "18/18 [==============================] - 96s 5s/step - loss: 0.0147 - accuracy: 0.9991 - val_loss: 0.4043 - val_accuracy: 0.8648 - lr: 0.0010\n",
      "Epoch 12/15\n",
      "18/18 [==============================] - ETA: 0s - loss: 0.0080 - accuracy: 0.9999\n",
      "Epoch 12: val_accuracy did not improve from 0.86484\n",
      "18/18 [==============================] - 94s 5s/step - loss: 0.0080 - accuracy: 0.9999 - val_loss: 0.4301 - val_accuracy: 0.8483 - lr: 0.0010\n",
      "Epoch 13/15\n",
      "18/18 [==============================] - ETA: 0s - loss: 0.0084 - accuracy: 0.9993\n",
      "Epoch 13: val_accuracy did not improve from 0.86484\n",
      "18/18 [==============================] - 123s 7s/step - loss: 0.0084 - accuracy: 0.9993 - val_loss: 0.4576 - val_accuracy: 0.8409 - lr: 0.0010\n",
      "Epoch 14/15\n",
      "18/18 [==============================] - ETA: 0s - loss: 0.0058 - accuracy: 1.0000\n",
      "Epoch 14: val_accuracy did not improve from 0.86484\n",
      "18/18 [==============================] - 90s 5s/step - loss: 0.0058 - accuracy: 1.0000 - val_loss: 0.4636 - val_accuracy: 0.8456 - lr: 2.0000e-04\n",
      "Epoch 15/15\n",
      "18/18 [==============================] - ETA: 0s - loss: 0.0065 - accuracy: 1.0000\n",
      "Epoch 15: val_accuracy did not improve from 0.86484\n",
      "18/18 [==============================] - 88s 5s/step - loss: 0.0065 - accuracy: 1.0000 - val_loss: 0.4742 - val_accuracy: 0.8500 - lr: 2.0000e-04\n"
     ]
    }
   ],
   "source": [
    "history = model.fit(\n",
    "    [processed_x_train, processed_pre_x_train],\n",
    "    y_train,\n",
    "    validation_data=([processed_x_val, processed_pre_x_val], y_val),\n",
    "    epochs=15,\n",
    "    batch_size=32,\n",
    "    callbacks=callbacks_list,\n",
    "    verbose=1,\n",
    ")"
   ]
  },
  {
   "cell_type": "code",
   "execution_count": 92,
   "metadata": {},
   "outputs": [
    {
     "data": {
      "image/png": "[encoded data removed]",
      "text/plain": [
       "<Figure size 640x480 with 1 Axes>"
      ]
     },
     "metadata": {},
     "output_type": "display_data"
    },
    {
     "data": {
      "image/png": "[encoded data removed]",
      "text/plain": [
       "<Figure size 640x480 with 1 Axes>"
      ]
     },
     "metadata": {},
     "output_type": "display_data"
    }
   ],
   "source": [
    "# Plot training & validation accuracy values\n",
    "plt.plot(history.history[\"accuracy\"])\n",
    "plt.plot(history.history[\"val_accuracy\"])\n",
    "plt.title(\"Model accuracy\")\n",
    "plt.ylabel(\"Accuracy\")\n",
    "plt.xlabel(\"Epoch\")\n",
    "plt.legend([\"Train\", \"Val\"], loc=\"upper left\")\n",
    "plt.show()\n",
    "\n",
    "# Plot training & validation loss values\n",
    "plt.plot(history.history[\"loss\"])\n",
    "plt.plot(history.history[\"val_loss\"])\n",
    "plt.title(\"Model loss\")\n",
    "plt.ylabel(\"Loss\")\n",
    "plt.xlabel(\"Epoch\")\n",
    "plt.legend([\"Train\", \"Val\"], loc=\"upper left\")\n",
    "plt.show()"
   ]
  },
  {
   "cell_type": "markdown",
   "metadata": {},
   "source": [
    "# Evaluation\n"
   ]
  },
  {
   "cell_type": "code",
   "execution_count": 93,
   "metadata": {
    "trusted": true
   },
   "outputs": [
    {
     "name": "stdout",
     "output_type": "stream",
     "text": [
      "8/8 [==============================] - 6s 736ms/step - loss: 0.4940 - accuracy: 0.8167\n"
     ]
    }
   ],
   "source": [
    "results = model.evaluate([processed_x_test, processed_pre_x_test], y_test)"
   ]
  },
  {
   "cell_type": "code",
   "execution_count": 94,
   "metadata": {},
   "outputs": [
    {
     "name": "stdout",
     "output_type": "stream",
     "text": [
      "test loss:  0.4940382242202759\n",
      "test acc:   0.8167169094085693\n"
     ]
    }
   ],
   "source": [
    "print(\"test loss: \", results[0])\n",
    "print(\"test acc:  \", results[1])"
   ]
  },
  {
   "cell_type": "code",
   "execution_count": 98,
   "metadata": {},
   "outputs": [
    {
     "name": "stdout",
     "output_type": "stream",
     "text": [
      "8/8 [==============================] - 6s 759ms/step\n",
      "Original prediction shape: (240, 415, 1)\n",
      "\n",
      "After reshaping:\n",
      "y_pred shape: (240, 1)\n",
      "y_pred_classes shape: (240,)\n",
      "y_test shape: (240,)\n",
      "\n",
      "Classification Report:\n",
      "              precision    recall  f1-score   support\n",
      "\n",
      "           0       0.81      0.84      0.82       122\n",
      "           1       0.82      0.80      0.81       118\n",
      "\n",
      "    accuracy                           0.82       240\n",
      "   macro avg       0.82      0.82      0.82       240\n",
      "weighted avg       0.82      0.82      0.82       240\n",
      "\n"
     ]
    },
    {
     "data": {
      "image/png": "[encoded data removed]",
      "text/plain": [
       "<Figure size 800x600 with 2 Axes>"
      ]
     },
     "metadata": {},
     "output_type": "display_data"
    }
   ],
   "source": [
    "from sklearn.metrics import classification_report, confusion_matrix\n",
    "import seaborn as sns\n",
    "import numpy as np\n",
    "\n",
    "# Get predictions and reshape correctly\n",
    "y_pred = model.predict([processed_x_test, processed_pre_x_test])\n",
    "print(\"Original prediction shape:\", y_pred.shape)\n",
    "\n",
    "# Take the mean across the sequence length dimension (axis=1)\n",
    "y_pred = np.mean(y_pred, axis=1)\n",
    "y_pred_classes = (y_pred > 0.5).astype(int).flatten()\n",
    "\n",
    "print(\"\\nAfter reshaping:\")\n",
    "print(\"y_pred shape:\", y_pred.shape)\n",
    "print(\"y_pred_classes shape:\", y_pred_classes.shape)\n",
    "print(\"y_test shape:\", y_test.shape)\n",
    "\n",
    "# Ensure y_test is the right format\n",
    "y_test_array = np.array(y_test)\n",
    "\n",
    "# Print classification report\n",
    "print(\"\\nClassification Report:\")\n",
    "print(classification_report(y_test_array, y_pred_classes))\n",
    "\n",
    "# Plot confusion matrix\n",
    "cm = confusion_matrix(y_test_array, y_pred_classes)\n",
    "plt.figure(figsize=(8, 6))\n",
    "sns.heatmap(cm, annot=True, fmt='d')\n",
    "plt.xlabel('Predicted')\n",
    "plt.ylabel('True')\n",
    "plt.title('Confusion Matrix')\n",
    "plt.show()"
   ]
  },
  {
   "cell_type": "code",
   "execution_count": 43,
   "metadata": {},
   "outputs": [
    {
     "data": {
      "text/plain": [
       "dict_keys(['loss', 'accuracy', 'val_loss', 'val_accuracy'])"
      ]
     },
     "execution_count": 43,
     "metadata": {},
     "output_type": "execute_result"
    }
   ],
   "source": [
    "history.history.keys()"
   ]
  },
  {
   "cell_type": "code",
   "execution_count": null,
   "metadata": {
    "trusted": true
   },
   "outputs": [],
   "source": []
  }
 ],
 "metadata": {
  "kernelspec": {
   "display_name": "aiapps",
   "language": "python",
   "name": "python3"
  },
  "language_info": {
   "codemirror_mode": {
    "name": "ipython",
    "version": 3
   },
   "file_extension": ".py",
   "mimetype": "text/x-python",
   "name": "python",
   "nbconvert_exporter": "python",
   "pygments_lexer": "ipython3",
   "version": "3.9.18"
  }
 },
 "nbformat": 4,
 "nbformat_minor": 1
}
