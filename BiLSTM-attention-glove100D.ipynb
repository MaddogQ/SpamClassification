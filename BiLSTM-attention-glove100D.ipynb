{
 "cells": [
  {
   "cell_type": "markdown",
   "metadata": {},
   "source": [
    "# Prepare Dataset\n"
   ]
  },
  {
   "cell_type": "code",
   "execution_count": 4,
   "metadata": {
    "_cell_guid": "b1076dfc-b9ad-4769-8c92-a6c4dae69d19",
    "_uuid": "8f2839f25d086af736a60e9eeb907d3b93b6e0e5",
    "trusted": true
   },
   "outputs": [],
   "source": [
    "import os\n",
    "import re\n",
    "\n",
    "import pandas as pd"
   ]
  },
  {
   "cell_type": "code",
   "execution_count": 5,
   "metadata": {
    "trusted": true
   },
   "outputs": [],
   "source": [
    "df = pd.read_csv(\"./input/deceptive-opinion-spam-corpus/deceptive-opinion-augmented.csv\")"
   ]
  },
  {
   "cell_type": "code",
   "execution_count": 6,
   "metadata": {
    "trusted": true
   },
   "outputs": [],
   "source": [
    "df = df.drop([\"hotel\", \"polarity\", \"source\"], axis=1)"
   ]
  },
  {
   "cell_type": "code",
   "execution_count": 7,
   "metadata": {
    "trusted": true
   },
   "outputs": [
    {
     "data": {
      "text/html": [
       "<div>\n",
       "<style scoped>\n",
       "    .dataframe tbody tr th:only-of-type {\n",
       "        vertical-align: middle;\n",
       "    }\n",
       "\n",
       "    .dataframe tbody tr th {\n",
       "        vertical-align: top;\n",
       "    }\n",
       "\n",
       "    .dataframe thead th {\n",
       "        text-align: right;\n",
       "    }\n",
       "</style>\n",
       "<table border=\"1\" class=\"dataframe\">\n",
       "  <thead>\n",
       "    <tr style=\"text-align: right;\">\n",
       "      <th></th>\n",
       "      <th>deceptive</th>\n",
       "      <th>text</th>\n",
       "    </tr>\n",
       "  </thead>\n",
       "  <tbody>\n",
       "    <tr>\n",
       "      <th>0</th>\n",
       "      <td>truthful</td>\n",
       "      <td>We stay for a one night getaway with family on...</td>\n",
       "    </tr>\n",
       "    <tr>\n",
       "      <th>1</th>\n",
       "      <td>truthful</td>\n",
       "      <td>We stayed here for a one night family getaway ...</td>\n",
       "    </tr>\n",
       "    <tr>\n",
       "      <th>2</th>\n",
       "      <td>truthful</td>\n",
       "      <td>triple A rate with upgrade to view room was le...</td>\n",
       "    </tr>\n",
       "    <tr>\n",
       "      <th>3</th>\n",
       "      <td>truthful</td>\n",
       "      <td>The Triple A rate with a view room upgrade was...</td>\n",
       "    </tr>\n",
       "    <tr>\n",
       "      <th>4</th>\n",
       "      <td>truthful</td>\n",
       "      <td>This semen a little late as I'm finally catchi...</td>\n",
       "    </tr>\n",
       "  </tbody>\n",
       "</table>\n",
       "</div>"
      ],
      "text/plain": [
       "  deceptive                                               text\n",
       "0  truthful  We stay for a one night getaway with family on...\n",
       "1  truthful  We stayed here for a one night family getaway ...\n",
       "2  truthful  triple A rate with upgrade to view room was le...\n",
       "3  truthful  The Triple A rate with a view room upgrade was...\n",
       "4  truthful  This semen a little late as I'm finally catchi..."
      ]
     },
     "execution_count": 7,
     "metadata": {},
     "output_type": "execute_result"
    }
   ],
   "source": [
    "df.head()"
   ]
  },
  {
   "cell_type": "code",
   "execution_count": 8,
   "metadata": {
    "trusted": true
   },
   "outputs": [],
   "source": [
    "df1 = df.sample(frac=1)"
   ]
  },
  {
   "cell_type": "code",
   "execution_count": 9,
   "metadata": {
    "trusted": true
   },
   "outputs": [
    {
     "data": {
      "text/html": [
       "<div>\n",
       "<style scoped>\n",
       "    .dataframe tbody tr th:only-of-type {\n",
       "        vertical-align: middle;\n",
       "    }\n",
       "\n",
       "    .dataframe tbody tr th {\n",
       "        vertical-align: top;\n",
       "    }\n",
       "\n",
       "    .dataframe thead th {\n",
       "        text-align: right;\n",
       "    }\n",
       "</style>\n",
       "<table border=\"1\" class=\"dataframe\">\n",
       "  <thead>\n",
       "    <tr style=\"text-align: right;\">\n",
       "      <th></th>\n",
       "      <th>deceptive</th>\n",
       "      <th>text</th>\n",
       "    </tr>\n",
       "  </thead>\n",
       "  <tbody>\n",
       "    <tr>\n",
       "      <th>3017</th>\n",
       "      <td>deceptive</td>\n",
       "      <td>I stayed at the Sofitel with my husband for a ...</td>\n",
       "    </tr>\n",
       "    <tr>\n",
       "      <th>2808</th>\n",
       "      <td>deceptive</td>\n",
       "      <td>My experience astatine the Ambassador East Hot...</td>\n",
       "    </tr>\n",
       "    <tr>\n",
       "      <th>2638</th>\n",
       "      <td>deceptive</td>\n",
       "      <td>My family and iodine stayed at the Sheraton Ch...</td>\n",
       "    </tr>\n",
       "    <tr>\n",
       "      <th>1895</th>\n",
       "      <td>truthful</td>\n",
       "      <td>I stayed for two nights in April. I hesitated ...</td>\n",
       "    </tr>\n",
       "    <tr>\n",
       "      <th>3008</th>\n",
       "      <td>deceptive</td>\n",
       "      <td>The James hotel in Chicago was a huge let down...</td>\n",
       "    </tr>\n",
       "  </tbody>\n",
       "</table>\n",
       "</div>"
      ],
      "text/plain": [
       "      deceptive                                               text\n",
       "3017  deceptive  I stayed at the Sofitel with my husband for a ...\n",
       "2808  deceptive  My experience astatine the Ambassador East Hot...\n",
       "2638  deceptive  My family and iodine stayed at the Sheraton Ch...\n",
       "1895   truthful  I stayed for two nights in April. I hesitated ...\n",
       "3008  deceptive  The James hotel in Chicago was a huge let down..."
      ]
     },
     "execution_count": 9,
     "metadata": {},
     "output_type": "execute_result"
    }
   ],
   "source": [
    "df1.head()"
   ]
  },
  {
   "cell_type": "code",
   "execution_count": 10,
   "metadata": {
    "trusted": true
   },
   "outputs": [
    {
     "data": {
      "text/plain": [
       "array([0, 1])"
      ]
     },
     "execution_count": 10,
     "metadata": {},
     "output_type": "execute_result"
    }
   ],
   "source": [
    "from sklearn import preprocessing\n",
    "\n",
    "# label_encoder object knows how to understand word labels.\n",
    "label_encoder = preprocessing.LabelEncoder()\n",
    "\n",
    "# Encode labels in column 'species'.\n",
    "df1[\"deceptive\"] = label_encoder.fit_transform(df1[\"deceptive\"])\n",
    "\n",
    "df1[\"deceptive\"].unique()"
   ]
  },
  {
   "cell_type": "code",
   "execution_count": 11,
   "metadata": {
    "trusted": true
   },
   "outputs": [
    {
     "data": {
      "text/html": [
       "<div>\n",
       "<style scoped>\n",
       "    .dataframe tbody tr th:only-of-type {\n",
       "        vertical-align: middle;\n",
       "    }\n",
       "\n",
       "    .dataframe tbody tr th {\n",
       "        vertical-align: top;\n",
       "    }\n",
       "\n",
       "    .dataframe thead th {\n",
       "        text-align: right;\n",
       "    }\n",
       "</style>\n",
       "<table border=\"1\" class=\"dataframe\">\n",
       "  <thead>\n",
       "    <tr style=\"text-align: right;\">\n",
       "      <th></th>\n",
       "      <th>deceptive</th>\n",
       "      <th>text</th>\n",
       "    </tr>\n",
       "  </thead>\n",
       "  <tbody>\n",
       "    <tr>\n",
       "      <th>3017</th>\n",
       "      <td>0</td>\n",
       "      <td>I stayed at the Sofitel with my husband for a ...</td>\n",
       "    </tr>\n",
       "    <tr>\n",
       "      <th>2808</th>\n",
       "      <td>0</td>\n",
       "      <td>My experience astatine the Ambassador East Hot...</td>\n",
       "    </tr>\n",
       "    <tr>\n",
       "      <th>2638</th>\n",
       "      <td>0</td>\n",
       "      <td>My family and iodine stayed at the Sheraton Ch...</td>\n",
       "    </tr>\n",
       "    <tr>\n",
       "      <th>1895</th>\n",
       "      <td>1</td>\n",
       "      <td>I stayed for two nights in April. I hesitated ...</td>\n",
       "    </tr>\n",
       "    <tr>\n",
       "      <th>3008</th>\n",
       "      <td>0</td>\n",
       "      <td>The James hotel in Chicago was a huge let down...</td>\n",
       "    </tr>\n",
       "  </tbody>\n",
       "</table>\n",
       "</div>"
      ],
      "text/plain": [
       "      deceptive                                               text\n",
       "3017          0  I stayed at the Sofitel with my husband for a ...\n",
       "2808          0  My experience astatine the Ambassador East Hot...\n",
       "2638          0  My family and iodine stayed at the Sheraton Ch...\n",
       "1895          1  I stayed for two nights in April. I hesitated ...\n",
       "3008          0  The James hotel in Chicago was a huge let down..."
      ]
     },
     "execution_count": 11,
     "metadata": {},
     "output_type": "execute_result"
    }
   ],
   "source": [
    "df1.head()"
   ]
  },
  {
   "cell_type": "code",
   "execution_count": 12,
   "metadata": {
    "trusted": true
   },
   "outputs": [
    {
     "data": {
      "text/html": [
       "<div>\n",
       "<style scoped>\n",
       "    .dataframe tbody tr th:only-of-type {\n",
       "        vertical-align: middle;\n",
       "    }\n",
       "\n",
       "    .dataframe tbody tr th {\n",
       "        vertical-align: top;\n",
       "    }\n",
       "\n",
       "    .dataframe thead th {\n",
       "        text-align: right;\n",
       "    }\n",
       "</style>\n",
       "<table border=\"1\" class=\"dataframe\">\n",
       "  <thead>\n",
       "    <tr style=\"text-align: right;\">\n",
       "      <th></th>\n",
       "      <th>deceptive</th>\n",
       "    </tr>\n",
       "  </thead>\n",
       "  <tbody>\n",
       "    <tr>\n",
       "      <th>count</th>\n",
       "      <td>3200.000000</td>\n",
       "    </tr>\n",
       "    <tr>\n",
       "      <th>mean</th>\n",
       "      <td>0.500000</td>\n",
       "    </tr>\n",
       "    <tr>\n",
       "      <th>std</th>\n",
       "      <td>0.500078</td>\n",
       "    </tr>\n",
       "    <tr>\n",
       "      <th>min</th>\n",
       "      <td>0.000000</td>\n",
       "    </tr>\n",
       "    <tr>\n",
       "      <th>25%</th>\n",
       "      <td>0.000000</td>\n",
       "    </tr>\n",
       "    <tr>\n",
       "      <th>50%</th>\n",
       "      <td>0.500000</td>\n",
       "    </tr>\n",
       "    <tr>\n",
       "      <th>75%</th>\n",
       "      <td>1.000000</td>\n",
       "    </tr>\n",
       "    <tr>\n",
       "      <th>max</th>\n",
       "      <td>1.000000</td>\n",
       "    </tr>\n",
       "  </tbody>\n",
       "</table>\n",
       "</div>"
      ],
      "text/plain": [
       "         deceptive\n",
       "count  3200.000000\n",
       "mean      0.500000\n",
       "std       0.500078\n",
       "min       0.000000\n",
       "25%       0.000000\n",
       "50%       0.500000\n",
       "75%       1.000000\n",
       "max       1.000000"
      ]
     },
     "execution_count": 12,
     "metadata": {},
     "output_type": "execute_result"
    }
   ],
   "source": [
    "df1.describe()"
   ]
  },
  {
   "cell_type": "markdown",
   "metadata": {},
   "source": [
    "## Data cleaning\n"
   ]
  },
  {
   "cell_type": "code",
   "execution_count": 13,
   "metadata": {
    "trusted": true
   },
   "outputs": [],
   "source": [
    "from nltk.corpus import stopwords\n",
    "\n",
    "REPLACE_BY_SPACE_RE = re.compile(\"[/(){}\\[\\]\\|@,;]\")\n",
    "BAD_SYMBOLS_RE = re.compile(\"[^0-9a-z #+_]\")\n",
    "STOPWORDS = set(stopwords.words(\"english\"))\n",
    "\n",
    "\n",
    "def clean_data(text):\n",
    "    \"\"\"\n",
    "    text: a string\n",
    "\n",
    "    return: modified initial string\n",
    "    \"\"\"\n",
    "    text = text.lower().split()\n",
    "    text = \" \".join(text)\n",
    "    text = re.sub(r\"[^A-Za-z0-9^,!.\\/'+\\-=]\", \" \", text)\n",
    "    text = re.sub(r\"what's\", \"what is \", text)\n",
    "    text = re.sub(r\"\\'s\", \" \", text)\n",
    "    text = re.sub(r\"\\'ve\", \" have \", text)\n",
    "    text = re.sub(r\"can't\", \"cannot \", text)\n",
    "    text = re.sub(r\"n't\", \" not \", text)\n",
    "    text = re.sub(r\"i'm\", \"i am \", text)\n",
    "    text = re.sub(r\"\\'re\", \" are \", text)\n",
    "    text = re.sub(r\"\\'d\", \" would \", text)\n",
    "    text = re.sub(r\"\\'ll\", \" will \", text)\n",
    "    text = re.sub(r\",\", \" \", text)\n",
    "    text = re.sub(r\"\\.\", \" \", text)\n",
    "    text = re.sub(r\"!\", \" ! \", text)\n",
    "    text = re.sub(r\"\\/\", \" \", text)\n",
    "    text = re.sub(r\"\\^\", \" ^ \", text)\n",
    "    text = re.sub(r\"\\+\", \" + \", text)\n",
    "    text = re.sub(r\"\\-\", \" - \", text)\n",
    "    text = re.sub(r\"\\=\", \" = \", text)\n",
    "    text = re.sub(r\"'\", \" \", text)\n",
    "    text = re.sub(r\"(\\d+)(k)\", r\"\\g<1>000\", text)\n",
    "    text = re.sub(r\":\", \" : \", text)\n",
    "    text = re.sub(r\" e g \", \" eg \", text)\n",
    "    text = re.sub(r\" b g \", \" bg \", text)\n",
    "    text = re.sub(r\" u s \", \" american \", text)\n",
    "    text = re.sub(r\"\\0s\", \"0\", text)\n",
    "    text = re.sub(r\" 9 11 \", \"911\", text)\n",
    "    text = re.sub(r\"e - mail\", \"email\", text)\n",
    "    text = re.sub(r\"j k\", \"jk\", text)\n",
    "    text = re.sub(r\"\\s{2,}\", \" \", text)\n",
    "\n",
    "    return text\n",
    "\n",
    "\n",
    "df1[\"text\"] = df1[\"text\"].apply(clean_data)"
   ]
  },
  {
   "cell_type": "code",
   "execution_count": 14,
   "metadata": {
    "trusted": true
   },
   "outputs": [],
   "source": [
    "X = df1.text\n",
    "y = df1.deceptive"
   ]
  },
  {
   "cell_type": "code",
   "execution_count": 15,
   "metadata": {
    "trusted": true
   },
   "outputs": [],
   "source": [
    "X = X.map(lambda a: clean_data(a))"
   ]
  },
  {
   "cell_type": "code",
   "execution_count": 16,
   "metadata": {
    "trusted": true
   },
   "outputs": [],
   "source": [
    "from __future__ import print_function\n",
    "\n",
    "import numpy as np\n",
    "from keras import constraints, initializers, regularizers\n",
    "from keras.preprocessing.text import Tokenizer\n",
    "from sklearn.model_selection import train_test_split"
   ]
  },
  {
   "cell_type": "code",
   "execution_count": 17,
   "metadata": {
    "trusted": true
   },
   "outputs": [],
   "source": [
    "# X_train, y_train for training (70%)\n",
    "# X_val, y_val for development (15%)\n",
    "# X_test, y_test for testing (15%)\n",
    "\n",
    "X_train, X_temp, y_train, y_temp = train_test_split(\n",
    "    X, y, test_size=0.3, random_state=42\n",
    ")  # 70% train, 30% temp\n",
    "X_val, X_test, y_val, y_test = train_test_split(\n",
    "    X_temp, y_temp, test_size=0.5, random_state=42\n",
    ")  # 15% dev, 15% test\n",
    "\n",
    "# train, test, y_train, y_test = train_test_split(X, y, stratify=y, random_state=42)"
   ]
  },
  {
   "cell_type": "code",
   "execution_count": 18,
   "metadata": {
    "trusted": true
   },
   "outputs": [],
   "source": [
    "tokenizer = Tokenizer(\n",
    "    num_words=None,\n",
    "    lower=True,\n",
    "    filters='!\"#$%&()*+,-./:;<=>?@[\\\\]^_`{|}~\\t\\n',\n",
    "    split=\" \",\n",
    "    char_level=False,\n",
    ")"
   ]
  },
  {
   "cell_type": "code",
   "execution_count": 19,
   "metadata": {
    "trusted": true
   },
   "outputs": [],
   "source": [
    "tokenizer.fit_on_texts(X)"
   ]
  },
  {
   "cell_type": "code",
   "execution_count": 20,
   "metadata": {
    "trusted": true
   },
   "outputs": [],
   "source": [
    "x_train = tokenizer.texts_to_sequences(X_train)\n",
    "x_val = tokenizer.texts_to_sequences(X_val)\n",
    "x_test = tokenizer.texts_to_sequences(X_test)"
   ]
  },
  {
   "cell_type": "code",
   "execution_count": 21,
   "metadata": {
    "trusted": true
   },
   "outputs": [],
   "source": [
    "word_index = tokenizer.word_index"
   ]
  },
  {
   "cell_type": "code",
   "execution_count": 22,
   "metadata": {
    "trusted": true
   },
   "outputs": [],
   "source": [
    "X = tokenizer.texts_to_sequences(X)"
   ]
  },
  {
   "cell_type": "code",
   "execution_count": 23,
   "metadata": {
    "trusted": true
   },
   "outputs": [
    {
     "name": "stdout",
     "output_type": "stream",
     "text": [
      "Vocab size: 10519\n",
      "Longest comment size: 795\n",
      "Average comment size: 149.3659375\n",
      "Stdev of comment size: 87.39788056495475\n",
      "Max comment size: 411\n"
     ]
    }
   ],
   "source": [
    "vocab_size = len(word_index)\n",
    "print(\"Vocab size: {}\".format(vocab_size))\n",
    "longest = max(len(seq) for seq in X)\n",
    "print(\"Longest comment size: {}\".format(longest))\n",
    "average = np.mean([len(seq) for seq in X])\n",
    "print(\"Average comment size: {}\".format(average))\n",
    "stdev = np.std([len(seq) for seq in X])\n",
    "print(\"Stdev of comment size: {}\".format(stdev))\n",
    "max_len = int(average + stdev * 3)\n",
    "print(\"Max comment size: {}\".format(max_len))"
   ]
  },
  {
   "cell_type": "markdown",
   "metadata": {},
   "source": [
    "## Padding\n"
   ]
  },
  {
   "cell_type": "code",
   "execution_count": 24,
   "metadata": {
    "trusted": true
   },
   "outputs": [],
   "source": [
    "from tensorflow.keras.preprocessing.sequence import pad_sequences"
   ]
  },
  {
   "cell_type": "code",
   "execution_count": 25,
   "metadata": {
    "trusted": true
   },
   "outputs": [],
   "source": [
    "processed_post_x_train = pad_sequences(\n",
    "    x_train, maxlen=max_len, padding=\"post\", truncating=\"post\"\n",
    ")\n",
    "processed_post_x_val = pad_sequences(\n",
    "    x_val, maxlen=max_len, padding=\"post\", truncating=\"post\"\n",
    ")\n",
    "processed_post_x_test = pad_sequences(\n",
    "    x_test, maxlen=max_len, padding=\"post\", truncating=\"post\"\n",
    ")"
   ]
  },
  {
   "cell_type": "code",
   "execution_count": 26,
   "metadata": {
    "trusted": true
   },
   "outputs": [],
   "source": [
    "processed_x_train = pad_sequences(x_train, maxlen=max_len)\n",
    "processed_x_val = pad_sequences(x_val, maxlen=max_len)\n",
    "processed_x_test = pad_sequences(x_test, maxlen=max_len)"
   ]
  },
  {
   "cell_type": "code",
   "execution_count": 27,
   "metadata": {
    "trusted": true
   },
   "outputs": [],
   "source": [
    "processed_pre_x_train = pad_sequences(x_train, maxlen=max_len)\n",
    "processed_pre_x_val = pad_sequences(x_val, maxlen=max_len)\n",
    "processed_pre_x_test = pad_sequences(x_test, maxlen=max_len)"
   ]
  },
  {
   "cell_type": "code",
   "execution_count": 28,
   "metadata": {
    "trusted": true
   },
   "outputs": [
    {
     "name": "stdout",
     "output_type": "stream",
     "text": [
      "x_train shape: (2240, 411)\n",
      "x_val shape: (480, 411)\n"
     ]
    }
   ],
   "source": [
    "print(\"x_train shape:\", processed_x_train.shape)\n",
    "print(\"x_val shape:\", processed_x_val.shape)"
   ]
  },
  {
   "cell_type": "markdown",
   "metadata": {},
   "source": [
    "# Model\n"
   ]
  },
  {
   "cell_type": "code",
   "execution_count": 29,
   "metadata": {
    "trusted": true
   },
   "outputs": [],
   "source": [
    "import matplotlib.pyplot as plt\n",
    "from keras import backend as K\n",
    "from keras.layers import (\n",
    "    LSTM,\n",
    "    Activation,\n",
    "    BatchNormalization,\n",
    "    Bidirectional,\n",
    "    Dense,\n",
    "    Dropout,\n",
    "    Embedding,\n",
    "    Input,\n",
    "    concatenate,\n",
    ")\n",
    "from keras.models import Model, load_model\n",
    "from keras.optimizers import Nadam\n",
    "from keras.utils.vis_utils import plot_model\n",
    "from tensorflow.keras.layers import Embedding, Layer, concatenate"
   ]
  },
  {
   "cell_type": "code",
   "execution_count": 30,
   "metadata": {
    "trusted": true
   },
   "outputs": [
    {
     "name": "stdout",
     "output_type": "stream",
     "text": [
      "Found 400000 word vectors.\n"
     ]
    }
   ],
   "source": [
    "embeddings_index = {}\n",
    "f = open(\n",
    "    os.path.join(\n",
    "        \"./input/glove-global-vectors-for-word-representation\", \"glove.6B.100d.txt\"\n",
    "    )\n",
    ")\n",
    "for line in f:\n",
    "    values = line.split()\n",
    "    word = values[0]\n",
    "    coefs = np.asarray(values[1:], dtype=\"float32\")\n",
    "    embeddings_index[word] = coefs\n",
    "f.close()\n",
    "print(\"Found %s word vectors.\" % len(embeddings_index))"
   ]
  },
  {
   "cell_type": "code",
   "execution_count": 31,
   "metadata": {
    "trusted": true
   },
   "outputs": [],
   "source": [
    "embedding_dim = 100\n",
    "k = 0\n",
    "embedding_matrix = np.zeros((len(word_index) + 1, embedding_dim))\n",
    "for word, i in word_index.items():\n",
    "    embedding_vector = embeddings_index.get(word)\n",
    "    if embedding_vector is not None:\n",
    "        # Words not found in embedding index will be all-zeros.\n",
    "        k += 1\n",
    "        embedding_matrix[i] = embedding_vector"
   ]
  },
  {
   "cell_type": "code",
   "execution_count": 32,
   "metadata": {
    "trusted": true
   },
   "outputs": [],
   "source": [
    "class Attention(Layer):\n",
    "    def __init__(\n",
    "        self,\n",
    "        step_dim,\n",
    "        W_regularizer=None,\n",
    "        b_regularizer=None,\n",
    "        W_constraint=None,\n",
    "        b_constraint=None,\n",
    "        bias=True,\n",
    "        **kwargs\n",
    "    ):\n",
    "        \"\"\"\n",
    "        Keras Layer that implements an Attention mechanism for temporal data.\n",
    "        Supports Masking.\n",
    "        Follows the work of Raffel et al. [https://arxiv.org/abs/1512.08756]\n",
    "        # Input shape\n",
    "            3D tensor with shape: `(samples, steps, features)`.\n",
    "        # Output shape\n",
    "            2D tensor with shape: `(samples, features)`.\n",
    "        :param kwargs:\n",
    "        Just put it on top of an RNN Layer (GRU/LSTM/SimpleRNN) with return_sequences=True.\n",
    "        The dimensions are inferred based on the output shape of the RNN.\n",
    "        Example:\n",
    "            model.add(LSTM(64, return_sequences=True))\n",
    "            model.add(Attention())\n",
    "        \"\"\"\n",
    "        self.supports_masking = True\n",
    "        # self.init = initializations.get('glorot_uniform')\n",
    "        self.init = initializers.get(\"glorot_uniform\")\n",
    "\n",
    "        self.W_regularizer = regularizers.get(W_regularizer)\n",
    "        self.b_regularizer = regularizers.get(b_regularizer)\n",
    "\n",
    "        self.W_constraint = constraints.get(W_constraint)\n",
    "        self.b_constraint = constraints.get(b_constraint)\n",
    "\n",
    "        self.bias = bias\n",
    "        self.step_dim = step_dim\n",
    "        self.features_dim = 0\n",
    "        super(Attention, self).__init__(**kwargs)\n",
    "\n",
    "    def build(self, input_shape):\n",
    "        assert len(input_shape) == 3\n",
    "\n",
    "        # self.W = self.add_weight((input_shape[-1],),\n",
    "        #                          initializer=self.init,\n",
    "        #                          name='{}_W'.format(self.name),\n",
    "        #                          regularizer=self.W_regularizer,\n",
    "        #                          constraint=self.W_constraint)\n",
    "\n",
    "        self.W = self.add_weight(\n",
    "            shape=(input_shape[-1],),\n",
    "            initializer=self.init,  # ensure `init` is set up as a valid initializer\n",
    "            name=\"W\",\n",
    "            regularizer=self.W_regularizer,\n",
    "            constraint=self.W_constraint,\n",
    "        )\n",
    "\n",
    "        self.features_dim = input_shape[-1]\n",
    "\n",
    "        if self.bias:\n",
    "            # self.b = self.add_weight((input_shape[1],),\n",
    "            #                          initializer='zero',\n",
    "            #                           name='{}_b'.format(self.name),\n",
    "            #                          regularizer=self.b_regularizer,\n",
    "            #                          constraint=self.b_constraint)\n",
    "            self.b = self.add_weight(\n",
    "                shape=(input_shape[1],),\n",
    "                initializer=initializers.get(\n",
    "                    \"zeros\"\n",
    "                ),  # make sure `self.init` is a valid initializer\n",
    "                name=\"b\",  # only one `name` argument\n",
    "                regularizer=self.b_regularizer,\n",
    "                constraint=self.b_constraint,\n",
    "            )\n",
    "\n",
    "        else:\n",
    "            self.b = None\n",
    "\n",
    "        self.built = True\n",
    "\n",
    "    def compute_mask(self, input, input_mask=None):\n",
    "        # do not pass the mask to the next layers\n",
    "        return None\n",
    "\n",
    "    def call(self, x, mask=None):\n",
    "        # eij = K.dot(x, self.W) TF backend doesn't support it\n",
    "\n",
    "        # features_dim = self.W.shape[0]\n",
    "        # step_dim = x._keras_shape[1]\n",
    "\n",
    "        features_dim = self.features_dim\n",
    "        step_dim = self.step_dim\n",
    "\n",
    "        eij = K.reshape(\n",
    "            K.dot(\n",
    "                K.reshape(x, (-1, features_dim)), K.reshape(self.W, (features_dim, 1))\n",
    "            ),\n",
    "            (-1, step_dim),\n",
    "        )\n",
    "\n",
    "        if self.bias:\n",
    "            eij += self.b\n",
    "\n",
    "        eij = K.tanh(eij)\n",
    "\n",
    "        a = K.exp(eij)\n",
    "\n",
    "        # apply mask after the exp. will be re-normalized next\n",
    "        if mask is not None:\n",
    "            # Cast the mask to floatX to avoid float64 upcasting in theano\n",
    "            a *= K.cast(mask, K.floatx())\n",
    "\n",
    "        # in some cases especially in the early stages of training the sum may be almost zero\n",
    "        a /= K.cast(K.sum(a, axis=1, keepdims=True) + K.epsilon(), K.floatx())\n",
    "\n",
    "        a = K.expand_dims(a)\n",
    "        weighted_input = x * a\n",
    "        # print weigthted_input.shape\n",
    "        return K.sum(weighted_input, axis=1)\n",
    "\n",
    "    def compute_output_shape(self, input_shape):\n",
    "        # return input_shape[0], input_shape[-1]\n",
    "        return input_shape[0], self.features_dim\n",
    "\n",
    "    def get_config(self):\n",
    "        # Convert regularizers and constraints to their config forms\n",
    "        config = super(Attention, self).get_config()\n",
    "        config.update(\n",
    "            {\n",
    "                \"step_dim\": self.step_dim,\n",
    "                \"W_regularizer\": (\n",
    "                    self.W_regularizer.get_config() if self.W_regularizer else None\n",
    "                ),\n",
    "                \"b_regularizer\": (\n",
    "                    self.b_regularizer.get_config() if self.b_regularizer else None\n",
    "                ),\n",
    "                \"W_constraint\": (\n",
    "                    self.W_constraint.get_config() if self.W_constraint else None\n",
    "                ),\n",
    "                \"b_constraint\": (\n",
    "                    self.b_constraint.get_config() if self.b_constraint else None\n",
    "                ),\n",
    "                \"bias\": self.bias,\n",
    "            }\n",
    "        )\n",
    "        return config\n",
    "\n",
    "    @classmethod\n",
    "    def from_config(cls, config):\n",
    "        # Re-create the regularizers and constraints from their config forms\n",
    "        config[\"W_regularizer\"] = regularizers.get(config[\"W_regularizer\"])\n",
    "        config[\"b_regularizer\"] = regularizers.get(config[\"b_regularizer\"])\n",
    "        config[\"W_constraint\"] = constraints.get(config[\"W_constraint\"])\n",
    "        config[\"b_constraint\"] = constraints.get(config[\"b_constraint\"])\n",
    "        return cls(**config)"
   ]
  },
  {
   "cell_type": "code",
   "execution_count": 33,
   "metadata": {},
   "outputs": [],
   "source": [
    "def get_model():\n",
    "    review_input = Input(shape=(max_len,), dtype=\"int32\")\n",
    "    review_input_post = Input(shape=(max_len,), dtype=\"int32\")\n",
    "\n",
    "    # Use review_input here\n",
    "    x1 = Embedding(\n",
    "        vocab_size + 1,\n",
    "        embedding_dim,\n",
    "        weights=[embedding_matrix],\n",
    "        input_length=max_len,\n",
    "        trainable=True,\n",
    "    )(review_input)\n",
    "    x1 = Bidirectional(LSTM(60, return_sequences=True))(x1)\n",
    "    x1 = Dropout(0.3)(x1)  # original = 0.3\n",
    "    x1 = Attention(max_len)(x1)\n",
    "\n",
    "    # Use review_input_post here\n",
    "    x2 = Embedding(\n",
    "        vocab_size + 1,\n",
    "        embedding_dim,\n",
    "        weights=[embedding_matrix],\n",
    "        input_length=max_len,\n",
    "        trainable=True,\n",
    "    )(review_input_post)\n",
    "    x2 = Bidirectional(LSTM(60, return_sequences=True))(x2)\n",
    "    x2 = Dropout(0.3)(x2)  # original = 0.3\n",
    "    x2 = Attention(max_len)(x2)\n",
    "\n",
    "    x = concatenate([x1, x2])\n",
    "    x = Dense(50, activation=\"relu\")(x)\n",
    "    x = Dropout(0.2)(x)  # original = 0.2\n",
    "    x = BatchNormalization()(x)\n",
    "    preds = Dense(1, activation=\"sigmoid\")(x)\n",
    "    model = Model(inputs=[review_input, review_input_post], outputs=preds)\n",
    "\n",
    "    model.compile(loss=\"binary_crossentropy\", optimizer=\"adam\", metrics=[\"accuracy\"])\n",
    "    return model"
   ]
  },
  {
   "cell_type": "code",
   "execution_count": 34,
   "metadata": {},
   "outputs": [],
   "source": [
    "# model = get_model()"
   ]
  },
  {
   "cell_type": "code",
   "execution_count": 35,
   "metadata": {},
   "outputs": [],
   "source": [
    "from tensorflow.keras.layers import (\n",
    "    Input,\n",
    "    Embedding,\n",
    "    Bidirectional,\n",
    "    LSTM,\n",
    "    Dropout,\n",
    "    Dense,\n",
    "    BatchNormalization,\n",
    "    Concatenate,\n",
    "    AdditiveAttention,\n",
    ")\n",
    "from tensorflow.keras.models import Model\n",
    "\n",
    "\n",
    "def get_model():\n",
    "\n",
    "    # Define input layers\n",
    "    review_input = Input(shape=(max_len,), dtype=\"int32\")\n",
    "    review_input_post = Input(shape=(max_len,), dtype=\"int32\")\n",
    "\n",
    "    # Embedding and LSTM layers for the first input\n",
    "    x1 = Embedding(\n",
    "        vocab_size + 1,\n",
    "        embedding_dim,\n",
    "        weights=[embedding_matrix],\n",
    "        input_length=max_len,\n",
    "        trainable=True,\n",
    "    )(review_input)\n",
    "\n",
    "    x1 = Bidirectional(LSTM(60, return_sequences=True))(x1)\n",
    "    x1 = Dropout(0.3)(x1)\n",
    "\n",
    "    # Embedding and LSTM layers for the second input\n",
    "\n",
    "    x2 = Embedding(\n",
    "        vocab_size + 1,\n",
    "        embedding_dim,\n",
    "        weights=[embedding_matrix],\n",
    "        input_length=max_len,\n",
    "        trainable=True,\n",
    "    )(review_input_post)\n",
    "\n",
    "    x2 = Bidirectional(LSTM(60, return_sequences=True))(x2)\n",
    "    x2 = Dropout(0.3)(x2)\n",
    "\n",
    "    # Additive Attention layers for each input (using self-attention)\n",
    "    attention_layer_1 = AdditiveAttention()\n",
    "\n",
    "    # query and key-value pairs are the same for self-attention\n",
    "    x1 = attention_layer_1([x1, x1])\n",
    "    attention_layer_2 = AdditiveAttention()\n",
    "\n",
    "    # query and key-value pairs are the same for self-attention\n",
    "    x2 = attention_layer_2([x2, x2])\n",
    "\n",
    "    # Concatenate the outputs of both attention layers\n",
    "    x = Concatenate()([x1, x2])\n",
    "\n",
    "    # Dense layers\n",
    "    x = Dense(50, activation=\"relu\")(x)\n",
    "    x = Dropout(0.2)(x)\n",
    "    x = BatchNormalization()(x)\n",
    "\n",
    "    # Output layer\n",
    "    preds = Dense(1, activation=\"sigmoid\")(x)\n",
    "\n",
    "    # Build the model\n",
    "    model = Model(inputs=[review_input, review_input_post], outputs=preds)\n",
    "\n",
    "    # Compile the model\n",
    "    model.compile(loss=\"binary_crossentropy\", optimizer=\"adam\", metrics=[\"accuracy\"])\n",
    "\n",
    "    return model"
   ]
  },
  {
   "cell_type": "code",
   "execution_count": 36,
   "metadata": {
    "trusted": true
   },
   "outputs": [],
   "source": [
    "model = get_model()"
   ]
  },
  {
   "cell_type": "code",
   "execution_count": 37,
   "metadata": {
    "trusted": true
   },
   "outputs": [
    {
     "name": "stdout",
     "output_type": "stream",
     "text": [
      "Model: \"model\"\n",
      "__________________________________________________________________________________________________\n",
      " Layer (type)                   Output Shape         Param #     Connected to                     \n",
      "==================================================================================================\n",
      " input_1 (InputLayer)           [(None, 411)]        0           []                               \n",
      "                                                                                                  \n",
      " input_2 (InputLayer)           [(None, 411)]        0           []                               \n",
      "                                                                                                  \n",
      " embedding (Embedding)          (None, 411, 100)     1052000     ['input_1[0][0]']                \n",
      "                                                                                                  \n",
      " embedding_1 (Embedding)        (None, 411, 100)     1052000     ['input_2[0][0]']                \n",
      "                                                                                                  \n",
      " bidirectional (Bidirectional)  (None, 411, 120)     77280       ['embedding[0][0]']              \n",
      "                                                                                                  \n",
      " bidirectional_1 (Bidirectional  (None, 411, 120)    77280       ['embedding_1[0][0]']            \n",
      " )                                                                                                \n",
      "                                                                                                  \n",
      " dropout (Dropout)              (None, 411, 120)     0           ['bidirectional[0][0]']          \n",
      "                                                                                                  \n",
      " dropout_1 (Dropout)            (None, 411, 120)     0           ['bidirectional_1[0][0]']        \n",
      "                                                                                                  \n",
      " additive_attention (AdditiveAt  (None, 411, 120)    120         ['dropout[0][0]',                \n",
      " tention)                                                         'dropout[0][0]']                \n",
      "                                                                                                  \n",
      " additive_attention_1 (Additive  (None, 411, 120)    120         ['dropout_1[0][0]',              \n",
      " Attention)                                                       'dropout_1[0][0]']              \n",
      "                                                                                                  \n",
      " concatenate (Concatenate)      (None, 411, 240)     0           ['additive_attention[0][0]',     \n",
      "                                                                  'additive_attention_1[0][0]']   \n",
      "                                                                                                  \n",
      " dense (Dense)                  (None, 411, 50)      12050       ['concatenate[0][0]']            \n",
      "                                                                                                  \n",
      " dropout_2 (Dropout)            (None, 411, 50)      0           ['dense[0][0]']                  \n",
      "                                                                                                  \n",
      " batch_normalization (BatchNorm  (None, 411, 50)     200         ['dropout_2[0][0]']              \n",
      " alization)                                                                                       \n",
      "                                                                                                  \n",
      " dense_1 (Dense)                (None, 411, 1)       51          ['batch_normalization[0][0]']    \n",
      "                                                                                                  \n",
      "==================================================================================================\n",
      "Total params: 2,271,101\n",
      "Trainable params: 2,271,001\n",
      "Non-trainable params: 100\n",
      "__________________________________________________________________________________________________\n"
     ]
    }
   ],
   "source": [
    "model.summary()"
   ]
  },
  {
   "cell_type": "markdown",
   "metadata": {},
   "source": [
    "# Train\n"
   ]
  },
  {
   "cell_type": "code",
   "execution_count": 38,
   "metadata": {
    "trusted": true
   },
   "outputs": [],
   "source": [
    "from keras.callbacks import ModelCheckpoint\n",
    "\n",
    "# checkpoint\n",
    "filepath = \"./results/weights-improvement-{epoch:02d}-{val_accuracy:.2f}.hdf5\"\n",
    "checkpoint = ModelCheckpoint(\n",
    "    filepath, monitor=\"val_accuracy\", verbose=1, save_best_only=True, mode=\"max\"\n",
    ")\n",
    "callbacks_list = [checkpoint]"
   ]
  },
  {
   "cell_type": "code",
   "execution_count": 39,
   "metadata": {
    "trusted": true
   },
   "outputs": [],
   "source": [
    "from keras.callbacks import EarlyStopping\n",
    "\n",
    "early_stopping_monitor = EarlyStopping(patience=5)"
   ]
  },
  {
   "cell_type": "code",
   "execution_count": 40,
   "metadata": {},
   "outputs": [],
   "source": [
    "# Add learning rate scheduling\n",
    "from keras.callbacks import ReduceLROnPlateau\n",
    "\n",
    "reduce_lr = ReduceLROnPlateau(monitor=\"val_loss\", factor=0.2, patience=3, min_lr=1e-6)\n",
    "\n",
    "# Modify callbacks list\n",
    "callbacks_list = [checkpoint, early_stopping_monitor, reduce_lr]"
   ]
  },
  {
   "cell_type": "code",
   "execution_count": 41,
   "metadata": {},
   "outputs": [],
   "source": [
    "want_load = False\n",
    "model_checkpoint = \"./results/weights-improvement-11-0.86.hdf5\"\n",
    "\n",
    "if want_load:\n",
    "    model = get_model()\n",
    "    model.load_weights(model_checkpoint)"
   ]
  },
  {
   "cell_type": "code",
   "execution_count": 42,
   "metadata": {
    "trusted": true
   },
   "outputs": [
    {
     "name": "stdout",
     "output_type": "stream",
     "text": [
      "Epoch 1/15\n",
      "70/70 [==============================] - ETA: 0s - loss: 0.5571 - accuracy: 0.7102\n",
      "Epoch 1: val_accuracy improved from -inf to 0.59948, saving model to ./results\\weights-improvement-01-0.60.hdf5\n",
      "70/70 [==============================] - 203s 3s/step - loss: 0.5571 - accuracy: 0.7102 - val_loss: 0.6354 - val_accuracy: 0.5995 - lr: 0.0010\n",
      "Epoch 2/15\n",
      "70/70 [==============================] - ETA: 0s - loss: 0.3518 - accuracy: 0.8528\n",
      "Epoch 2: val_accuracy improved from 0.59948 to 0.73537, saving model to ./results\\weights-improvement-02-0.74.hdf5\n",
      "70/70 [==============================] - 202s 3s/step - loss: 0.3518 - accuracy: 0.8528 - val_loss: 0.5250 - val_accuracy: 0.7354 - lr: 0.0010\n",
      "Epoch 3/15\n",
      "70/70 [==============================] - ETA: 0s - loss: 0.2043 - accuracy: 0.9261\n",
      "Epoch 3: val_accuracy improved from 0.73537 to 0.89133, saving model to ./results\\weights-improvement-03-0.89.hdf5\n",
      "70/70 [==============================] - 197s 3s/step - loss: 0.2043 - accuracy: 0.9261 - val_loss: 0.3159 - val_accuracy: 0.8913 - lr: 0.0010\n",
      "Epoch 4/15\n",
      "70/70 [==============================] - ETA: 0s - loss: 0.0909 - accuracy: 0.9707\n",
      "Epoch 4: val_accuracy improved from 0.89133 to 0.92501, saving model to ./results\\weights-improvement-04-0.93.hdf5\n",
      "70/70 [==============================] - 199s 3s/step - loss: 0.0909 - accuracy: 0.9707 - val_loss: 0.1949 - val_accuracy: 0.9250 - lr: 0.0010\n",
      "Epoch 5/15\n",
      "70/70 [==============================] - ETA: 0s - loss: 0.0645 - accuracy: 0.9824\n",
      "Epoch 5: val_accuracy did not improve from 0.92501\n",
      "70/70 [==============================] - 198s 3s/step - loss: 0.0645 - accuracy: 0.9824 - val_loss: 0.4513 - val_accuracy: 0.8240 - lr: 0.0010\n",
      "Epoch 6/15\n",
      "70/70 [==============================] - ETA: 0s - loss: 0.0441 - accuracy: 0.9854\n",
      "Epoch 6: val_accuracy did not improve from 0.92501\n",
      "70/70 [==============================] - 199s 3s/step - loss: 0.0441 - accuracy: 0.9854 - val_loss: 2.6198 - val_accuracy: 0.5011 - lr: 0.0010\n",
      "Epoch 7/15\n",
      "70/70 [==============================] - ETA: 0s - loss: 0.0382 - accuracy: 0.9926\n",
      "Epoch 7: val_accuracy did not improve from 0.92501\n",
      "70/70 [==============================] - 198s 3s/step - loss: 0.0382 - accuracy: 0.9926 - val_loss: 0.3551 - val_accuracy: 0.8949 - lr: 0.0010\n",
      "Epoch 8/15\n",
      "70/70 [==============================] - ETA: 0s - loss: 0.0075 - accuracy: 0.9991\n",
      "Epoch 8: val_accuracy improved from 0.92501 to 0.94601, saving model to ./results\\weights-improvement-08-0.95.hdf5\n",
      "70/70 [==============================] - 198s 3s/step - loss: 0.0075 - accuracy: 0.9991 - val_loss: 0.1878 - val_accuracy: 0.9460 - lr: 2.0000e-04\n",
      "Epoch 9/15\n",
      "70/70 [==============================] - ETA: 0s - loss: 0.0059 - accuracy: 0.9998\n",
      "Epoch 9: val_accuracy improved from 0.94601 to 0.94854, saving model to ./results\\weights-improvement-09-0.95.hdf5\n",
      "70/70 [==============================] - 198s 3s/step - loss: 0.0059 - accuracy: 0.9998 - val_loss: 0.1753 - val_accuracy: 0.9485 - lr: 2.0000e-04\n",
      "Epoch 10/15\n",
      "70/70 [==============================] - ETA: 0s - loss: 0.0045 - accuracy: 0.9999\n",
      "Epoch 10: val_accuracy improved from 0.94854 to 0.95405, saving model to ./results\\weights-improvement-10-0.95.hdf5\n",
      "70/70 [==============================] - 221s 3s/step - loss: 0.0045 - accuracy: 0.9999 - val_loss: 0.1631 - val_accuracy: 0.9540 - lr: 2.0000e-04\n",
      "Epoch 11/15\n",
      "70/70 [==============================] - ETA: 0s - loss: 0.0048 - accuracy: 0.9999\n",
      "Epoch 11: val_accuracy did not improve from 0.95405\n",
      "70/70 [==============================] - 199s 3s/step - loss: 0.0048 - accuracy: 0.9999 - val_loss: 0.1738 - val_accuracy: 0.9488 - lr: 2.0000e-04\n",
      "Epoch 12/15\n",
      "70/70 [==============================] - ETA: 0s - loss: 0.0047 - accuracy: 0.9998\n",
      "Epoch 12: val_accuracy did not improve from 0.95405\n",
      "70/70 [==============================] - 220s 3s/step - loss: 0.0047 - accuracy: 0.9998 - val_loss: 0.1928 - val_accuracy: 0.9371 - lr: 2.0000e-04\n",
      "Epoch 13/15\n",
      "70/70 [==============================] - ETA: 0s - loss: 0.0038 - accuracy: 1.0000\n",
      "Epoch 13: val_accuracy did not improve from 0.95405\n",
      "70/70 [==============================] - 216s 3s/step - loss: 0.0038 - accuracy: 1.0000 - val_loss: 0.1857 - val_accuracy: 0.9454 - lr: 2.0000e-04\n",
      "Epoch 14/15\n",
      "70/70 [==============================] - ETA: 0s - loss: 0.0034 - accuracy: 1.0000\n",
      "Epoch 14: val_accuracy improved from 0.95405 to 0.95610, saving model to ./results\\weights-improvement-14-0.96.hdf5\n",
      "70/70 [==============================] - 202s 3s/step - loss: 0.0034 - accuracy: 1.0000 - val_loss: 0.1628 - val_accuracy: 0.9561 - lr: 4.0000e-05\n",
      "Epoch 15/15\n",
      "70/70 [==============================] - ETA: 0s - loss: 0.0032 - accuracy: 1.0000\n",
      "Epoch 15: val_accuracy improved from 0.95610 to 0.95612, saving model to ./results\\weights-improvement-15-0.96.hdf5\n",
      "70/70 [==============================] - 198s 3s/step - loss: 0.0032 - accuracy: 1.0000 - val_loss: 0.1631 - val_accuracy: 0.9561 - lr: 4.0000e-05\n"
     ]
    }
   ],
   "source": [
    "history = model.fit(\n",
    "    [processed_x_train, processed_pre_x_train],\n",
    "    y_train,\n",
    "    validation_data=([processed_x_val, processed_pre_x_val], y_val),\n",
    "    epochs=15,\n",
    "    batch_size=32,\n",
    "    callbacks=callbacks_list,\n",
    "    verbose=1,\n",
    ")"
   ]
  },
  {
   "cell_type": "code",
   "execution_count": 43,
   "metadata": {},
   "outputs": [
    {
     "data": {
      "image/png": "[encoded data removed]",
      "text/plain": [
       "<Figure size 640x480 with 1 Axes>"
      ]
     },
     "metadata": {},
     "output_type": "display_data"
    },
    {
     "data": {
      "image/png": "[encoded data removed]",
      "text/plain": [
       "<Figure size 640x480 with 1 Axes>"
      ]
     },
     "metadata": {},
     "output_type": "display_data"
    }
   ],
   "source": [
    "# Plot training & validation accuracy values\n",
    "plt.plot(history.history[\"accuracy\"])\n",
    "plt.plot(history.history[\"val_accuracy\"])\n",
    "plt.title(\"Model accuracy\")\n",
    "plt.ylabel(\"Accuracy\")\n",
    "plt.xlabel(\"Epoch\")\n",
    "plt.legend([\"Train\", \"Val\"], loc=\"upper left\")\n",
    "plt.show()\n",
    "\n",
    "# Plot training & validation loss values\n",
    "plt.plot(history.history[\"loss\"])\n",
    "plt.plot(history.history[\"val_loss\"])\n",
    "plt.title(\"Model loss\")\n",
    "plt.ylabel(\"Loss\")\n",
    "plt.xlabel(\"Epoch\")\n",
    "plt.legend([\"Train\", \"Val\"], loc=\"upper left\")\n",
    "plt.show()"
   ]
  },
  {
   "cell_type": "markdown",
   "metadata": {},
   "source": [
    "# Evaluation\n"
   ]
  },
  {
   "cell_type": "code",
   "execution_count": 44,
   "metadata": {
    "trusted": true
   },
   "outputs": [
    {
     "name": "stdout",
     "output_type": "stream",
     "text": [
      "15/15 [==============================] - 12s 775ms/step - loss: 0.1839 - accuracy: 0.9434\n"
     ]
    }
   ],
   "source": [
    "results = model.evaluate([processed_x_test, processed_pre_x_test], y_test)"
   ]
  },
  {
   "cell_type": "code",
   "execution_count": 45,
   "metadata": {},
   "outputs": [
    {
     "name": "stdout",
     "output_type": "stream",
     "text": [
      "test loss:  0.18387961387634277\n",
      "test acc:   0.9433596730232239\n"
     ]
    }
   ],
   "source": [
    "print(\"test loss: \", results[0])\n",
    "print(\"test acc:  \", results[1])"
   ]
  },
  {
   "cell_type": "code",
   "execution_count": 46,
   "metadata": {},
   "outputs": [
    {
     "name": "stdout",
     "output_type": "stream",
     "text": [
      "15/15 [==============================] - 13s 800ms/step\n",
      "Original prediction shape: (480, 411, 1)\n",
      "\n",
      "After reshaping:\n",
      "y_pred shape: (480, 1)\n",
      "y_pred_classes shape: (480,)\n",
      "y_test shape: (480,)\n",
      "\n",
      "Classification Report:\n",
      "              precision    recall  f1-score   support\n",
      "\n",
      "           0       0.96      0.92      0.94       238\n",
      "           1       0.93      0.96      0.95       242\n",
      "\n",
      "    accuracy                           0.94       480\n",
      "   macro avg       0.94      0.94      0.94       480\n",
      "weighted avg       0.94      0.94      0.94       480\n",
      "\n"
     ]
    },
    {
     "data": {
      "image/png": "[encoded data removed]",
      "text/plain": [
       "<Figure size 800x600 with 2 Axes>"
      ]
     },
     "metadata": {},
     "output_type": "display_data"
    }
   ],
   "source": [
    "from sklearn.metrics import classification_report, confusion_matrix\n",
    "import seaborn as sns\n",
    "import numpy as np\n",
    "\n",
    "# Get predictions and reshape correctly\n",
    "y_pred = model.predict([processed_x_test, processed_pre_x_test])\n",
    "print(\"Original prediction shape:\", y_pred.shape)\n",
    "\n",
    "# Take the mean across the sequence length dimension (axis=1)\n",
    "y_pred = np.mean(y_pred, axis=1)\n",
    "y_pred_classes = (y_pred > 0.5).astype(int).flatten()\n",
    "\n",
    "print(\"\\nAfter reshaping:\")\n",
    "print(\"y_pred shape:\", y_pred.shape)\n",
    "print(\"y_pred_classes shape:\", y_pred_classes.shape)\n",
    "print(\"y_test shape:\", y_test.shape)\n",
    "\n",
    "# Ensure y_test is the right format\n",
    "y_test_array = np.array(y_test)\n",
    "\n",
    "# Print classification report\n",
    "print(\"\\nClassification Report:\")\n",
    "cls_report = classification_report(y_test_array, y_pred_classes)\n",
    "print(cls_report)\n",
    "\n",
    "# Plot confusion matrix\n",
    "cm = confusion_matrix(y_test_array, y_pred_classes)\n",
    "plt.figure(figsize=(8, 6))\n",
    "sns.heatmap(cm, annot=True, fmt=\"d\")\n",
    "plt.xlabel(\"Predicted\")\n",
    "plt.ylabel(\"True\")\n",
    "plt.title(\"Confusion Matrix\")\n",
    "plt.show()"
   ]
  },
  {
   "cell_type": "markdown",
   "metadata": {},
   "source": [
    "## Write results"
   ]
  },
  {
   "cell_type": "code",
   "execution_count": 64,
   "metadata": {},
   "outputs": [],
   "source": [
    "res_file = \"./results/comparative_analysis.csv\"\n",
    "\n",
    "train_accuracy = round(history.history[\"accuracy\"][-1], 4)\n",
    "val_accuracy = round(history.history[\"val_accuracy\"][-1], 4)\n",
    "test_accuracy = round(results[1], 4)\n",
    "\n",
    "weighted_avg = cls_report[cls_report.find(\"weighted avg\"):]\n",
    "stats_metrics = weighted_avg.lstrip(\"weighted avg\").split()[:3]\n",
    "\n",
    "precision = stats_metrics[0]\n",
    "recall = stats_metrics[1]\n",
    "f1_score = stats_metrics[2]\n",
    "\n",
    "with open(res_file, \"a\") as f:\n",
    "    f.write(\n",
    "        f\"BiLSTM-attention-glove100D,N/A,augmented,{train_accuracy},{val_accuracy},{test_accuracy},{precision},{recall},{f1_score}\\n\"\n",
    "    )"
   ]
  },
  {
   "cell_type": "markdown",
   "metadata": {},
   "source": [
    "## Explain\n"
   ]
  },
  {
   "cell_type": "markdown",
   "metadata": {},
   "source": [
    "### Explainer using SHAP\n"
   ]
  },
  {
   "cell_type": "markdown",
   "metadata": {},
   "source": [
    "### Explainer using LIME\n"
   ]
  },
  {
   "cell_type": "code",
   "execution_count": 69,
   "metadata": {},
   "outputs": [],
   "source": [
    "import lime\n",
    "from sklearn.pipeline import Pipeline\n",
    "from lime import lime_text\n",
    "\n",
    "\n",
    "class SpamLimeExplainer:\n",
    "    def __init__(self, model, tokenizer, max_length=415):\n",
    "        self.model = model\n",
    "        self.tokenizer = tokenizer\n",
    "        self.max_length = max_length\n",
    "        self.explainer = lime_text.LimeTextExplainer(\n",
    "            class_names=[\"Truthful\", \"Deceptive\"],\n",
    "            bow=False,\n",
    "            split_expression=lambda x: x.split(),\n",
    "        )\n",
    "\n",
    "    def predictor(self, texts):\n",
    "        # Convert texts to sequences\n",
    "        sequences = self.tokenizer.texts_to_sequences(texts)\n",
    "        # Pad sequences\n",
    "        padded = pad_sequences(sequences, maxlen=self.max_length)\n",
    "        # Get predictions - provide the same input twice since model expects 2 inputs\n",
    "        predictions = self.model.predict([padded, padded])\n",
    "        # LIME expects 2D array with probabilities for each class\n",
    "        return np.hstack([1 - predictions, predictions])\n",
    "\n",
    "    def explain_instance(self, text, num_features=10):\n",
    "        \"\"\"\n",
    "        Generate LIME explanation for a single instance\n",
    "        \"\"\"\n",
    "        exp = self.explainer.explain_instance(\n",
    "            text, self.predictor, num_features=num_features, num_samples=1000\n",
    "        )\n",
    "        return exp\n",
    "\n",
    "    def visualize_explanation(self, explanation, save_path=None):\n",
    "        \"\"\"\n",
    "        Visualize LIME explanation\n",
    "        \"\"\"\n",
    "        html = explanation.as_html()\n",
    "        if save_path:\n",
    "            with open(save_path, \"w\", encoding=\"utf-8\") as f:\n",
    "                f.write(html)\n",
    "        return html\n",
    "\n",
    "    def explain_batch(self, texts, num_features=10):\n",
    "        \"\"\"\n",
    "        Generate explanations for multiple texts\n",
    "        \"\"\"\n",
    "        explanations = []\n",
    "        for text in texts:\n",
    "            exp = self.explain_instance(text, num_features)\n",
    "            explanations.append(exp)\n",
    "        return explanations\n",
    "\n",
    "    def get_top_features(self, explanation, positive_only=False):\n",
    "        \"\"\"\n",
    "        Extract top features from explanation\n",
    "        \"\"\"\n",
    "        features = explanation.as_list()\n",
    "        if positive_only:\n",
    "            features = [f for f in features if f[1] > 0]\n",
    "        return sorted(features, key=lambda x: abs(x[1]), reverse=True)"
   ]
  },
  {
   "cell_type": "code",
   "execution_count": 70,
   "metadata": {},
   "outputs": [
    {
     "name": "stdout",
     "output_type": "stream",
     "text": [
      "32/32 [==============================] - 36s 1s/step\n",
      "1/1 [==============================] - 0s 284ms/step\n",
      "Prediction: Truthful\n",
      "\n",
      "Top influencing words:\n",
      "The: -0.010\n"
     ]
    }
   ],
   "source": [
    "# Initialize explainer\n",
    "lime_explainer = SpamLimeExplainer(model=model, tokenizer=tokenizer)\n",
    "\n",
    "# Example text\n",
    "sample_text = \"The hotel was absolutely amazing with incredible service\"\n",
    "\n",
    "# Generate explanation\n",
    "explanation = lime_explainer.explain_instance(sample_text)\n",
    "\n",
    "# Get top features\n",
    "top_features = lime_explainer.get_top_features(explanation)\n",
    "\n",
    "# Print results\n",
    "sequence = tokenizer.texts_to_sequences([sample_text])\n",
    "padded_sequence = pad_sequences(sequence, maxlen=415)\n",
    "prediction = model.predict([padded_sequence, padded_sequence])\n",
    "\n",
    "print(\"Prediction:\", \"Deceptive\" if prediction[0][0] > 0.5 else \"Truthful\")\n",
    "print(\"\\nTop influencing words:\")\n",
    "for word, impact in top_features:\n",
    "    print(f\"{word}: {impact:.3f}\")"
   ]
  },
  {
   "cell_type": "markdown",
   "metadata": {},
   "source": [
    "Visualization\n"
   ]
  },
  {
   "cell_type": "code",
   "execution_count": 71,
   "metadata": {},
   "outputs": [],
   "source": [
    "def plot_lime_features(explanation, top_n=10):\n",
    "    \"\"\"\n",
    "    Create bar plot of feature importance\n",
    "    \"\"\"\n",
    "    features = explanation.as_list()[:top_n]\n",
    "    words, scores = zip(*features)\n",
    "\n",
    "    plt.figure(figsize=(10, 6))\n",
    "    colors = [\"red\" if s < 0 else \"green\" for s in scores]\n",
    "\n",
    "    plt.barh(range(len(words)), scores, color=colors)\n",
    "    plt.yticks(range(len(words)), words)\n",
    "    plt.xlabel(\"Impact on prediction\")\n",
    "    plt.title(\"Top features influencing prediction\")\n",
    "    plt.tight_layout()\n",
    "    return plt\n",
    "\n",
    "\n",
    "def compare_explanations(text, lime_exp, attention_weights):\n",
    "    \"\"\"\n",
    "    Compare LIME and attention explanations\n",
    "    \"\"\"\n",
    "    fig, (ax1, ax2) = plt.subplots(2, 1, figsize=(15, 10))\n",
    "\n",
    "    # LIME plot\n",
    "    features = lime_exp.as_list()\n",
    "    words, scores = zip(*features)\n",
    "    ax1.barh(range(len(words)), scores)\n",
    "    ax1.set_yticks(range(len(words)))\n",
    "    ax1.set_yticklabels(words)\n",
    "    ax1.set_title(\"LIME Explanation\")\n",
    "\n",
    "    # Attention plot\n",
    "    sns.heatmap(attention_weights.reshape(1, -1), ax=ax2, cmap=\"YlOrRd\")\n",
    "    ax2.set_title(\"Attention Weights\")\n",
    "\n",
    "    plt.tight_layout()\n",
    "    return fig"
   ]
  },
  {
   "cell_type": "code",
   "execution_count": 72,
   "metadata": {},
   "outputs": [],
   "source": [
    "def evaluate_with_explanations(model, X_test, y_test, texts, n_samples=100):\n",
    "    \"\"\"\n",
    "    Evaluate model with both metrics and explanations\n",
    "    \"\"\"\n",
    "    # Standard evaluation\n",
    "    metrics = evaluate_model(model, X_test, y_test)\n",
    "\n",
    "    # LIME explanations for subset\n",
    "    lime_explainer = SpamLimeExplainer(model, tokenizer)\n",
    "    sample_indices = np.random.choice(len(texts), n_samples, replace=False)\n",
    "    explanations = []\n",
    "\n",
    "    for idx in sample_indices:\n",
    "        exp = lime_explainer.explain_instance(texts[idx])\n",
    "        pred = model.predict(X_test[idx : idx + 1])[0]\n",
    "        explanations.append(\n",
    "            {\n",
    "                \"text\": texts[idx],\n",
    "                \"true_label\": y_test[idx],\n",
    "                \"predicted\": pred,\n",
    "                \"explanation\": exp,\n",
    "                \"top_features\": lime_explainer.get_top_features(exp),\n",
    "            }\n",
    "        )\n",
    "\n",
    "    return {\"metrics\": metrics, \"explanations\": explanations}"
   ]
  }
 ],
 "metadata": {
  "kernelspec": {
   "display_name": "aiapps",
   "language": "python",
   "name": "python3"
  },
  "language_info": {
   "codemirror_mode": {
    "name": "ipython",
    "version": 3
   },
   "file_extension": ".py",
   "mimetype": "text/x-python",
   "name": "python",
   "nbconvert_exporter": "python",
   "pygments_lexer": "ipython3",
   "version": "3.9.18"
  }
 },
 "nbformat": 4,
 "nbformat_minor": 1
}
