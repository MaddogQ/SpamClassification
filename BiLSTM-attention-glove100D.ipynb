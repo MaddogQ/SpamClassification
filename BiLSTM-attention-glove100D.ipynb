{
 "cells": [
  {
   "cell_type": "code",
   "execution_count": 1,
   "metadata": {
    "_cell_guid": "b1076dfc-b9ad-4769-8c92-a6c4dae69d19",
    "_uuid": "8f2839f25d086af736a60e9eeb907d3b93b6e0e5",
    "trusted": true
   },
   "outputs": [
    {
     "name": "stdout",
     "output_type": "stream",
     "text": [
      "['deceptive-opinion-spam-corpus', 'glove-global-vectors-for-word-representation', 'googles-trained-word2vec-model-in-python', 'yelp-test', 'yelp-train']\n"
     ]
    }
   ],
   "source": [
    "# This Python 3 environment comes with many helpful analytics libraries installed\n",
    "# It is defined by the kaggle/python docker image: https://github.com/kaggle/docker-python\n",
    "# For example, here's several helpful packages to load in\n",
    "\n",
    "import numpy as np  # linear algebra\n",
    "import pandas as pd  # data processing, CSV file I/O (e.g. pd.read_csv)\n",
    "import re\n",
    "from nltk.corpus import stopwords\n",
    "from bs4 import BeautifulSoup\n",
    "\n",
    "# Input data files are available in the \"./input/\" directory.\n",
    "# For example, running this (by clicking run or pressing Shift+Enter) will list the files in the input directory\n",
    "\n",
    "import os\n",
    "\n",
    "print(os.listdir(\"./input\"))\n",
    "\n",
    "# Any results you write to the current directory are saved as output."
   ]
  },
  {
   "cell_type": "code",
   "execution_count": null,
   "metadata": {
    "trusted": true
   },
   "outputs": [],
   "source": [
    "df = pd.read_csv(\n",
    "    \"./input/deceptive-opinion-spam-corpus/deceptive-opinion-augmented.csv\"\n",
    ")"
   ]
  },
  {
   "cell_type": "code",
   "execution_count": 3,
   "metadata": {
    "trusted": true
   },
   "outputs": [
    {
     "data": {
      "text/html": [
       "<div>\n",
       "<style scoped>\n",
       "    .dataframe tbody tr th:only-of-type {\n",
       "        vertical-align: middle;\n",
       "    }\n",
       "\n",
       "    .dataframe tbody tr th {\n",
       "        vertical-align: top;\n",
       "    }\n",
       "\n",
       "    .dataframe thead th {\n",
       "        text-align: right;\n",
       "    }\n",
       "</style>\n",
       "<table border=\"1\" class=\"dataframe\">\n",
       "  <thead>\n",
       "    <tr style=\"text-align: right;\">\n",
       "      <th></th>\n",
       "      <th>deceptive</th>\n",
       "      <th>hotel</th>\n",
       "      <th>polarity</th>\n",
       "      <th>source</th>\n",
       "      <th>text</th>\n",
       "    </tr>\n",
       "  </thead>\n",
       "  <tbody>\n",
       "    <tr>\n",
       "      <th>0</th>\n",
       "      <td>truthful</td>\n",
       "      <td>conrad</td>\n",
       "      <td>positive</td>\n",
       "      <td>TripAdvisor</td>\n",
       "      <td>We stay for a one night getaway with family on...</td>\n",
       "    </tr>\n",
       "    <tr>\n",
       "      <th>1</th>\n",
       "      <td>truthful</td>\n",
       "      <td>conrad</td>\n",
       "      <td>positive</td>\n",
       "      <td>TripAdvisor</td>\n",
       "      <td>We stayed here for a one night family getaway ...</td>\n",
       "    </tr>\n",
       "    <tr>\n",
       "      <th>2</th>\n",
       "      <td>truthful</td>\n",
       "      <td>hyatt</td>\n",
       "      <td>positive</td>\n",
       "      <td>TripAdvisor</td>\n",
       "      <td>triple A rate with upgrade to view room was le...</td>\n",
       "    </tr>\n",
       "    <tr>\n",
       "      <th>3</th>\n",
       "      <td>truthful</td>\n",
       "      <td>hyatt</td>\n",
       "      <td>positive</td>\n",
       "      <td>TripAdvisor</td>\n",
       "      <td>The Triple A rate with a view room upgrade was...</td>\n",
       "    </tr>\n",
       "    <tr>\n",
       "      <th>4</th>\n",
       "      <td>truthful</td>\n",
       "      <td>hyatt</td>\n",
       "      <td>positive</td>\n",
       "      <td>TripAdvisor</td>\n",
       "      <td>This semen a little late as I'm finally catchi...</td>\n",
       "    </tr>\n",
       "  </tbody>\n",
       "</table>\n",
       "</div>"
      ],
      "text/plain": [
       "  deceptive   hotel  polarity       source  \\\n",
       "0  truthful  conrad  positive  TripAdvisor   \n",
       "1  truthful  conrad  positive  TripAdvisor   \n",
       "2  truthful   hyatt  positive  TripAdvisor   \n",
       "3  truthful   hyatt  positive  TripAdvisor   \n",
       "4  truthful   hyatt  positive  TripAdvisor   \n",
       "\n",
       "                                                text  \n",
       "0  We stay for a one night getaway with family on...  \n",
       "1  We stayed here for a one night family getaway ...  \n",
       "2  triple A rate with upgrade to view room was le...  \n",
       "3  The Triple A rate with a view room upgrade was...  \n",
       "4  This semen a little late as I'm finally catchi...  "
      ]
     },
     "execution_count": 3,
     "metadata": {},
     "output_type": "execute_result"
    }
   ],
   "source": [
    "df.head()"
   ]
  },
  {
   "cell_type": "code",
   "execution_count": 4,
   "metadata": {
    "trusted": true
   },
   "outputs": [],
   "source": [
    "df = df.drop([\"hotel\", \"polarity\", \"source\"], axis=1)"
   ]
  },
  {
   "cell_type": "code",
   "execution_count": 5,
   "metadata": {
    "trusted": true
   },
   "outputs": [
    {
     "data": {
      "text/html": [
       "<div>\n",
       "<style scoped>\n",
       "    .dataframe tbody tr th:only-of-type {\n",
       "        vertical-align: middle;\n",
       "    }\n",
       "\n",
       "    .dataframe tbody tr th {\n",
       "        vertical-align: top;\n",
       "    }\n",
       "\n",
       "    .dataframe thead th {\n",
       "        text-align: right;\n",
       "    }\n",
       "</style>\n",
       "<table border=\"1\" class=\"dataframe\">\n",
       "  <thead>\n",
       "    <tr style=\"text-align: right;\">\n",
       "      <th></th>\n",
       "      <th>deceptive</th>\n",
       "      <th>text</th>\n",
       "    </tr>\n",
       "  </thead>\n",
       "  <tbody>\n",
       "    <tr>\n",
       "      <th>0</th>\n",
       "      <td>truthful</td>\n",
       "      <td>We stay for a one night getaway with family on...</td>\n",
       "    </tr>\n",
       "    <tr>\n",
       "      <th>1</th>\n",
       "      <td>truthful</td>\n",
       "      <td>We stayed here for a one night family getaway ...</td>\n",
       "    </tr>\n",
       "    <tr>\n",
       "      <th>2</th>\n",
       "      <td>truthful</td>\n",
       "      <td>triple A rate with upgrade to view room was le...</td>\n",
       "    </tr>\n",
       "    <tr>\n",
       "      <th>3</th>\n",
       "      <td>truthful</td>\n",
       "      <td>The Triple A rate with a view room upgrade was...</td>\n",
       "    </tr>\n",
       "    <tr>\n",
       "      <th>4</th>\n",
       "      <td>truthful</td>\n",
       "      <td>This semen a little late as I'm finally catchi...</td>\n",
       "    </tr>\n",
       "  </tbody>\n",
       "</table>\n",
       "</div>"
      ],
      "text/plain": [
       "  deceptive                                               text\n",
       "0  truthful  We stay for a one night getaway with family on...\n",
       "1  truthful  We stayed here for a one night family getaway ...\n",
       "2  truthful  triple A rate with upgrade to view room was le...\n",
       "3  truthful  The Triple A rate with a view room upgrade was...\n",
       "4  truthful  This semen a little late as I'm finally catchi..."
      ]
     },
     "execution_count": 5,
     "metadata": {},
     "output_type": "execute_result"
    }
   ],
   "source": [
    "df.head()"
   ]
  },
  {
   "cell_type": "code",
   "execution_count": 6,
   "metadata": {
    "trusted": true
   },
   "outputs": [],
   "source": [
    "df1 = df.sample(frac=1)"
   ]
  },
  {
   "cell_type": "code",
   "execution_count": 7,
   "metadata": {
    "trusted": true
   },
   "outputs": [
    {
     "data": {
      "text/html": [
       "<div>\n",
       "<style scoped>\n",
       "    .dataframe tbody tr th:only-of-type {\n",
       "        vertical-align: middle;\n",
       "    }\n",
       "\n",
       "    .dataframe tbody tr th {\n",
       "        vertical-align: top;\n",
       "    }\n",
       "\n",
       "    .dataframe thead th {\n",
       "        text-align: right;\n",
       "    }\n",
       "</style>\n",
       "<table border=\"1\" class=\"dataframe\">\n",
       "  <thead>\n",
       "    <tr style=\"text-align: right;\">\n",
       "      <th></th>\n",
       "      <th>deceptive</th>\n",
       "      <th>text</th>\n",
       "    </tr>\n",
       "  </thead>\n",
       "  <tbody>\n",
       "    <tr>\n",
       "      <th>291</th>\n",
       "      <td>truthful</td>\n",
       "      <td>I booked this hotel through Priceline and wasn...</td>\n",
       "    </tr>\n",
       "    <tr>\n",
       "      <th>1804</th>\n",
       "      <td>truthful</td>\n",
       "      <td>We stay at this hotel for a conference. The lo...</td>\n",
       "    </tr>\n",
       "    <tr>\n",
       "      <th>1256</th>\n",
       "      <td>deceptive</td>\n",
       "      <td>This hotel Washington everything we were looki...</td>\n",
       "    </tr>\n",
       "    <tr>\n",
       "      <th>2175</th>\n",
       "      <td>truthful</td>\n",
       "      <td>The service was pretty good...they seemed to h...</td>\n",
       "    </tr>\n",
       "    <tr>\n",
       "      <th>1574</th>\n",
       "      <td>deceptive</td>\n",
       "      <td>very beautiful hotel. The historic features of...</td>\n",
       "    </tr>\n",
       "  </tbody>\n",
       "</table>\n",
       "</div>"
      ],
      "text/plain": [
       "      deceptive                                               text\n",
       "291    truthful  I booked this hotel through Priceline and wasn...\n",
       "1804   truthful  We stay at this hotel for a conference. The lo...\n",
       "1256  deceptive  This hotel Washington everything we were looki...\n",
       "2175   truthful  The service was pretty good...they seemed to h...\n",
       "1574  deceptive  very beautiful hotel. The historic features of..."
      ]
     },
     "execution_count": 7,
     "metadata": {},
     "output_type": "execute_result"
    }
   ],
   "source": [
    "df1.head()"
   ]
  },
  {
   "cell_type": "code",
   "execution_count": 8,
   "metadata": {
    "trusted": true
   },
   "outputs": [
    {
     "data": {
      "text/plain": [
       "array([1, 0])"
      ]
     },
     "execution_count": 8,
     "metadata": {},
     "output_type": "execute_result"
    }
   ],
   "source": [
    "from sklearn import preprocessing\n",
    "\n",
    "# label_encoder object knows how to understand word labels.\n",
    "label_encoder = preprocessing.LabelEncoder()\n",
    "\n",
    "# Encode labels in column 'species'.\n",
    "df1[\"deceptive\"] = label_encoder.fit_transform(df1[\"deceptive\"])\n",
    "\n",
    "df1[\"deceptive\"].unique()"
   ]
  },
  {
   "cell_type": "code",
   "execution_count": 9,
   "metadata": {
    "trusted": true
   },
   "outputs": [
    {
     "data": {
      "text/html": [
       "<div>\n",
       "<style scoped>\n",
       "    .dataframe tbody tr th:only-of-type {\n",
       "        vertical-align: middle;\n",
       "    }\n",
       "\n",
       "    .dataframe tbody tr th {\n",
       "        vertical-align: top;\n",
       "    }\n",
       "\n",
       "    .dataframe thead th {\n",
       "        text-align: right;\n",
       "    }\n",
       "</style>\n",
       "<table border=\"1\" class=\"dataframe\">\n",
       "  <thead>\n",
       "    <tr style=\"text-align: right;\">\n",
       "      <th></th>\n",
       "      <th>deceptive</th>\n",
       "      <th>text</th>\n",
       "    </tr>\n",
       "  </thead>\n",
       "  <tbody>\n",
       "    <tr>\n",
       "      <th>291</th>\n",
       "      <td>1</td>\n",
       "      <td>I booked this hotel through Priceline and wasn...</td>\n",
       "    </tr>\n",
       "    <tr>\n",
       "      <th>1804</th>\n",
       "      <td>1</td>\n",
       "      <td>We stay at this hotel for a conference. The lo...</td>\n",
       "    </tr>\n",
       "    <tr>\n",
       "      <th>1256</th>\n",
       "      <td>0</td>\n",
       "      <td>This hotel Washington everything we were looki...</td>\n",
       "    </tr>\n",
       "    <tr>\n",
       "      <th>2175</th>\n",
       "      <td>1</td>\n",
       "      <td>The service was pretty good...they seemed to h...</td>\n",
       "    </tr>\n",
       "    <tr>\n",
       "      <th>1574</th>\n",
       "      <td>0</td>\n",
       "      <td>very beautiful hotel. The historic features of...</td>\n",
       "    </tr>\n",
       "  </tbody>\n",
       "</table>\n",
       "</div>"
      ],
      "text/plain": [
       "      deceptive                                               text\n",
       "291           1  I booked this hotel through Priceline and wasn...\n",
       "1804          1  We stay at this hotel for a conference. The lo...\n",
       "1256          0  This hotel Washington everything we were looki...\n",
       "2175          1  The service was pretty good...they seemed to h...\n",
       "1574          0  very beautiful hotel. The historic features of..."
      ]
     },
     "execution_count": 9,
     "metadata": {},
     "output_type": "execute_result"
    }
   ],
   "source": [
    "df1.head()"
   ]
  },
  {
   "cell_type": "code",
   "execution_count": 10,
   "metadata": {
    "trusted": true
   },
   "outputs": [
    {
     "data": {
      "text/html": [
       "<div>\n",
       "<style scoped>\n",
       "    .dataframe tbody tr th:only-of-type {\n",
       "        vertical-align: middle;\n",
       "    }\n",
       "\n",
       "    .dataframe tbody tr th {\n",
       "        vertical-align: top;\n",
       "    }\n",
       "\n",
       "    .dataframe thead th {\n",
       "        text-align: right;\n",
       "    }\n",
       "</style>\n",
       "<table border=\"1\" class=\"dataframe\">\n",
       "  <thead>\n",
       "    <tr style=\"text-align: right;\">\n",
       "      <th></th>\n",
       "      <th>deceptive</th>\n",
       "    </tr>\n",
       "  </thead>\n",
       "  <tbody>\n",
       "    <tr>\n",
       "      <th>count</th>\n",
       "      <td>3200.000000</td>\n",
       "    </tr>\n",
       "    <tr>\n",
       "      <th>mean</th>\n",
       "      <td>0.500000</td>\n",
       "    </tr>\n",
       "    <tr>\n",
       "      <th>std</th>\n",
       "      <td>0.500078</td>\n",
       "    </tr>\n",
       "    <tr>\n",
       "      <th>min</th>\n",
       "      <td>0.000000</td>\n",
       "    </tr>\n",
       "    <tr>\n",
       "      <th>25%</th>\n",
       "      <td>0.000000</td>\n",
       "    </tr>\n",
       "    <tr>\n",
       "      <th>50%</th>\n",
       "      <td>0.500000</td>\n",
       "    </tr>\n",
       "    <tr>\n",
       "      <th>75%</th>\n",
       "      <td>1.000000</td>\n",
       "    </tr>\n",
       "    <tr>\n",
       "      <th>max</th>\n",
       "      <td>1.000000</td>\n",
       "    </tr>\n",
       "  </tbody>\n",
       "</table>\n",
       "</div>"
      ],
      "text/plain": [
       "         deceptive\n",
       "count  3200.000000\n",
       "mean      0.500000\n",
       "std       0.500078\n",
       "min       0.000000\n",
       "25%       0.000000\n",
       "50%       0.500000\n",
       "75%       1.000000\n",
       "max       1.000000"
      ]
     },
     "execution_count": 10,
     "metadata": {},
     "output_type": "execute_result"
    }
   ],
   "source": [
    "df1.describe()"
   ]
  },
  {
   "cell_type": "code",
   "execution_count": 11,
   "metadata": {
    "trusted": true
   },
   "outputs": [],
   "source": [
    "X = df1.text\n",
    "y = df1.deceptive"
   ]
  },
  {
   "cell_type": "code",
   "execution_count": 12,
   "metadata": {
    "trusted": true
   },
   "outputs": [],
   "source": [
    "# Some preprocesssing that will be common to all the text classification methods\n",
    "\n",
    "puncts = [\n",
    "    \",\",\n",
    "    \".\",\n",
    "    '\"',\n",
    "    \":\",\n",
    "    \")\",\n",
    "    \"(\",\n",
    "    \"-\",\n",
    "    \"!\",\n",
    "    \"?\",\n",
    "    \"|\",\n",
    "    \";\",\n",
    "    \"'\",\n",
    "    \"$\",\n",
    "    \"&\",\n",
    "    \"/\",\n",
    "    \"[\",\n",
    "    \"]\",\n",
    "    \">\",\n",
    "    \"%\",\n",
    "    \"=\",\n",
    "    \"#\",\n",
    "    \"*\",\n",
    "    \"+\",\n",
    "    \"\\\\\",\n",
    "    \"•\",\n",
    "    \"~\",\n",
    "    \"@\",\n",
    "    \"£\",\n",
    "    \"·\",\n",
    "    \"_\",\n",
    "    \"{\",\n",
    "    \"}\",\n",
    "    \"©\",\n",
    "    \"^\",\n",
    "    \"®\",\n",
    "    \"`\",\n",
    "    \"<\",\n",
    "    \"→\",\n",
    "    \"°\",\n",
    "    \"€\",\n",
    "    \"™\",\n",
    "    \"›\",\n",
    "    \"♥\",\n",
    "    \"←\",\n",
    "    \"×\",\n",
    "    \"§\",\n",
    "    \"″\",\n",
    "    \"′\",\n",
    "    \"Â\",\n",
    "    \"█\",\n",
    "    \"½\",\n",
    "    \"à\",\n",
    "    \"…\",\n",
    "    \"“\",\n",
    "    \"★\",\n",
    "    \"”\",\n",
    "    \"–\",\n",
    "    \"●\",\n",
    "    \"â\",\n",
    "    \"►\",\n",
    "    \"−\",\n",
    "    \"¢\",\n",
    "    \"²\",\n",
    "    \"¬\",\n",
    "    \"░\",\n",
    "    \"¶\",\n",
    "    \"↑\",\n",
    "    \"±\",\n",
    "    \"¿\",\n",
    "    \"▾\",\n",
    "    \"═\",\n",
    "    \"¦\",\n",
    "    \"║\",\n",
    "    \"―\",\n",
    "    \"¥\",\n",
    "    \"▓\",\n",
    "    \"—\",\n",
    "    \"‹\",\n",
    "    \"─\",\n",
    "    \"▒\",\n",
    "    \"：\",\n",
    "    \"¼\",\n",
    "    \"⊕\",\n",
    "    \"▼\",\n",
    "    \"▪\",\n",
    "    \"†\",\n",
    "    \"■\",\n",
    "    \"’\",\n",
    "    \"▀\",\n",
    "    \"¨\",\n",
    "    \"▄\",\n",
    "    \"♫\",\n",
    "    \"☆\",\n",
    "    \"é\",\n",
    "    \"¯\",\n",
    "    \"♦\",\n",
    "    \"¤\",\n",
    "    \"▲\",\n",
    "    \"è\",\n",
    "    \"¸\",\n",
    "    \"¾\",\n",
    "    \"Ã\",\n",
    "    \"⋅\",\n",
    "    \"‘\",\n",
    "    \"∞\",\n",
    "    \"∙\",\n",
    "    \"）\",\n",
    "    \"↓\",\n",
    "    \"、\",\n",
    "    \"│\",\n",
    "    \"（\",\n",
    "    \"»\",\n",
    "    \"，\",\n",
    "    \"♪\",\n",
    "    \"╩\",\n",
    "    \"╚\",\n",
    "    \"³\",\n",
    "    \"・\",\n",
    "    \"╦\",\n",
    "    \"╣\",\n",
    "    \"╔\",\n",
    "    \"╗\",\n",
    "    \"▬\",\n",
    "    \"❤\",\n",
    "    \"ï\",\n",
    "    \"Ø\",\n",
    "    \"¹\",\n",
    "    \"≤\",\n",
    "    \"‡\",\n",
    "    \"√\",\n",
    "]\n",
    "\n",
    "\n",
    "def clean_text(x):\n",
    "    x = str(x)\n",
    "    for punct in puncts:\n",
    "        if punct in x:\n",
    "            x = x.replace(punct, f\" {punct} \")\n",
    "    return x"
   ]
  },
  {
   "cell_type": "code",
   "execution_count": 13,
   "metadata": {
    "trusted": true
   },
   "outputs": [],
   "source": [
    "def clean_numbers(x):\n",
    "    if bool(re.search(r\"\\d\", x)):\n",
    "        x = re.sub(\"[0-9]{5,}\", \"#####\", x)\n",
    "        x = re.sub(\"[0-9]{4}\", \"####\", x)\n",
    "        x = re.sub(\"[0-9]{3}\", \"###\", x)\n",
    "        x = re.sub(\"[0-9]{2}\", \"##\", x)\n",
    "    return x"
   ]
  },
  {
   "cell_type": "code",
   "execution_count": 14,
   "metadata": {
    "trusted": true
   },
   "outputs": [
    {
     "data": {
      "text/html": [
       "<div>\n",
       "<style scoped>\n",
       "    .dataframe tbody tr th:only-of-type {\n",
       "        vertical-align: middle;\n",
       "    }\n",
       "\n",
       "    .dataframe tbody tr th {\n",
       "        vertical-align: top;\n",
       "    }\n",
       "\n",
       "    .dataframe thead th {\n",
       "        text-align: right;\n",
       "    }\n",
       "</style>\n",
       "<table border=\"1\" class=\"dataframe\">\n",
       "  <thead>\n",
       "    <tr style=\"text-align: right;\">\n",
       "      <th></th>\n",
       "      <th>deceptive</th>\n",
       "      <th>text</th>\n",
       "    </tr>\n",
       "  </thead>\n",
       "  <tbody>\n",
       "    <tr>\n",
       "      <th>291</th>\n",
       "      <td>1</td>\n",
       "      <td>I booked this hotel through Priceline and wasn...</td>\n",
       "    </tr>\n",
       "    <tr>\n",
       "      <th>1804</th>\n",
       "      <td>1</td>\n",
       "      <td>We stay at this hotel for a conference. The lo...</td>\n",
       "    </tr>\n",
       "    <tr>\n",
       "      <th>1256</th>\n",
       "      <td>0</td>\n",
       "      <td>This hotel Washington everything we were looki...</td>\n",
       "    </tr>\n",
       "    <tr>\n",
       "      <th>2175</th>\n",
       "      <td>1</td>\n",
       "      <td>The service was pretty good...they seemed to h...</td>\n",
       "    </tr>\n",
       "    <tr>\n",
       "      <th>1574</th>\n",
       "      <td>0</td>\n",
       "      <td>very beautiful hotel. The historic features of...</td>\n",
       "    </tr>\n",
       "  </tbody>\n",
       "</table>\n",
       "</div>"
      ],
      "text/plain": [
       "      deceptive                                               text\n",
       "291           1  I booked this hotel through Priceline and wasn...\n",
       "1804          1  We stay at this hotel for a conference. The lo...\n",
       "1256          0  This hotel Washington everything we were looki...\n",
       "2175          1  The service was pretty good...they seemed to h...\n",
       "1574          0  very beautiful hotel. The historic features of..."
      ]
     },
     "execution_count": 14,
     "metadata": {},
     "output_type": "execute_result"
    }
   ],
   "source": [
    "df1.head()"
   ]
  },
  {
   "cell_type": "code",
   "execution_count": 15,
   "metadata": {
    "trusted": true
   },
   "outputs": [
    {
     "name": "stderr",
     "output_type": "stream",
     "text": [
      "C:\\Users\\james\\AppData\\Local\\Temp\\ipykernel_39596\\3780177185.py:12: MarkupResemblesLocatorWarning: The input looks more like a filename than markup. You may want to open this file and pass the filehandle into Beautiful Soup.\n",
      "  text = BeautifulSoup(text, \"lxml\").text  # HTML decoding\n"
     ]
    }
   ],
   "source": [
    "REPLACE_BY_SPACE_RE = re.compile(\"[/(){}\\[\\]\\|@,;]\")\n",
    "BAD_SYMBOLS_RE = re.compile(\"[^0-9a-z #+_]\")\n",
    "STOPWORDS = set(stopwords.words(\"english\"))\n",
    "\n",
    "\n",
    "def clean_data(text):\n",
    "    \"\"\"\n",
    "    text: a string\n",
    "\n",
    "    return: modified initial string\n",
    "    \"\"\"\n",
    "    text = BeautifulSoup(text, \"lxml\").text  # HTML decoding\n",
    "    text = text.lower().split()\n",
    "    text = \" \".join(text)\n",
    "    text = re.sub(r\"[^A-Za-z0-9^,!.\\/'+\\-=]\", \" \", text)\n",
    "    text = re.sub(r\"what's\", \"what is \", text)\n",
    "    text = re.sub(r\"\\'s\", \" \", text)\n",
    "    text = re.sub(r\"\\'ve\", \" have \", text)\n",
    "    text = re.sub(r\"can't\", \"cannot \", text)\n",
    "    text = re.sub(r\"n't\", \" not \", text)\n",
    "    text = re.sub(r\"i'm\", \"i am \", text)\n",
    "    text = re.sub(r\"\\'re\", \" are \", text)\n",
    "    text = re.sub(r\"\\'d\", \" would \", text)\n",
    "    text = re.sub(r\"\\'ll\", \" will \", text)\n",
    "    text = re.sub(r\",\", \" \", text)\n",
    "    text = re.sub(r\"\\.\", \" \", text)\n",
    "    text = re.sub(r\"!\", \" ! \", text)\n",
    "    text = re.sub(r\"\\/\", \" \", text)\n",
    "    text = re.sub(r\"\\^\", \" ^ \", text)\n",
    "    text = re.sub(r\"\\+\", \" + \", text)\n",
    "    text = re.sub(r\"\\-\", \" - \", text)\n",
    "    text = re.sub(r\"\\=\", \" = \", text)\n",
    "    text = re.sub(r\"'\", \" \", text)\n",
    "    text = re.sub(r\"(\\d+)(k)\", r\"\\g<1>000\", text)\n",
    "    text = re.sub(r\":\", \" : \", text)\n",
    "    text = re.sub(r\" e g \", \" eg \", text)\n",
    "    text = re.sub(r\" b g \", \" bg \", text)\n",
    "    text = re.sub(r\" u s \", \" american \", text)\n",
    "    text = re.sub(r\"\\0s\", \"0\", text)\n",
    "    text = re.sub(r\" 9 11 \", \"911\", text)\n",
    "    text = re.sub(r\"e - mail\", \"email\", text)\n",
    "    text = re.sub(r\"j k\", \"jk\", text)\n",
    "    text = re.sub(r\"\\s{2,}\", \" \", text)\n",
    "\n",
    "    return text\n",
    "\n",
    "\n",
    "df1[\"text\"] = df1[\"text\"].apply(clean_data)"
   ]
  },
  {
   "cell_type": "code",
   "execution_count": 16,
   "metadata": {
    "trusted": true
   },
   "outputs": [],
   "source": [
    "X = df1.text\n",
    "y = df1.deceptive"
   ]
  },
  {
   "cell_type": "code",
   "execution_count": 17,
   "metadata": {
    "trusted": true
   },
   "outputs": [],
   "source": [
    "X = X.map(lambda a: clean_data(a))"
   ]
  },
  {
   "cell_type": "code",
   "execution_count": 18,
   "metadata": {
    "trusted": true
   },
   "outputs": [],
   "source": [
    "from __future__ import print_function\n",
    "from keras.preprocessing.text import text_to_word_sequence\n",
    "import pandas as pd\n",
    "from keras.preprocessing.text import Tokenizer\n",
    "import numpy as np\n",
    "from bs4 import BeautifulSoup\n",
    "import logging\n",
    "from numpy import random\n",
    "import gensim\n",
    "import nltk\n",
    "from sklearn.model_selection import train_test_split\n",
    "from sklearn.feature_extraction.text import CountVectorizer, TfidfVectorizer\n",
    "from sklearn.metrics import accuracy_score, confusion_matrix\n",
    "\n",
    "from keras.preprocessing import sequence\n",
    "from keras.models import Sequential\n",
    "from keras.layers import Dense, Dropout, Activation, MaxPooling1D, Flatten\n",
    "from keras.layers import Embedding\n",
    "from keras.layers import Conv1D, GlobalMaxPooling1D, BatchNormalization\n",
    "from keras.callbacks import EarlyStopping\n",
    "from keras.regularizers import l2\n",
    "from keras import initializers, regularizers, constraints"
   ]
  },
  {
   "cell_type": "code",
   "execution_count": 19,
   "metadata": {
    "trusted": true
   },
   "outputs": [],
   "source": [
    "train, test, y_train, y_test = train_test_split(X, y, stratify=y, random_state=42)"
   ]
  },
  {
   "cell_type": "code",
   "execution_count": null,
   "metadata": {
    "trusted": true
   },
   "outputs": [],
   "source": [
    "tokenizer = Tokenizer(\n",
    "    num_words=None,\n",
    "    lower=True,\n",
    "\n",
    "    filters='!\"#$%&()*+,-./:;<=>?@[\\\\]^_`{|}~\\t\\n',\n",
    "    split=\" \",\n",
    "    char_level=False,\n",
    ")"
   ]
  },
  {
   "cell_type": "code",
   "execution_count": 21,
   "metadata": {
    "trusted": true
   },
   "outputs": [],
   "source": [
    "tokenizer.fit_on_texts(X)"
   ]
  },
  {
   "cell_type": "code",
   "execution_count": 22,
   "metadata": {
    "trusted": true
   },
   "outputs": [],
   "source": [
    "x_train = tokenizer.texts_to_sequences(train)"
   ]
  },
  {
   "cell_type": "code",
   "execution_count": 23,
   "metadata": {
    "trusted": true
   },
   "outputs": [],
   "source": [
    "x_test = tokenizer.texts_to_sequences(test)"
   ]
  },
  {
   "cell_type": "code",
   "execution_count": 24,
   "metadata": {
    "trusted": true
   },
   "outputs": [],
   "source": [
    "word_index = tokenizer.word_index"
   ]
  },
  {
   "cell_type": "code",
   "execution_count": 25,
   "metadata": {
    "trusted": true
   },
   "outputs": [],
   "source": [
    "X = tokenizer.texts_to_sequences(X)"
   ]
  },
  {
   "cell_type": "code",
   "execution_count": 26,
   "metadata": {
    "trusted": true
   },
   "outputs": [
    {
     "name": "stdout",
     "output_type": "stream",
     "text": [
      "Vocab size: 10519\n",
      "Longest comment size: 795\n",
      "Average comment size: 149.3659375\n",
      "Stdev of comment size: 87.39788056495475\n",
      "Max comment size: 411\n"
     ]
    }
   ],
   "source": [
    "vocab_size = len(word_index)\n",
    "print(\"Vocab size: {}\".format(vocab_size))\n",
    "longest = max(len(seq) for seq in X)\n",
    "print(\"Longest comment size: {}\".format(longest))\n",
    "average = np.mean([len(seq) for seq in X])\n",
    "print(\"Average comment size: {}\".format(average))\n",
    "stdev = np.std([len(seq) for seq in X])\n",
    "print(\"Stdev of comment size: {}\".format(stdev))\n",
    "max_len = int(average + stdev * 3)\n",
    "print(\"Max comment size: {}\".format(max_len))"
   ]
  },
  {
   "cell_type": "code",
   "execution_count": 27,
   "metadata": {
    "trusted": true
   },
   "outputs": [],
   "source": [
    "from tensorflow.keras.preprocessing.sequence import pad_sequences"
   ]
  },
  {
   "cell_type": "code",
   "execution_count": 28,
   "metadata": {
    "trusted": true
   },
   "outputs": [],
   "source": [
    "processed_post_x_train = pad_sequences(\n",
    "    x_train, maxlen=max_len, padding=\"post\", truncating=\"post\"\n",
    ")\n",
    "processed_post_x_test = pad_sequences(\n",
    "    x_test, maxlen=max_len, padding=\"post\", truncating=\"post\"\n",
    ")"
   ]
  },
  {
   "cell_type": "code",
   "execution_count": 29,
   "metadata": {
    "trusted": true
   },
   "outputs": [],
   "source": [
    "processed_x_train = pad_sequences(x_train, maxlen=max_len)\n",
    "processed_x_test = pad_sequences(x_test, maxlen=max_len)"
   ]
  },
  {
   "cell_type": "code",
   "execution_count": 30,
   "metadata": {
    "trusted": true
   },
   "outputs": [],
   "source": [
    "processed_pre_x_train = pad_sequences(x_train, maxlen=max_len)\n",
    "processed_pre_x_test = pad_sequences(x_test, maxlen=max_len)"
   ]
  },
  {
   "cell_type": "code",
   "execution_count": 31,
   "metadata": {
    "trusted": true
   },
   "outputs": [
    {
     "name": "stdout",
     "output_type": "stream",
     "text": [
      "x_train shape: (2400, 411)\n",
      "x_test shape: (800, 411)\n"
     ]
    }
   ],
   "source": [
    "print(\"x_train shape:\", processed_x_train.shape)\n",
    "print(\"x_test shape:\", processed_x_test.shape)"
   ]
  },
  {
   "cell_type": "code",
   "execution_count": null,
   "metadata": {
    "trusted": true
   },
   "outputs": [],
   "source": [
    "import matplotlib.pyplot as plt\n",
    "from keras import backend as K\n",
    "from keras.layers import (\n",
    "    LSTM,\n",
    "    Activation,\n",
    "    BatchNormalization,\n",
    "    Bidirectional,\n",
    "    Conv1D,\n",
    "    CuDNNGRU,\n",
    "    Dense,\n",
    "    Dropout,\n",
    "    Embedding,\n",
    "    GlobalMaxPooling1D,\n",
    "    Input,\n",
    "    MaxPooling1D,\n",
    "    concatenate,\n",
    ")\n",
    "from keras.models import Model, Sequential, load_model\n",
    "from keras.optimizers import Nadam\n",
    "from keras.utils.vis_utils import plot_model\n",
    "from tensorflow.keras.layers import AdditiveAttention, Embedding, Layer, concatenate"
   ]
  },
  {
   "cell_type": "code",
   "execution_count": 35,
   "metadata": {
    "trusted": true
   },
   "outputs": [
    {
     "name": "stdout",
     "output_type": "stream",
     "text": [
      "Found 400000 word vectors.\n"
     ]
    }
   ],
   "source": [
    "embeddings_index = {}\n",
    "f = open(\n",
    "    os.path.join(\n",
    "        \"./input/glove-global-vectors-for-word-representation\", \"glove.6B.100d.txt\"\n",
    "    )\n",
    ")\n",
    "for line in f:\n",
    "    values = line.split()\n",
    "    word = values[0]\n",
    "    coefs = np.asarray(values[1:], dtype=\"float32\")\n",
    "    embeddings_index[word] = coefs\n",
    "f.close()\n",
    "print(\"Found %s word vectors.\" % len(embeddings_index))"
   ]
  },
  {
   "cell_type": "code",
   "execution_count": 36,
   "metadata": {
    "trusted": true
   },
   "outputs": [],
   "source": [
    "embedding_dim = 100\n",
    "k = 0\n",
    "embedding_matrix = np.zeros((len(word_index) + 1, embedding_dim))\n",
    "for word, i in word_index.items():\n",
    "    embedding_vector = embeddings_index.get(word)\n",
    "    if embedding_vector is not None:\n",
    "        # Words not found in embedding index will be all-zeros.\n",
    "        k += 1\n",
    "        embedding_matrix[i] = embedding_vector"
   ]
  },
  {
   "cell_type": "code",
   "execution_count": 63,
   "metadata": {
    "trusted": true
   },
   "outputs": [],
   "source": [
    "class Attention(Layer):\n",
    "    def __init__(\n",
    "        self,\n",
    "        step_dim,\n",
    "        W_regularizer=None,\n",
    "        b_regularizer=None,\n",
    "        W_constraint=None,\n",
    "        b_constraint=None,\n",
    "        bias=True,\n",
    "        **kwargs\n",
    "    ):\n",
    "        \"\"\"\n",
    "        Keras Layer that implements an Attention mechanism for temporal data.\n",
    "        Supports Masking.\n",
    "        Follows the work of Raffel et al. [https://arxiv.org/abs/1512.08756]\n",
    "        # Input shape\n",
    "            3D tensor with shape: `(samples, steps, features)`.\n",
    "        # Output shape\n",
    "            2D tensor with shape: `(samples, features)`.\n",
    "        :param kwargs:\n",
    "        Just put it on top of an RNN Layer (GRU/LSTM/SimpleRNN) with return_sequences=True.\n",
    "        The dimensions are inferred based on the output shape of the RNN.\n",
    "        Example:\n",
    "            model.add(LSTM(64, return_sequences=True))\n",
    "            model.add(Attention())\n",
    "        \"\"\"\n",
    "        self.supports_masking = True\n",
    "        # self.init = initializations.get('glorot_uniform')\n",
    "        self.init = initializers.get(\"glorot_uniform\")\n",
    "\n",
    "        self.W_regularizer = regularizers.get(W_regularizer)\n",
    "        self.b_regularizer = regularizers.get(b_regularizer)\n",
    "\n",
    "        self.W_constraint = constraints.get(W_constraint)\n",
    "        self.b_constraint = constraints.get(b_constraint)\n",
    "\n",
    "        self.bias = bias\n",
    "        self.step_dim = step_dim\n",
    "        self.features_dim = 0\n",
    "        super(Attention, self).__init__(**kwargs)\n",
    "\n",
    "    def build(self, input_shape):\n",
    "        assert len(input_shape) == 3\n",
    "\n",
    "        # self.W = self.add_weight((input_shape[-1],),\n",
    "        #                          initializer=self.init,\n",
    "        #                          name='{}_W'.format(self.name),\n",
    "        #                          regularizer=self.W_regularizer,\n",
    "        #                          constraint=self.W_constraint)\n",
    "\n",
    "        self.W = self.add_weight(\n",
    "            shape=(input_shape[-1],),\n",
    "            initializer=self.init,  # ensure `init` is set up as a valid initializer\n",
    "            name=\"W\",\n",
    "            regularizer=self.W_regularizer,\n",
    "            constraint=self.W_constraint,\n",
    "        )\n",
    "\n",
    "        self.features_dim = input_shape[-1]\n",
    "\n",
    "        if self.bias:\n",
    "            # self.b = self.add_weight((input_shape[1],),\n",
    "            #                          initializer='zero',\n",
    "            #                           name='{}_b'.format(self.name),\n",
    "            #                          regularizer=self.b_regularizer,\n",
    "            #                          constraint=self.b_constraint)\n",
    "            self.b = self.add_weight(\n",
    "                shape=(input_shape[1],),\n",
    "                initializer=initializers.get(\n",
    "                    \"zeros\"\n",
    "                ),  # make sure `self.init` is a valid initializer\n",
    "                name=\"b\",  # only one `name` argument\n",
    "                regularizer=self.b_regularizer,\n",
    "                constraint=self.b_constraint,\n",
    "            )\n",
    "\n",
    "        else:\n",
    "            self.b = None\n",
    "\n",
    "        self.built = True\n",
    "\n",
    "    def compute_mask(self, input, input_mask=None):\n",
    "        # do not pass the mask to the next layers\n",
    "        return None\n",
    "\n",
    "    def call(self, x, mask=None):\n",
    "        # eij = K.dot(x, self.W) TF backend doesn't support it\n",
    "\n",
    "        # features_dim = self.W.shape[0]\n",
    "        # step_dim = x._keras_shape[1]\n",
    "\n",
    "        features_dim = self.features_dim\n",
    "        step_dim = self.step_dim\n",
    "\n",
    "        eij = K.reshape(\n",
    "            K.dot(\n",
    "                K.reshape(x, (-1, features_dim)), K.reshape(self.W, (features_dim, 1))\n",
    "            ),\n",
    "            (-1, step_dim),\n",
    "        )\n",
    "\n",
    "        if self.bias:\n",
    "            eij += self.b\n",
    "\n",
    "        eij = K.tanh(eij)\n",
    "\n",
    "        a = K.exp(eij)\n",
    "\n",
    "        # apply mask after the exp. will be re-normalized next\n",
    "        if mask is not None:\n",
    "            # Cast the mask to floatX to avoid float64 upcasting in theano\n",
    "            a *= K.cast(mask, K.floatx())\n",
    "\n",
    "        # in some cases especially in the early stages of training the sum may be almost zero\n",
    "        a /= K.cast(K.sum(a, axis=1, keepdims=True) + K.epsilon(), K.floatx())\n",
    "\n",
    "        a = K.expand_dims(a)\n",
    "        weighted_input = x * a\n",
    "        # print weigthted_input.shape\n",
    "        return K.sum(weighted_input, axis=1)\n",
    "\n",
    "    def compute_output_shape(self, input_shape):\n",
    "        # return input_shape[0], input_shape[-1]\n",
    "        return input_shape[0], self.features_dim\n",
    "\n",
    "    def get_config(self):\n",
    "        # Convert regularizers and constraints to their config forms\n",
    "        config = super(Attention, self).get_config()\n",
    "        config.update(\n",
    "            {\n",
    "                \"step_dim\": self.step_dim,\n",
    "                \"W_regularizer\": (\n",
    "                    self.W_regularizer.get_config() if self.W_regularizer else None\n",
    "                ),\n",
    "                \"b_regularizer\": (\n",
    "                    self.b_regularizer.get_config() if self.b_regularizer else None\n",
    "                ),\n",
    "                \"W_constraint\": (\n",
    "                    self.W_constraint.get_config() if self.W_constraint else None\n",
    "                ),\n",
    "                \"b_constraint\": (\n",
    "                    self.b_constraint.get_config() if self.b_constraint else None\n",
    "                ),\n",
    "                \"bias\": self.bias,\n",
    "            }\n",
    "        )\n",
    "        return config\n",
    "\n",
    "    @classmethod\n",
    "    def from_config(cls, config):\n",
    "        # Re-create the regularizers and constraints from their config forms\n",
    "        config[\"W_regularizer\"] = regularizers.get(config[\"W_regularizer\"])\n",
    "        config[\"b_regularizer\"] = regularizers.get(config[\"b_regularizer\"])\n",
    "        config[\"W_constraint\"] = constraints.get(config[\"W_constraint\"])\n",
    "        config[\"b_constraint\"] = constraints.get(config[\"b_constraint\"])\n",
    "        return cls(**config)"
   ]
  },
  {
   "cell_type": "code",
   "execution_count": 43,
   "metadata": {},
   "outputs": [],
   "source": [
    "def get_model():\n",
    "    review_input = Input(shape=(max_len,), dtype=\"int32\")\n",
    "    review_input_post = Input(shape=(max_len,), dtype=\"int32\")\n",
    "\n",
    "    # Use review_input here\n",
    "    x1 = Embedding(\n",
    "        vocab_size + 1,\n",
    "        embedding_dim,\n",
    "        weights=[embedding_matrix],\n",
    "        input_length=max_len,\n",
    "        trainable=True,\n",
    "    )(review_input)\n",
    "    x1 = Bidirectional(LSTM(60, return_sequences=True))(x1)\n",
    "    x1 = Dropout(0.3)(x1)\n",
    "    x1 = Attention(max_len)(x1)\n",
    "\n",
    "    # Use review_input_post here\n",
    "    x2 = Embedding(\n",
    "        vocab_size + 1,\n",
    "        embedding_dim,\n",
    "        weights=[embedding_matrix],\n",
    "        input_length=max_len,\n",
    "        trainable=True,\n",
    "    )(review_input_post)\n",
    "    x2 = Bidirectional(LSTM(60, return_sequences=True))(x2)\n",
    "    x2 = Dropout(0.3)(x2)\n",
    "    x2 = Attention(max_len)(x2)\n",
    "\n",
    "    x = concatenate([x1, x2])\n",
    "    x = Dense(50, activation=\"relu\")(x)\n",
    "    x = Dropout(0.2)(x)\n",
    "    x = BatchNormalization()(x)\n",
    "    preds = Dense(1, activation=\"sigmoid\")(x)\n",
    "    model = Model(inputs=[review_input, review_input_post], outputs=preds)\n",
    "\n",
    "    model.compile(loss=\"binary_crossentropy\", optimizer=\"adam\", metrics=[\"accuracy\"])\n",
    "    return model"
   ]
  },
  {
   "cell_type": "code",
   "execution_count": 65,
   "metadata": {},
   "outputs": [],
   "source": [
    "model = get_model()"
   ]
  },
  {
   "cell_type": "code",
   "execution_count": 45,
   "metadata": {},
   "outputs": [],
   "source": [
    "# from tensorflow.keras.layers import Input, Embedding, Bidirectional, LSTM, Dropout, Dense, BatchNormalization, Concatenate, AdditiveAttention\n",
    "# from tensorflow.keras.models import Model\n",
    "\n",
    "\n",
    "# def get_model():\n",
    "#     # Define input layers\n",
    "#     review_input = Input(shape=(max_len,), dtype='int32')\n",
    "#     review_input_post = Input(shape=(max_len,), dtype='int32')\n",
    "\n",
    "#     # Embedding and LSTM layers for the first input\n",
    "#     x1 = Embedding(vocab_size + 1, embedding_dim,\n",
    "#                    weights=[embedding_matrix], input_length=max_len, trainable=True)(review_input)\n",
    "#     x1 = Bidirectional(LSTM(60, return_sequences=True))(x1)\n",
    "#     x1 = Dropout(0.3)(x1)\n",
    "\n",
    "#     # Embedding and LSTM layers for the second input\n",
    "#     x2 = Embedding(vocab_size + 1, embedding_dim, weights=[\n",
    "#                    embedding_matrix], input_length=max_len, trainable=True)(review_input_post)\n",
    "#     x2 = Bidirectional(LSTM(60, return_sequences=True))(x2)\n",
    "#     x2 = Dropout(0.3)(x2)\n",
    "\n",
    "#     # Additive Attention layers for each input (using self-attention)\n",
    "#     attention_layer_1 = AdditiveAttention()\n",
    "#     # query and key-value pairs are the same for self-attention\n",
    "#     x1 = attention_layer_1([x1, x1])\n",
    "\n",
    "#     attention_layer_2 = AdditiveAttention()\n",
    "#     # query and key-value pairs are the same for self-attention\n",
    "#     x2 = attention_layer_2([x2, x2])\n",
    "\n",
    "#     # Concatenate the outputs of both attention layers\n",
    "#     x = Concatenate()([x1, x2])\n",
    "\n",
    "#     # Dense layers\n",
    "#     x = Dense(50, activation='relu')(x)\n",
    "#     x = Dropout(0.2)(x)\n",
    "#     x = BatchNormalization()(x)\n",
    "\n",
    "#     # Output layer\n",
    "#     preds = Dense(1, activation='sigmoid')(x)\n",
    "\n",
    "#     # Build the model\n",
    "#     model = Model(inputs=[review_input, review_input_post], outputs=preds)\n",
    "\n",
    "#     # Compile the model\n",
    "#     model.compile(loss='binary_crossentropy',\n",
    "#                   optimizer='adam', metrics=['accuracy'])\n",
    "\n",
    "#     return model"
   ]
  },
  {
   "cell_type": "code",
   "execution_count": 46,
   "metadata": {
    "trusted": true
   },
   "outputs": [],
   "source": [
    "# model = get_model()"
   ]
  },
  {
   "cell_type": "code",
   "execution_count": 47,
   "metadata": {
    "trusted": true
   },
   "outputs": [
    {
     "name": "stdout",
     "output_type": "stream",
     "text": [
      "Model: \"model\"\n",
      "__________________________________________________________________________________________________\n",
      " Layer (type)                   Output Shape         Param #     Connected to                     \n",
      "==================================================================================================\n",
      " input_1 (InputLayer)           [(None, 411)]        0           []                               \n",
      "                                                                                                  \n",
      " input_2 (InputLayer)           [(None, 411)]        0           []                               \n",
      "                                                                                                  \n",
      " embedding (Embedding)          (None, 411, 100)     1052000     ['input_1[0][0]']                \n",
      "                                                                                                  \n",
      " embedding_1 (Embedding)        (None, 411, 100)     1052000     ['input_2[0][0]']                \n",
      "                                                                                                  \n",
      " bidirectional (Bidirectional)  (None, 411, 120)     77280       ['embedding[0][0]']              \n",
      "                                                                                                  \n",
      " bidirectional_1 (Bidirectional  (None, 411, 120)    77280       ['embedding_1[0][0]']            \n",
      " )                                                                                                \n",
      "                                                                                                  \n",
      " dropout (Dropout)              (None, 411, 120)     0           ['bidirectional[0][0]']          \n",
      "                                                                                                  \n",
      " dropout_1 (Dropout)            (None, 411, 120)     0           ['bidirectional_1[0][0]']        \n",
      "                                                                                                  \n",
      " attention (Attention)          (None, 120)          531         ['dropout[0][0]']                \n",
      "                                                                                                  \n",
      " attention_1 (Attention)        (None, 120)          531         ['dropout_1[0][0]']              \n",
      "                                                                                                  \n",
      " concatenate (Concatenate)      (None, 240)          0           ['attention[0][0]',              \n",
      "                                                                  'attention_1[0][0]']            \n",
      "                                                                                                  \n",
      " dense (Dense)                  (None, 50)           12050       ['concatenate[0][0]']            \n",
      "                                                                                                  \n",
      " dropout_2 (Dropout)            (None, 50)           0           ['dense[0][0]']                  \n",
      "                                                                                                  \n",
      " batch_normalization (BatchNorm  (None, 50)          200         ['dropout_2[0][0]']              \n",
      " alization)                                                                                       \n",
      "                                                                                                  \n",
      " dense_1 (Dense)                (None, 1)            51          ['batch_normalization[0][0]']    \n",
      "                                                                                                  \n",
      "==================================================================================================\n",
      "Total params: 2,271,923\n",
      "Trainable params: 2,271,823\n",
      "Non-trainable params: 100\n",
      "__________________________________________________________________________________________________\n"
     ]
    }
   ],
   "source": [
    "model.summary()"
   ]
  },
  {
   "cell_type": "code",
   "execution_count": 48,
   "metadata": {
    "trusted": true
   },
   "outputs": [],
   "source": [
    "from keras.callbacks import ModelCheckpoint"
   ]
  },
  {
   "cell_type": "code",
   "execution_count": 49,
   "metadata": {
    "trusted": true
   },
   "outputs": [],
   "source": [
    "# checkpoint\n",
    "filepath = \"weights-improvement-{epoch:02d}-{val_acc:.2f}.hdf5\"\n",
    "checkpoint = ModelCheckpoint(\n",
    "    filepath, monitor=\"val_acc\", verbose=1, save_best_only=True, mode=\"max\"\n",
    ")\n",
    "callbacks_list = [checkpoint]"
   ]
  },
  {
   "cell_type": "code",
   "execution_count": 50,
   "metadata": {
    "trusted": true
   },
   "outputs": [],
   "source": [
    "from keras.callbacks import EarlyStopping\n",
    "\n",
    "early_stopping_monitor = EarlyStopping(patience=10)"
   ]
  },
  {
   "cell_type": "code",
   "execution_count": 51,
   "metadata": {
    "trusted": true
   },
   "outputs": [
    {
     "name": "stdout",
     "output_type": "stream",
     "text": [
      "Epoch 1/15\n",
      "75/75 [==============================] - 80s 1000ms/step - loss: 0.6186 - accuracy: 0.6550 - val_loss: 0.6553 - val_accuracy: 0.6112\n",
      "Epoch 2/15\n",
      "75/75 [==============================] - 77s 1s/step - loss: 0.3978 - accuracy: 0.8221 - val_loss: 0.4410 - val_accuracy: 0.8950\n",
      "Epoch 3/15\n",
      "75/75 [==============================] - 74s 989ms/step - loss: 0.2419 - accuracy: 0.9146 - val_loss: 0.2920 - val_accuracy: 0.8988\n",
      "Epoch 4/15\n",
      "75/75 [==============================] - 73s 981ms/step - loss: 0.1400 - accuracy: 0.9542 - val_loss: 0.7593 - val_accuracy: 0.7250\n",
      "Epoch 5/15\n",
      "75/75 [==============================] - 77s 1s/step - loss: 0.0871 - accuracy: 0.9692 - val_loss: 0.2427 - val_accuracy: 0.8950\n",
      "Epoch 6/15\n",
      "75/75 [==============================] - 80s 1s/step - loss: 0.0369 - accuracy: 0.9908 - val_loss: 0.1232 - val_accuracy: 0.9575\n",
      "Epoch 7/15\n",
      "75/75 [==============================] - 77s 1s/step - loss: 0.0214 - accuracy: 0.9950 - val_loss: 0.2754 - val_accuracy: 0.8950\n",
      "Epoch 8/15\n",
      "75/75 [==============================] - 75s 1s/step - loss: 0.0286 - accuracy: 0.9912 - val_loss: 0.5278 - val_accuracy: 0.8375\n",
      "Epoch 9/15\n",
      "75/75 [==============================] - 79s 1s/step - loss: 0.0186 - accuracy: 0.9950 - val_loss: 0.1135 - val_accuracy: 0.9538\n",
      "Epoch 10/15\n",
      "75/75 [==============================] - 79s 1s/step - loss: 0.0071 - accuracy: 0.9992 - val_loss: 0.1177 - val_accuracy: 0.9688\n",
      "Epoch 11/15\n",
      "75/75 [==============================] - 93s 1s/step - loss: 0.0046 - accuracy: 0.9992 - val_loss: 0.1226 - val_accuracy: 0.9650\n",
      "Epoch 12/15\n",
      "75/75 [==============================] - 79s 1s/step - loss: 0.0023 - accuracy: 0.9996 - val_loss: 0.1234 - val_accuracy: 0.9650\n",
      "Epoch 13/15\n",
      "75/75 [==============================] - 79s 1s/step - loss: 0.0028 - accuracy: 1.0000 - val_loss: 0.1438 - val_accuracy: 0.9675\n",
      "Epoch 14/15\n",
      "75/75 [==============================] - 79s 1s/step - loss: 0.0019 - accuracy: 1.0000 - val_loss: 0.1411 - val_accuracy: 0.9625\n",
      "Epoch 15/15\n",
      "75/75 [==============================] - 80s 1s/step - loss: 8.5143e-04 - accuracy: 1.0000 - val_loss: 0.1590 - val_accuracy: 0.9650\n"
     ]
    }
   ],
   "source": [
    "history = model.fit(\n",
    "    [processed_x_train, processed_pre_x_train],\n",
    "    y_train,\n",
    "    validation_data=([processed_x_test, processed_pre_x_test], y_test),\n",
    "    epochs=15,\n",
    "    batch_size=32,\n",
    "    callbacks=[early_stopping_monitor],\n",
    "    verbose=1,\n",
    ")"
   ]
  },
  {
   "cell_type": "code",
   "execution_count": 66,
   "metadata": {},
   "outputs": [],
   "source": [
    "model.save(\"augmented.hdf5\")"
   ]
  },
  {
   "cell_type": "code",
   "execution_count": 53,
   "metadata": {
    "trusted": true
   },
   "outputs": [
    {
     "name": "stdout",
     "output_type": "stream",
     "text": [
      "25/25 [==============================] - 7s 268ms/step - loss: 0.1590 - accuracy: 0.9650\n"
     ]
    },
    {
     "data": {
      "text/plain": [
       "[0.15903863310813904, 0.9649999737739563]"
      ]
     },
     "execution_count": 53,
     "metadata": {},
     "output_type": "execute_result"
    }
   ],
   "source": [
    "model.evaluate([processed_x_test, processed_pre_x_test], y_test)"
   ]
  },
  {
   "cell_type": "code",
   "execution_count": 54,
   "metadata": {},
   "outputs": [
    {
     "data": {
      "text/plain": [
       "dict_keys(['loss', 'accuracy', 'val_loss', 'val_accuracy'])"
      ]
     },
     "execution_count": 54,
     "metadata": {},
     "output_type": "execute_result"
    }
   ],
   "source": [
    "history.history.keys()"
   ]
  },
  {
   "cell_type": "code",
   "execution_count": 55,
   "metadata": {
    "trusted": true
   },
   "outputs": [
    {
     "data": {
      "image/png": "[encoded data removed]",
      "text/plain": [
       "<Figure size 640x480 with 1 Axes>"
      ]
     },
     "metadata": {},
     "output_type": "display_data"
    },
    {
     "data": {
      "image/png": "[encoded data removed]",
      "text/plain": [
       "<Figure size 640x480 with 1 Axes>"
      ]
     },
     "metadata": {},
     "output_type": "display_data"
    }
   ],
   "source": [
    "# Plot training & validation accuracy values\n",
    "plt.plot(history.history[\"accuracy\"])\n",
    "plt.plot(history.history[\"val_accuracy\"])\n",
    "plt.title(\"Model accuracy\")\n",
    "plt.ylabel(\"Accuracy\")\n",
    "plt.xlabel(\"Epoch\")\n",
    "plt.legend([\"Train\", \"Test\"], loc=\"upper left\")\n",
    "plt.show()\n",
    "\n",
    "# Plot training & validation loss values\n",
    "plt.plot(history.history[\"loss\"])\n",
    "plt.plot(history.history[\"val_loss\"])\n",
    "plt.title(\"Model loss\")\n",
    "plt.ylabel(\"Loss\")\n",
    "plt.xlabel(\"Epoch\")\n",
    "plt.legend([\"Train\", \"Test\"], loc=\"upper left\")\n",
    "plt.show()"
   ]
  },
  {
   "cell_type": "code",
   "execution_count": null,
   "metadata": {
    "trusted": true
   },
   "outputs": [],
   "source": []
  }
 ],
 "metadata": {
  "kernelspec": {
   "display_name": "aiapps",
   "language": "python",
   "name": "python3"
  },
  "language_info": {
   "codemirror_mode": {
    "name": "ipython",
    "version": 3
   },
   "file_extension": ".py",
   "mimetype": "text/x-python",
   "name": "python",
   "nbconvert_exporter": "python",
   "pygments_lexer": "ipython3",
   "version": "3.9.18"
  }
 },
 "nbformat": 4,
 "nbformat_minor": 1
}
