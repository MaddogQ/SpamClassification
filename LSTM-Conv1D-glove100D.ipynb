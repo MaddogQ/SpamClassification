{
 "cells": [
  {
   "cell_type": "markdown",
   "metadata": {},
   "source": [
    "# Prepare Dataset\n"
   ]
  },
  {
   "cell_type": "code",
   "execution_count": 1,
   "metadata": {
    "_cell_guid": "b1076dfc-b9ad-4769-8c92-a6c4dae69d19",
    "_uuid": "8f2839f25d086af736a60e9eeb907d3b93b6e0e5",
    "trusted": true
   },
   "outputs": [
    {
     "name": "stdout",
     "output_type": "stream",
     "text": [
      "['deceptive-opinion-spam-corpus', 'glove-global-vectors-for-word-representation', 'googles-trained-word2vec-model-in-python', 'yelp-test', 'yelp-train']\n"
     ]
    }
   ],
   "source": [
    "# This Python 3 environment comes with many helpful analytics libraries installed\n",
    "# It is defined by the kaggle/python docker image: https://github.com/kaggle/docker-python\n",
    "# For example, here's several helpful packages to load in\n",
    "\n",
    "import numpy as np  # linear algebra\n",
    "import pandas as pd  # data processing, CSV file I/O (e.g. pd.read_csv)\n",
    "\n",
    "# Input data files are available in the \"./input/\" directory.\n",
    "# For example, running this (by clicking run or pressing Shift+Enter) will list the files in the input directory\n",
    "\n",
    "import os\n",
    "\n",
    "print(os.listdir(\"./input\"))\n",
    "\n",
    "# Any results you write to the current directory are saved as output."
   ]
  },
  {
   "cell_type": "code",
   "execution_count": 2,
   "metadata": {
    "_cell_guid": "79c7e3d0-c299-4dcb-8224-4455121ee9b0",
    "_uuid": "d629ff2d2480ee46fbb7e2d37f6b5fab8052498a",
    "trusted": true
   },
   "outputs": [],
   "source": [
    "from __future__ import print_function\n",
    "from keras.preprocessing.text import text_to_word_sequence\n",
    "import pandas as pd\n",
    "from keras.preprocessing.text import Tokenizer\n",
    "import numpy as np\n",
    "from bs4 import BeautifulSoup\n",
    "import logging\n",
    "from numpy import random\n",
    "import gensim\n",
    "import nltk\n",
    "from sklearn.model_selection import train_test_split\n",
    "from sklearn.feature_extraction.text import CountVectorizer, TfidfVectorizer\n",
    "from sklearn.metrics import accuracy_score, confusion_matrix\n",
    "\n",
    "from keras.preprocessing import sequence\n",
    "from keras.models import Sequential\n",
    "from keras.layers import Dense, Dropout, Activation, MaxPooling1D, Flatten\n",
    "from keras.layers import Embedding\n",
    "from keras.layers import Conv1D, GlobalMaxPooling1D, BatchNormalization\n",
    "from keras.callbacks import EarlyStopping\n",
    "from keras.regularizers import l2"
   ]
  },
  {
   "cell_type": "code",
   "execution_count": 3,
   "metadata": {
    "trusted": true
   },
   "outputs": [],
   "source": [
    "data = pd.read_csv(\n",
    "    \"./input/deceptive-opinion-spam-corpus/deceptive-opinion-augmented.csv\"\n",
    ")"
   ]
  },
  {
   "cell_type": "code",
   "execution_count": 4,
   "metadata": {
    "trusted": true
   },
   "outputs": [
    {
     "data": {
      "text/html": [
       "<div>\n",
       "<style scoped>\n",
       "    .dataframe tbody tr th:only-of-type {\n",
       "        vertical-align: middle;\n",
       "    }\n",
       "\n",
       "    .dataframe tbody tr th {\n",
       "        vertical-align: top;\n",
       "    }\n",
       "\n",
       "    .dataframe thead th {\n",
       "        text-align: right;\n",
       "    }\n",
       "</style>\n",
       "<table border=\"1\" class=\"dataframe\">\n",
       "  <thead>\n",
       "    <tr style=\"text-align: right;\">\n",
       "      <th></th>\n",
       "      <th>deceptive</th>\n",
       "      <th>hotel</th>\n",
       "      <th>polarity</th>\n",
       "      <th>source</th>\n",
       "      <th>text</th>\n",
       "    </tr>\n",
       "  </thead>\n",
       "  <tbody>\n",
       "    <tr>\n",
       "      <th>0</th>\n",
       "      <td>truthful</td>\n",
       "      <td>conrad</td>\n",
       "      <td>positive</td>\n",
       "      <td>TripAdvisor</td>\n",
       "      <td>We stay for a one night getaway with family on...</td>\n",
       "    </tr>\n",
       "    <tr>\n",
       "      <th>1</th>\n",
       "      <td>truthful</td>\n",
       "      <td>conrad</td>\n",
       "      <td>positive</td>\n",
       "      <td>TripAdvisor</td>\n",
       "      <td>We stayed here for a one night family getaway ...</td>\n",
       "    </tr>\n",
       "    <tr>\n",
       "      <th>2</th>\n",
       "      <td>truthful</td>\n",
       "      <td>hyatt</td>\n",
       "      <td>positive</td>\n",
       "      <td>TripAdvisor</td>\n",
       "      <td>triple A rate with upgrade to view room was le...</td>\n",
       "    </tr>\n",
       "    <tr>\n",
       "      <th>3</th>\n",
       "      <td>truthful</td>\n",
       "      <td>hyatt</td>\n",
       "      <td>positive</td>\n",
       "      <td>TripAdvisor</td>\n",
       "      <td>The Triple A rate with a view room upgrade was...</td>\n",
       "    </tr>\n",
       "    <tr>\n",
       "      <th>4</th>\n",
       "      <td>truthful</td>\n",
       "      <td>hyatt</td>\n",
       "      <td>positive</td>\n",
       "      <td>TripAdvisor</td>\n",
       "      <td>This semen a little late as I'm finally catchi...</td>\n",
       "    </tr>\n",
       "  </tbody>\n",
       "</table>\n",
       "</div>"
      ],
      "text/plain": [
       "  deceptive   hotel  polarity       source  \\\n",
       "0  truthful  conrad  positive  TripAdvisor   \n",
       "1  truthful  conrad  positive  TripAdvisor   \n",
       "2  truthful   hyatt  positive  TripAdvisor   \n",
       "3  truthful   hyatt  positive  TripAdvisor   \n",
       "4  truthful   hyatt  positive  TripAdvisor   \n",
       "\n",
       "                                                text  \n",
       "0  We stay for a one night getaway with family on...  \n",
       "1  We stayed here for a one night family getaway ...  \n",
       "2  triple A rate with upgrade to view room was le...  \n",
       "3  The Triple A rate with a view room upgrade was...  \n",
       "4  This semen a little late as I'm finally catchi...  "
      ]
     },
     "execution_count": 4,
     "metadata": {},
     "output_type": "execute_result"
    }
   ],
   "source": [
    "data.head()"
   ]
  },
  {
   "cell_type": "code",
   "execution_count": 5,
   "metadata": {},
   "outputs": [
    {
     "name": "stdout",
     "output_type": "stream",
     "text": [
      "<class 'pandas.core.frame.DataFrame'>\n",
      "RangeIndex: 3200 entries, 0 to 3199\n",
      "Data columns (total 5 columns):\n",
      " #   Column     Non-Null Count  Dtype \n",
      "---  ------     --------------  ----- \n",
      " 0   deceptive  3200 non-null   object\n",
      " 1   hotel      3200 non-null   object\n",
      " 2   polarity   3200 non-null   object\n",
      " 3   source     3200 non-null   object\n",
      " 4   text       3200 non-null   object\n",
      "dtypes: object(5)\n",
      "memory usage: 125.1+ KB\n"
     ]
    }
   ],
   "source": [
    "data.info()"
   ]
  },
  {
   "cell_type": "code",
   "execution_count": 6,
   "metadata": {
    "trusted": true
   },
   "outputs": [],
   "source": [
    "df = data[[\"deceptive\", \"polarity\", \"text\"]]  # df[['C', 'D', 'E']]"
   ]
  },
  {
   "cell_type": "code",
   "execution_count": 7,
   "metadata": {
    "trusted": true
   },
   "outputs": [],
   "source": [
    "df1 = df.sample(frac=1)"
   ]
  },
  {
   "cell_type": "code",
   "execution_count": 8,
   "metadata": {
    "trusted": true
   },
   "outputs": [
    {
     "data": {
      "text/plain": [
       "<Axes: xlabel='deceptive'>"
      ]
     },
     "execution_count": 8,
     "metadata": {},
     "output_type": "execute_result"
    },
    {
     "data": {
      "image/png": "[encoded data removed]",
      "text/plain": [
       "<Figure size 1000x400 with 1 Axes>"
      ]
     },
     "metadata": {},
     "output_type": "display_data"
    }
   ],
   "source": [
    "import matplotlib.pyplot as plt\n",
    "\n",
    "my_tags = [\"deceptive\", \"truthful\"]\n",
    "plt.figure(figsize=(10, 4))\n",
    "df1.deceptive.value_counts().plot(kind=\"bar\")"
   ]
  },
  {
   "cell_type": "code",
   "execution_count": 9,
   "metadata": {
    "trusted": true
   },
   "outputs": [
    {
     "data": {
      "text/plain": [
       "Text(0, 0.5, 'Polarity')"
      ]
     },
     "execution_count": 9,
     "metadata": {},
     "output_type": "execute_result"
    },
    {
     "data": {
      "image/png": "[encoded data removed]",
      "text/plain": [
       "<Figure size 640x480 with 1 Axes>"
      ]
     },
     "metadata": {},
     "output_type": "display_data"
    }
   ],
   "source": [
    "fig, ax = plt.subplots()\n",
    "\n",
    "# scatter the sepal_length against the sepal_width\n",
    "ax.scatter(df1[\"deceptive\"], df1[\"polarity\"])\n",
    "# set a title and labels\n",
    "ax.set_title(\"Deceptive Opinion Spam Dataset\")\n",
    "ax.set_xlabel(\"Deceptive\")\n",
    "ax.set_ylabel(\"Polarity\")"
   ]
  },
  {
   "cell_type": "code",
   "execution_count": 12,
   "metadata": {
    "trusted": true
   },
   "outputs": [],
   "source": [
    "import seaborn as sns\n",
    "import matplotlib.pyplot as plt\n",
    "%matplotlib inline"
   ]
  },
  {
   "cell_type": "code",
   "execution_count": 13,
   "metadata": {
    "trusted": true
   },
   "outputs": [
    {
     "name": "stdout",
     "output_type": "stream",
     "text": [
      "<class 'pandas.core.frame.DataFrame'>\n",
      "Index: 3200 entries, 3172 to 2758\n",
      "Data columns (total 3 columns):\n",
      " #   Column     Non-Null Count  Dtype \n",
      "---  ------     --------------  ----- \n",
      " 0   deceptive  3200 non-null   object\n",
      " 1   polarity   3200 non-null   object\n",
      " 2   text       3200 non-null   object\n",
      "dtypes: object(3)\n",
      "memory usage: 100.0+ KB\n"
     ]
    }
   ],
   "source": [
    "df1.info()"
   ]
  },
  {
   "cell_type": "code",
   "execution_count": 14,
   "metadata": {
    "trusted": true
   },
   "outputs": [
    {
     "data": {
      "text/html": [
       "<div>\n",
       "<style scoped>\n",
       "    .dataframe tbody tr th:only-of-type {\n",
       "        vertical-align: middle;\n",
       "    }\n",
       "\n",
       "    .dataframe tbody tr th {\n",
       "        vertical-align: top;\n",
       "    }\n",
       "\n",
       "    .dataframe thead th {\n",
       "        text-align: right;\n",
       "    }\n",
       "</style>\n",
       "<table border=\"1\" class=\"dataframe\">\n",
       "  <thead>\n",
       "    <tr style=\"text-align: right;\">\n",
       "      <th></th>\n",
       "      <th>deceptive</th>\n",
       "      <th>polarity</th>\n",
       "      <th>text</th>\n",
       "    </tr>\n",
       "  </thead>\n",
       "  <tbody>\n",
       "    <tr>\n",
       "      <th>3172</th>\n",
       "      <td>deceptive</td>\n",
       "      <td>negative</td>\n",
       "      <td>The Hilton family would beryllium outraged aft...</td>\n",
       "    </tr>\n",
       "    <tr>\n",
       "      <th>448</th>\n",
       "      <td>truthful</td>\n",
       "      <td>positive</td>\n",
       "      <td>iodine had a large, roomy, clean 2 bed room wi...</td>\n",
       "    </tr>\n",
       "    <tr>\n",
       "      <th>1170</th>\n",
       "      <td>deceptive</td>\n",
       "      <td>positive</td>\n",
       "      <td>For angstrom short time during vacation I had ...</td>\n",
       "    </tr>\n",
       "    <tr>\n",
       "      <th>1855</th>\n",
       "      <td>truthful</td>\n",
       "      <td>negative</td>\n",
       "      <td>The elevator system was impossible. It seems l...</td>\n",
       "    </tr>\n",
       "    <tr>\n",
       "      <th>2839</th>\n",
       "      <td>deceptive</td>\n",
       "      <td>negative</td>\n",
       "      <td>What I had hoped would be a pleasant stay turn...</td>\n",
       "    </tr>\n",
       "  </tbody>\n",
       "</table>\n",
       "</div>"
      ],
      "text/plain": [
       "      deceptive  polarity                                               text\n",
       "3172  deceptive  negative  The Hilton family would beryllium outraged aft...\n",
       "448    truthful  positive  iodine had a large, roomy, clean 2 bed room wi...\n",
       "1170  deceptive  positive  For angstrom short time during vacation I had ...\n",
       "1855   truthful  negative  The elevator system was impossible. It seems l...\n",
       "2839  deceptive  negative  What I had hoped would be a pleasant stay turn..."
      ]
     },
     "execution_count": 14,
     "metadata": {},
     "output_type": "execute_result"
    }
   ],
   "source": [
    "df1.head()"
   ]
  },
  {
   "cell_type": "code",
   "execution_count": 15,
   "metadata": {
    "trusted": true
   },
   "outputs": [],
   "source": [
    "df2 = df1.drop(columns=[\"polarity\"], axis=1)"
   ]
  },
  {
   "cell_type": "code",
   "execution_count": 16,
   "metadata": {
    "trusted": true
   },
   "outputs": [
    {
     "data": {
      "text/html": [
       "<div>\n",
       "<style scoped>\n",
       "    .dataframe tbody tr th:only-of-type {\n",
       "        vertical-align: middle;\n",
       "    }\n",
       "\n",
       "    .dataframe tbody tr th {\n",
       "        vertical-align: top;\n",
       "    }\n",
       "\n",
       "    .dataframe thead th {\n",
       "        text-align: right;\n",
       "    }\n",
       "</style>\n",
       "<table border=\"1\" class=\"dataframe\">\n",
       "  <thead>\n",
       "    <tr style=\"text-align: right;\">\n",
       "      <th></th>\n",
       "      <th>deceptive</th>\n",
       "      <th>text</th>\n",
       "    </tr>\n",
       "  </thead>\n",
       "  <tbody>\n",
       "    <tr>\n",
       "      <th>count</th>\n",
       "      <td>3200</td>\n",
       "      <td>3200</td>\n",
       "    </tr>\n",
       "    <tr>\n",
       "      <th>unique</th>\n",
       "      <td>2</td>\n",
       "      <td>3192</td>\n",
       "    </tr>\n",
       "    <tr>\n",
       "      <th>top</th>\n",
       "      <td>deceptive</td>\n",
       "      <td>I was looking for a nice, non-chain hotel for ...</td>\n",
       "    </tr>\n",
       "    <tr>\n",
       "      <th>freq</th>\n",
       "      <td>1600</td>\n",
       "      <td>2</td>\n",
       "    </tr>\n",
       "  </tbody>\n",
       "</table>\n",
       "</div>"
      ],
      "text/plain": [
       "        deceptive                                               text\n",
       "count        3200                                               3200\n",
       "unique          2                                               3192\n",
       "top     deceptive  I was looking for a nice, non-chain hotel for ...\n",
       "freq         1600                                                  2"
      ]
     },
     "execution_count": 16,
     "metadata": {},
     "output_type": "execute_result"
    }
   ],
   "source": [
    "df2.describe()"
   ]
  },
  {
   "cell_type": "code",
   "execution_count": 17,
   "metadata": {
    "trusted": true
   },
   "outputs": [
    {
     "data": {
      "text/plain": [
       "array([0, 1])"
      ]
     },
     "execution_count": 17,
     "metadata": {},
     "output_type": "execute_result"
    }
   ],
   "source": [
    "# Import label encoder\n",
    "from sklearn import preprocessing\n",
    "\n",
    "# label_encoder object knows how to understand word labels.\n",
    "label_encoder = preprocessing.LabelEncoder()\n",
    "\n",
    "# Encode labels in column 'species'.\n",
    "df2[\"deceptive\"] = label_encoder.fit_transform(df2[\"deceptive\"])\n",
    "\n",
    "df2[\"deceptive\"].unique()"
   ]
  },
  {
   "cell_type": "code",
   "execution_count": 18,
   "metadata": {
    "trusted": true
   },
   "outputs": [
    {
     "data": {
      "text/html": [
       "<div>\n",
       "<style scoped>\n",
       "    .dataframe tbody tr th:only-of-type {\n",
       "        vertical-align: middle;\n",
       "    }\n",
       "\n",
       "    .dataframe tbody tr th {\n",
       "        vertical-align: top;\n",
       "    }\n",
       "\n",
       "    .dataframe thead th {\n",
       "        text-align: right;\n",
       "    }\n",
       "</style>\n",
       "<table border=\"1\" class=\"dataframe\">\n",
       "  <thead>\n",
       "    <tr style=\"text-align: right;\">\n",
       "      <th></th>\n",
       "      <th>deceptive</th>\n",
       "      <th>text</th>\n",
       "    </tr>\n",
       "  </thead>\n",
       "  <tbody>\n",
       "    <tr>\n",
       "      <th>3172</th>\n",
       "      <td>0</td>\n",
       "      <td>The Hilton family would beryllium outraged aft...</td>\n",
       "    </tr>\n",
       "    <tr>\n",
       "      <th>448</th>\n",
       "      <td>1</td>\n",
       "      <td>iodine had a large, roomy, clean 2 bed room wi...</td>\n",
       "    </tr>\n",
       "    <tr>\n",
       "      <th>1170</th>\n",
       "      <td>0</td>\n",
       "      <td>For angstrom short time during vacation I had ...</td>\n",
       "    </tr>\n",
       "    <tr>\n",
       "      <th>1855</th>\n",
       "      <td>1</td>\n",
       "      <td>The elevator system was impossible. It seems l...</td>\n",
       "    </tr>\n",
       "    <tr>\n",
       "      <th>2839</th>\n",
       "      <td>0</td>\n",
       "      <td>What I had hoped would be a pleasant stay turn...</td>\n",
       "    </tr>\n",
       "  </tbody>\n",
       "</table>\n",
       "</div>"
      ],
      "text/plain": [
       "      deceptive                                               text\n",
       "3172          0  The Hilton family would beryllium outraged aft...\n",
       "448           1  iodine had a large, roomy, clean 2 bed room wi...\n",
       "1170          0  For angstrom short time during vacation I had ...\n",
       "1855          1  The elevator system was impossible. It seems l...\n",
       "2839          0  What I had hoped would be a pleasant stay turn..."
      ]
     },
     "execution_count": 18,
     "metadata": {},
     "output_type": "execute_result"
    }
   ],
   "source": [
    "df2.head()"
   ]
  },
  {
   "cell_type": "code",
   "execution_count": 19,
   "metadata": {
    "trusted": true
   },
   "outputs": [
    {
     "data": {
      "text/html": [
       "<div>\n",
       "<style scoped>\n",
       "    .dataframe tbody tr th:only-of-type {\n",
       "        vertical-align: middle;\n",
       "    }\n",
       "\n",
       "    .dataframe tbody tr th {\n",
       "        vertical-align: top;\n",
       "    }\n",
       "\n",
       "    .dataframe thead th {\n",
       "        text-align: right;\n",
       "    }\n",
       "</style>\n",
       "<table border=\"1\" class=\"dataframe\">\n",
       "  <thead>\n",
       "    <tr style=\"text-align: right;\">\n",
       "      <th></th>\n",
       "      <th>deceptive</th>\n",
       "    </tr>\n",
       "  </thead>\n",
       "  <tbody>\n",
       "    <tr>\n",
       "      <th>count</th>\n",
       "      <td>3200.000000</td>\n",
       "    </tr>\n",
       "    <tr>\n",
       "      <th>mean</th>\n",
       "      <td>0.500000</td>\n",
       "    </tr>\n",
       "    <tr>\n",
       "      <th>std</th>\n",
       "      <td>0.500078</td>\n",
       "    </tr>\n",
       "    <tr>\n",
       "      <th>min</th>\n",
       "      <td>0.000000</td>\n",
       "    </tr>\n",
       "    <tr>\n",
       "      <th>25%</th>\n",
       "      <td>0.000000</td>\n",
       "    </tr>\n",
       "    <tr>\n",
       "      <th>50%</th>\n",
       "      <td>0.500000</td>\n",
       "    </tr>\n",
       "    <tr>\n",
       "      <th>75%</th>\n",
       "      <td>1.000000</td>\n",
       "    </tr>\n",
       "    <tr>\n",
       "      <th>max</th>\n",
       "      <td>1.000000</td>\n",
       "    </tr>\n",
       "  </tbody>\n",
       "</table>\n",
       "</div>"
      ],
      "text/plain": [
       "         deceptive\n",
       "count  3200.000000\n",
       "mean      0.500000\n",
       "std       0.500078\n",
       "min       0.000000\n",
       "25%       0.000000\n",
       "50%       0.500000\n",
       "75%       1.000000\n",
       "max       1.000000"
      ]
     },
     "execution_count": 19,
     "metadata": {},
     "output_type": "execute_result"
    }
   ],
   "source": [
    "df2.describe()"
   ]
  },
  {
   "cell_type": "markdown",
   "metadata": {},
   "source": [
    "# Data preprocessing\n"
   ]
  },
  {
   "cell_type": "code",
   "execution_count": 20,
   "metadata": {
    "trusted": true
   },
   "outputs": [],
   "source": [
    "from nltk.corpus import stopwords"
   ]
  },
  {
   "cell_type": "code",
   "execution_count": 21,
   "metadata": {
    "trusted": true
   },
   "outputs": [],
   "source": [
    "import re"
   ]
  },
  {
   "cell_type": "code",
   "execution_count": 22,
   "metadata": {
    "trusted": true
   },
   "outputs": [
    {
     "name": "stderr",
     "output_type": "stream",
     "text": [
      "C:\\Users\\james\\AppData\\Local\\Temp\\ipykernel_12408\\507430188.py:12: MarkupResemblesLocatorWarning: The input looks more like a filename than markup. You may want to open this file and pass the filehandle into Beautiful Soup.\n",
      "  text = BeautifulSoup(text, \"lxml\").text  # HTML decoding\n"
     ]
    }
   ],
   "source": [
    "REPLACE_BY_SPACE_RE = re.compile(\"[/(){}\\[\\]\\|@,;]\")\n",
    "BAD_SYMBOLS_RE = re.compile(\"[^0-9a-z #+_]\")\n",
    "STOPWORDS = set(stopwords.words(\"english\"))\n",
    "\n",
    "\n",
    "def clean_text(text):\n",
    "    \"\"\"\n",
    "    text: a string\n",
    "\n",
    "    return: modified initial string\n",
    "    \"\"\"\n",
    "    text = BeautifulSoup(text, \"lxml\").text  # HTML decoding\n",
    "    text = text.lower().split()\n",
    "    text = \" \".join(text)\n",
    "    text = re.sub(r\"[^A-Za-z0-9^,!.\\/'+\\-=]\", \" \", text)\n",
    "    text = re.sub(r\"what's\", \"what is \", text)\n",
    "    text = re.sub(r\"\\'s\", \" \", text)\n",
    "    text = re.sub(r\"\\'ve\", \" have \", text)\n",
    "    text = re.sub(r\"can't\", \"cannot \", text)\n",
    "    text = re.sub(r\"n't\", \" not \", text)\n",
    "    text = re.sub(r\"i'm\", \"i am \", text)\n",
    "    text = re.sub(r\"\\'re\", \" are \", text)\n",
    "    text = re.sub(r\"\\'d\", \" would \", text)\n",
    "    text = re.sub(r\"\\'ll\", \" will \", text)\n",
    "    text = re.sub(r\",\", \" \", text)\n",
    "    text = re.sub(r\"\\.\", \" \", text)\n",
    "    text = re.sub(r\"!\", \" ! \", text)\n",
    "    text = re.sub(r\"\\/\", \" \", text)\n",
    "    text = re.sub(r\"\\^\", \" ^ \", text)\n",
    "    text = re.sub(r\"\\+\", \" + \", text)\n",
    "    text = re.sub(r\"\\-\", \" - \", text)\n",
    "    text = re.sub(r\"\\=\", \" = \", text)\n",
    "    text = re.sub(r\"'\", \" \", text)\n",
    "    text = re.sub(r\"(\\d+)(k)\", r\"\\g<1>000\", text)\n",
    "    text = re.sub(r\":\", \" : \", text)\n",
    "    text = re.sub(r\" e g \", \" eg \", text)\n",
    "    text = re.sub(r\" b g \", \" bg \", text)\n",
    "    text = re.sub(r\" u s \", \" american \", text)\n",
    "    text = re.sub(r\"\\0s\", \"0\", text)\n",
    "    text = re.sub(r\" 9 11 \", \"911\", text)\n",
    "    text = re.sub(r\"e - mail\", \"email\", text)\n",
    "    text = re.sub(r\"j k\", \"jk\", text)\n",
    "    text = re.sub(r\"\\s{2,}\", \" \", text)\n",
    "\n",
    "    return text\n",
    "\n",
    "\n",
    "df2[\"text\"] = df2[\"text\"].apply(clean_text)"
   ]
  },
  {
   "cell_type": "code",
   "execution_count": 23,
   "metadata": {
    "trusted": true
   },
   "outputs": [],
   "source": [
    "X = df2.text\n",
    "y = df2.deceptive"
   ]
  },
  {
   "cell_type": "code",
   "execution_count": 24,
   "metadata": {
    "trusted": true
   },
   "outputs": [],
   "source": [
    "X = X.map(lambda a: clean_text(a))"
   ]
  },
  {
   "cell_type": "code",
   "execution_count": 25,
   "metadata": {
    "trusted": true
   },
   "outputs": [],
   "source": [
    "def text_to_wordlist(text):\n",
    "    # Remove Special Characters\n",
    "    text = re.sub(r\"[^a-z\\d ]\", \" \", text)\n",
    "    text = re.sub(r\"\\d+\", \"_num_\", text)\n",
    "    return text"
   ]
  },
  {
   "cell_type": "code",
   "execution_count": 26,
   "metadata": {
    "trusted": true
   },
   "outputs": [],
   "source": [
    "X = X.map(lambda a: text_to_wordlist(a))"
   ]
  },
  {
   "cell_type": "code",
   "execution_count": 27,
   "metadata": {
    "trusted": true
   },
   "outputs": [],
   "source": [
    "train, test, y_train, y_test = train_test_split(X, y, stratify=y, random_state=42)"
   ]
  },
  {
   "cell_type": "code",
   "execution_count": 28,
   "metadata": {
    "trusted": true
   },
   "outputs": [],
   "source": [
    "tokenizer = Tokenizer(\n",
    "    num_words=None,\n",
    "    lower=True,\n",
    "    filters='!\"#$%&()*+,-./:;<=>?@[\\\\]^_`{|}~\\t\\n',\n",
    "    split=\" \",\n",
    "    char_level=False,\n",
    ")"
   ]
  },
  {
   "cell_type": "code",
   "execution_count": 29,
   "metadata": {
    "trusted": true
   },
   "outputs": [],
   "source": [
    "tokenizer.fit_on_texts(X)"
   ]
  },
  {
   "cell_type": "code",
   "execution_count": 30,
   "metadata": {
    "trusted": true
   },
   "outputs": [],
   "source": [
    "x_train = tokenizer.texts_to_sequences(train)"
   ]
  },
  {
   "cell_type": "code",
   "execution_count": 31,
   "metadata": {
    "trusted": true
   },
   "outputs": [],
   "source": [
    "x_test = tokenizer.texts_to_sequences(test)"
   ]
  },
  {
   "cell_type": "code",
   "execution_count": 32,
   "metadata": {
    "trusted": true
   },
   "outputs": [],
   "source": [
    "word_index = tokenizer.word_index"
   ]
  },
  {
   "cell_type": "code",
   "execution_count": 33,
   "metadata": {
    "trusted": true
   },
   "outputs": [],
   "source": [
    "X = tokenizer.texts_to_sequences(X)"
   ]
  },
  {
   "cell_type": "code",
   "execution_count": 34,
   "metadata": {
    "trusted": true
   },
   "outputs": [
    {
     "name": "stdout",
     "output_type": "stream",
     "text": [
      "Vocab size: 10210\n",
      "Longest comment size: 795\n",
      "Average comment size: 149.5671875\n",
      "Stdev of comment size: 87.54077541831488\n",
      "Max comment size: 412\n"
     ]
    }
   ],
   "source": [
    "vocab_size = len(word_index)\n",
    "print(\"Vocab size: {}\".format(vocab_size))\n",
    "longest = max(len(seq) for seq in X)\n",
    "print(\"Longest comment size: {}\".format(longest))\n",
    "average = np.mean([len(seq) for seq in X])\n",
    "print(\"Average comment size: {}\".format(average))\n",
    "stdev = np.std([len(seq) for seq in X])\n",
    "print(\"Stdev of comment size: {}\".format(stdev))\n",
    "max_len = int(average + stdev * 3)\n",
    "print(\"Max comment size: {}\".format(max_len))"
   ]
  },
  {
   "cell_type": "code",
   "execution_count": 35,
   "metadata": {
    "trusted": true
   },
   "outputs": [],
   "source": [
    "from tensorflow.keras.preprocessing.sequence import pad_sequences"
   ]
  },
  {
   "cell_type": "code",
   "execution_count": 36,
   "metadata": {
    "trusted": true
   },
   "outputs": [],
   "source": [
    "processed_post_x_train = pad_sequences(\n",
    "    x_train, maxlen=max_len, padding=\"post\", truncating=\"post\"\n",
    ")\n",
    "processed_post_x_test = pad_sequences(\n",
    "    x_test, maxlen=max_len, padding=\"post\", truncating=\"post\"\n",
    ")"
   ]
  },
  {
   "cell_type": "code",
   "execution_count": 37,
   "metadata": {
    "trusted": true
   },
   "outputs": [],
   "source": [
    "processed_x_train = pad_sequences(x_train, maxlen=max_len)\n",
    "processed_x_test = pad_sequences(x_test, maxlen=max_len)"
   ]
  },
  {
   "cell_type": "code",
   "execution_count": 38,
   "metadata": {
    "trusted": true
   },
   "outputs": [
    {
     "name": "stdout",
     "output_type": "stream",
     "text": [
      "x_train shape: (2400, 412)\n",
      "x_test shape: (800, 412)\n"
     ]
    }
   ],
   "source": [
    "print(\"x_train shape:\", processed_x_train.shape)\n",
    "print(\"x_test shape:\", processed_x_test.shape)"
   ]
  },
  {
   "cell_type": "code",
   "execution_count": 39,
   "metadata": {
    "trusted": true
   },
   "outputs": [],
   "source": [
    "import keras.backend\n",
    "from keras.models import Sequential, load_model\n",
    "from keras.layers import CuDNNGRU, Dense, Conv1D, MaxPooling1D\n",
    "from keras.layers import Dropout, GlobalMaxPooling1D, BatchNormalization, LSTM\n",
    "from keras.layers import Bidirectional\n",
    "from tensorflow.keras.layers import Embedding\n",
    "from keras.optimizers import Nadam\n",
    "from keras.utils.vis_utils import plot_model\n",
    "import matplotlib.pyplot as plt"
   ]
  },
  {
   "cell_type": "code",
   "execution_count": 40,
   "metadata": {
    "trusted": true
   },
   "outputs": [],
   "source": [
    "import os"
   ]
  },
  {
   "cell_type": "code",
   "execution_count": 41,
   "metadata": {
    "trusted": true
   },
   "outputs": [
    {
     "name": "stdout",
     "output_type": "stream",
     "text": [
      "Found 400000 word vectors.\n"
     ]
    }
   ],
   "source": [
    "embeddings_index = {}\n",
    "f = open(\n",
    "    os.path.join(\n",
    "        \"./input/glove-global-vectors-for-word-representation\", \"glove.6B.100d.txt\"\n",
    "    )\n",
    ")\n",
    "for line in f:\n",
    "    values = line.split()\n",
    "    word = values[0]\n",
    "    coefs = np.asarray(values[1:], dtype=\"float32\")\n",
    "    embeddings_index[word] = coefs\n",
    "f.close()\n",
    "print(\"Found %s word vectors.\" % len(embeddings_index))"
   ]
  },
  {
   "cell_type": "code",
   "execution_count": 42,
   "metadata": {
    "trusted": true
   },
   "outputs": [],
   "source": [
    "embedding_dim = 100\n",
    "k = 0\n",
    "embedding_matrix = np.zeros((len(word_index) + 1, embedding_dim))\n",
    "for word, i in word_index.items():\n",
    "    embedding_vector = embeddings_index.get(word)\n",
    "    if embedding_vector is not None:\n",
    "        # Words not found in embedding index will be all-zeros.\n",
    "        k += 1\n",
    "        embedding_matrix[i] = embedding_vector"
   ]
  },
  {
   "cell_type": "code",
   "execution_count": 43,
   "metadata": {
    "trusted": true
   },
   "outputs": [
    {
     "name": "stdout",
     "output_type": "stream",
     "text": [
      "Model: \"sequential\"\n",
      "_________________________________________________________________\n",
      " Layer (type)                Output Shape              Param #   \n",
      "=================================================================\n",
      " embedding (Embedding)       (None, 412, 100)          1021100   \n",
      "                                                                 \n",
      " lstm_layer1 (LSTM)          (None, 412, 60)           38640     \n",
      "                                                                 \n",
      " lstm_layer2 (LSTM)          (None, 412, 30)           10920     \n",
      "                                                                 \n",
      " conv1d (Conv1D)             (None, 412, 128)          11648     \n",
      "                                                                 \n",
      " max_pooling1d (MaxPooling1D  (None, 137, 128)         0         \n",
      " )                                                               \n",
      "                                                                 \n",
      " global_max_pooling1d (Globa  (None, 128)              0         \n",
      " lMaxPooling1D)                                                  \n",
      "                                                                 \n",
      " batch_normalization (BatchN  (None, 128)              512       \n",
      " ormalization)                                                   \n",
      "                                                                 \n",
      " dense (Dense)               (None, 64)                8256      \n",
      "                                                                 \n",
      " dropout (Dropout)           (None, 64)                0         \n",
      "                                                                 \n",
      " dense_1 (Dense)             (None, 32)                2080      \n",
      "                                                                 \n",
      " dropout_1 (Dropout)         (None, 32)                0         \n",
      "                                                                 \n",
      " dropout_2 (Dropout)         (None, 32)                0         \n",
      "                                                                 \n",
      " dense_2 (Dense)             (None, 1)                 33        \n",
      "                                                                 \n",
      "=================================================================\n",
      "Total params: 1,093,189\n",
      "Trainable params: 1,092,933\n",
      "Non-trainable params: 256\n",
      "_________________________________________________________________\n"
     ]
    }
   ],
   "source": [
    "# Initate model\n",
    "model = Sequential()\n",
    "\n",
    "\n",
    "model.add(\n",
    "    Embedding(\n",
    "        vocab_size + 1,\n",
    "        embedding_dim,\n",
    "        weights=[embedding_matrix],\n",
    "        input_length=max_len,\n",
    "        trainable=True,\n",
    "    )\n",
    ")\n",
    "\n",
    "\n",
    "# ,kernel_regularizer=l2(0.01),recurrent_regularizer=l2(0.01)))\n",
    "model.add(LSTM(60, return_sequences=True, name=\"lstm_layer1\"))\n",
    "# kernel_regularizer=l2(0.01),recurrent_regularizer=l2(0.01)))\n",
    "model.add(LSTM(30, return_sequences=True, name=\"lstm_layer2\"))\n",
    "# ,kernel_regularizer=l2(0.01),bias_regularizer=l2(0.01)))\n",
    "model.add(Conv1D(filters=128, kernel_size=3, padding=\"same\", activation=\"relu\"))\n",
    "model.add(MaxPooling1D(3))\n",
    "model.add(GlobalMaxPooling1D())\n",
    "model.add(BatchNormalization())\n",
    "\n",
    "model.add(\n",
    "    Dense(64, activation=\"relu\", kernel_regularizer=l2(0.17), bias_regularizer=l2(0.01))\n",
    ")\n",
    "model.add(Dropout(0.3))\n",
    "model.add(\n",
    "    Dense(\n",
    "        32, activation=\"sigmoid\", kernel_regularizer=l2(0.19), bias_regularizer=l2(0.01)\n",
    "    )\n",
    ")\n",
    "model.add(Dropout(0.3))\n",
    "# model.add(Dense(16, kernel_regularizer=l2(0.001), activation='relu'))\n",
    "model.add(Dropout(0.3))\n",
    "model.add(Dense(1, activation=\"sigmoid\"))\n",
    "model.summary()"
   ]
  },
  {
   "cell_type": "code",
   "execution_count": 44,
   "metadata": {
    "trusted": true
   },
   "outputs": [],
   "source": [
    "# adam = keras.optimizers.Adam(lr=0.03, beta_1=0.9, beta_2=0.999, epsilon=None, decay=0.0, amsgrad=False)"
   ]
  },
  {
   "cell_type": "code",
   "execution_count": 45,
   "metadata": {
    "trusted": true
   },
   "outputs": [],
   "source": [
    "model.compile(loss=\"binary_crossentropy\", optimizer=\"adam\", metrics=[\"accuracy\"])"
   ]
  },
  {
   "cell_type": "code",
   "execution_count": 46,
   "metadata": {
    "trusted": true
   },
   "outputs": [
    {
     "name": "stdout",
     "output_type": "stream",
     "text": [
      "Epoch 1/15\n",
      "75/75 [==============================] - 37s 454ms/step - loss: 13.9404 - accuracy: 0.5908 - val_loss: 7.2261 - val_accuracy: 0.7763\n",
      "Epoch 2/15\n",
      "75/75 [==============================] - 33s 436ms/step - loss: 4.2553 - accuracy: 0.7462 - val_loss: 2.3910 - val_accuracy: 0.8275\n",
      "Epoch 3/15\n",
      "75/75 [==============================] - 33s 446ms/step - loss: 1.5315 - accuracy: 0.7921 - val_loss: 1.1358 - val_accuracy: 0.7100\n",
      "Epoch 4/15\n",
      "75/75 [==============================] - 35s 466ms/step - loss: 0.7965 - accuracy: 0.8525 - val_loss: 0.6660 - val_accuracy: 0.8750\n",
      "Epoch 5/15\n",
      "75/75 [==============================] - 35s 462ms/step - loss: 0.6590 - accuracy: 0.8263 - val_loss: 0.6543 - val_accuracy: 0.8012\n",
      "Epoch 6/15\n",
      "75/75 [==============================] - 37s 489ms/step - loss: 0.5428 - accuracy: 0.8950 - val_loss: 0.5200 - val_accuracy: 0.9013\n",
      "Epoch 7/15\n",
      "75/75 [==============================] - 35s 467ms/step - loss: 0.4673 - accuracy: 0.9383 - val_loss: 0.5296 - val_accuracy: 0.8950\n",
      "Epoch 8/15\n",
      "75/75 [==============================] - 34s 450ms/step - loss: 0.4471 - accuracy: 0.9400 - val_loss: 0.5513 - val_accuracy: 0.8700\n",
      "Epoch 9/15\n",
      "75/75 [==============================] - 35s 470ms/step - loss: 0.4059 - accuracy: 0.9604 - val_loss: 0.4372 - val_accuracy: 0.9262\n",
      "Epoch 10/15\n",
      "75/75 [==============================] - 36s 485ms/step - loss: 0.3819 - accuracy: 0.9654 - val_loss: 0.4096 - val_accuracy: 0.9350\n",
      "Epoch 11/15\n",
      "75/75 [==============================] - 35s 464ms/step - loss: 0.3948 - accuracy: 0.9458 - val_loss: 0.5525 - val_accuracy: 0.8575\n",
      "Epoch 12/15\n",
      "75/75 [==============================] - 34s 450ms/step - loss: 0.3522 - accuracy: 0.9725 - val_loss: 0.4083 - val_accuracy: 0.9287\n",
      "Epoch 13/15\n",
      "75/75 [==============================] - 36s 483ms/step - loss: 0.3300 - accuracy: 0.9742 - val_loss: 0.3975 - val_accuracy: 0.9325\n",
      "Epoch 14/15\n",
      "75/75 [==============================] - 35s 467ms/step - loss: 0.3093 - accuracy: 0.9804 - val_loss: 0.4933 - val_accuracy: 0.8737\n",
      "Epoch 15/15\n",
      "75/75 [==============================] - 35s 462ms/step - loss: 0.3064 - accuracy: 0.9742 - val_loss: 0.3687 - val_accuracy: 0.9413\n"
     ]
    }
   ],
   "source": [
    "history = model.fit(\n",
    "    processed_x_train,\n",
    "    y_train,\n",
    "    validation_data=(processed_x_test, y_test),\n",
    "    epochs=15,\n",
    "    batch_size=32,\n",
    "    verbose=1,\n",
    ")"
   ]
  },
  {
   "cell_type": "code",
   "execution_count": 47,
   "metadata": {
    "trusted": true
   },
   "outputs": [
    {
     "name": "stdout",
     "output_type": "stream",
     "text": [
      "25/25 [==============================] - 4s 161ms/step - loss: 0.3687 - accuracy: 0.9413\n"
     ]
    },
    {
     "data": {
      "text/plain": [
       "[0.368701696395874, 0.9412500262260437]"
      ]
     },
     "execution_count": 47,
     "metadata": {},
     "output_type": "execute_result"
    }
   ],
   "source": [
    "model.evaluate(processed_x_test, y_test)"
   ]
  },
  {
   "cell_type": "code",
   "execution_count": 53,
   "metadata": {},
   "outputs": [],
   "source": [
    "model.save(\"augmented_CNN.hdf5\")"
   ]
  },
  {
   "cell_type": "code",
   "execution_count": 48,
   "metadata": {
    "trusted": true
   },
   "outputs": [
    {
     "data": {
      "image/png": "[encoded data removed]",
      "text/plain": [
       "<Figure size 640x480 with 1 Axes>"
      ]
     },
     "metadata": {},
     "output_type": "display_data"
    },
    {
     "data": {
      "image/png": "[encoded data removed]",
      "text/plain": [
       "<Figure size 640x480 with 1 Axes>"
      ]
     },
     "metadata": {},
     "output_type": "display_data"
    }
   ],
   "source": [
    "# Plot training & validation accuracy values\n",
    "plt.plot(history.history[\"accuracy\"])\n",
    "plt.plot(history.history[\"val_accuracy\"])\n",
    "plt.title(\"Model accuracy\")\n",
    "plt.ylabel(\"Accuracy\")\n",
    "plt.xlabel(\"Epoch\")\n",
    "plt.legend([\"Train\", \"Test\"], loc=\"upper left\")\n",
    "plt.show()\n",
    "\n",
    "# Plot training & validation loss values\n",
    "plt.plot(history.history[\"loss\"])\n",
    "plt.plot(history.history[\"val_loss\"])\n",
    "plt.title(\"Model loss\")\n",
    "plt.ylabel(\"Loss\")\n",
    "plt.xlabel(\"Epoch\")\n",
    "plt.legend([\"Train\", \"Test\"], loc=\"upper left\")\n",
    "plt.show()"
   ]
  },
  {
   "cell_type": "markdown",
   "metadata": {},
   "source": [
    "**CNN GLoVe **\n"
   ]
  },
  {
   "cell_type": "code",
   "execution_count": 49,
   "metadata": {
    "trusted": true
   },
   "outputs": [
    {
     "name": "stdout",
     "output_type": "stream",
     "text": [
      "Model: \"sequential_1\"\n",
      "_________________________________________________________________\n",
      " Layer (type)                Output Shape              Param #   \n",
      "=================================================================\n",
      " embedding_1 (Embedding)     (None, 412, 100)          1021100   \n",
      "                                                                 \n",
      " dropout_3 (Dropout)         (None, 412, 100)          0         \n",
      "                                                                 \n",
      " conv1d_1 (Conv1D)           (None, 408, 64)           32064     \n",
      "                                                                 \n",
      " max_pooling1d_1 (MaxPooling  (None, 102, 64)          0         \n",
      " 1D)                                                             \n",
      "                                                                 \n",
      " batch_normalization_1 (Batc  (None, 102, 64)          256       \n",
      " hNormalization)                                                 \n",
      "                                                                 \n",
      " lstm (LSTM)                 (None, 100)               66000     \n",
      "                                                                 \n",
      " dense_3 (Dense)             (None, 1)                 101       \n",
      "                                                                 \n",
      "=================================================================\n",
      "Total params: 1,119,521\n",
      "Trainable params: 1,119,393\n",
      "Non-trainable params: 128\n",
      "_________________________________________________________________\n"
     ]
    }
   ],
   "source": [
    "model_glove = Sequential()\n",
    "model_glove.add(\n",
    "    Embedding(\n",
    "        vocab_size + 1,\n",
    "        embedding_dim,\n",
    "        weights=[embedding_matrix],\n",
    "        input_length=max_len,\n",
    "        trainable=True,\n",
    "    )\n",
    ")\n",
    "model_glove.add(Dropout(0.2))\n",
    "model_glove.add(\n",
    "    Conv1D(\n",
    "        64, 5, activation=\"relu\", kernel_regularizer=l2(0.01), bias_regularizer=l2(0.01)\n",
    "    )\n",
    ")\n",
    "model_glove.add(MaxPooling1D(pool_size=4))\n",
    "model_glove.add(BatchNormalization())\n",
    "model_glove.add(LSTM(100, kernel_regularizer=l2(0.01), recurrent_regularizer=l2(0.01)))\n",
    "model_glove.add(\n",
    "    Dense(\n",
    "        1, activation=\"sigmoid\", kernel_regularizer=l2(0.01), bias_regularizer=l2(0.01)\n",
    "    )\n",
    ")\n",
    "\n",
    "model_glove.summary()"
   ]
  },
  {
   "cell_type": "code",
   "execution_count": 50,
   "metadata": {
    "trusted": true
   },
   "outputs": [],
   "source": [
    "model_glove.compile(loss=\"binary_crossentropy\", optimizer=\"adam\", metrics=[\"accuracy\"])"
   ]
  },
  {
   "cell_type": "code",
   "execution_count": 51,
   "metadata": {
    "trusted": true
   },
   "outputs": [
    {
     "name": "stdout",
     "output_type": "stream",
     "text": [
      "Epoch 1/30\n",
      "75/75 [==============================] - 10s 111ms/step - loss: 2.2527 - accuracy: 0.6425 - val_loss: 1.4605 - val_accuracy: 0.6375\n",
      "Epoch 2/30\n",
      "75/75 [==============================] - 7s 97ms/step - loss: 1.0520 - accuracy: 0.7975 - val_loss: 0.9451 - val_accuracy: 0.7812\n",
      "Epoch 3/30\n",
      "75/75 [==============================] - 7s 95ms/step - loss: 0.7456 - accuracy: 0.8671 - val_loss: 1.0838 - val_accuracy: 0.6200\n",
      "Epoch 4/30\n",
      "75/75 [==============================] - 7s 97ms/step - loss: 0.5555 - accuracy: 0.9108 - val_loss: 1.1821 - val_accuracy: 0.6137\n",
      "Epoch 5/30\n",
      "75/75 [==============================] - 7s 96ms/step - loss: 0.4594 - accuracy: 0.9400 - val_loss: 0.8560 - val_accuracy: 0.7150\n",
      "Epoch 6/30\n",
      "75/75 [==============================] - 7s 97ms/step - loss: 0.3929 - accuracy: 0.9554 - val_loss: 0.5383 - val_accuracy: 0.8838\n",
      "Epoch 7/30\n",
      "75/75 [==============================] - 7s 98ms/step - loss: 0.3622 - accuracy: 0.9575 - val_loss: 0.5303 - val_accuracy: 0.8737\n",
      "Epoch 8/30\n",
      "75/75 [==============================] - 7s 98ms/step - loss: 0.3271 - accuracy: 0.9625 - val_loss: 0.4860 - val_accuracy: 0.9013\n",
      "Epoch 9/30\n",
      "75/75 [==============================] - 7s 98ms/step - loss: 0.3047 - accuracy: 0.9721 - val_loss: 0.4470 - val_accuracy: 0.9050\n",
      "Epoch 10/30\n",
      "75/75 [==============================] - 7s 99ms/step - loss: 0.2681 - accuracy: 0.9771 - val_loss: 0.3979 - val_accuracy: 0.9212\n",
      "Epoch 11/30\n",
      "75/75 [==============================] - 8s 101ms/step - loss: 0.2545 - accuracy: 0.9808 - val_loss: 0.4442 - val_accuracy: 0.9100\n",
      "Epoch 12/30\n",
      "75/75 [==============================] - 7s 100ms/step - loss: 0.2396 - accuracy: 0.9812 - val_loss: 0.7714 - val_accuracy: 0.7713\n",
      "Epoch 13/30\n",
      "75/75 [==============================] - 7s 92ms/step - loss: 0.4244 - accuracy: 0.9413 - val_loss: 1.2925 - val_accuracy: 0.5450\n",
      "Epoch 14/30\n",
      "75/75 [==============================] - 7s 90ms/step - loss: 0.5148 - accuracy: 0.9175 - val_loss: 0.4853 - val_accuracy: 0.9062\n",
      "Epoch 15/30\n",
      "75/75 [==============================] - 7s 92ms/step - loss: 0.2873 - accuracy: 0.9829 - val_loss: 0.4511 - val_accuracy: 0.9237\n",
      "Epoch 16/30\n",
      "75/75 [==============================] - 7s 90ms/step - loss: 0.2356 - accuracy: 0.9879 - val_loss: 0.5291 - val_accuracy: 0.9013\n",
      "Epoch 17/30\n",
      "75/75 [==============================] - 7s 99ms/step - loss: 0.1959 - accuracy: 0.9946 - val_loss: 0.3296 - val_accuracy: 0.9425\n",
      "Epoch 18/30\n",
      "75/75 [==============================] - 7s 97ms/step - loss: 0.1790 - accuracy: 0.9937 - val_loss: 0.4693 - val_accuracy: 0.8838\n",
      "Epoch 19/30\n",
      "75/75 [==============================] - 7s 99ms/step - loss: 0.1752 - accuracy: 0.9925 - val_loss: 0.6592 - val_accuracy: 0.8075\n",
      "Epoch 20/30\n",
      "75/75 [==============================] - 7s 96ms/step - loss: 0.1584 - accuracy: 0.9929 - val_loss: 0.3330 - val_accuracy: 0.9225\n",
      "Epoch 21/30\n",
      "75/75 [==============================] - 7s 97ms/step - loss: 0.2232 - accuracy: 0.9729 - val_loss: 0.9299 - val_accuracy: 0.7362\n",
      "Epoch 22/30\n",
      "75/75 [==============================] - 7s 97ms/step - loss: 0.1752 - accuracy: 0.9912 - val_loss: 0.3013 - val_accuracy: 0.9362\n",
      "Epoch 23/30\n",
      "75/75 [==============================] - 7s 97ms/step - loss: 0.1565 - accuracy: 0.9925 - val_loss: 0.3096 - val_accuracy: 0.9350\n",
      "Epoch 24/30\n",
      "75/75 [==============================] - 7s 97ms/step - loss: 0.1957 - accuracy: 0.9837 - val_loss: 0.6437 - val_accuracy: 0.8300\n",
      "Epoch 25/30\n",
      "75/75 [==============================] - 7s 97ms/step - loss: 0.1862 - accuracy: 0.9850 - val_loss: 0.4199 - val_accuracy: 0.9100\n",
      "Epoch 26/30\n",
      "75/75 [==============================] - 7s 95ms/step - loss: 0.1672 - accuracy: 0.9917 - val_loss: 1.3136 - val_accuracy: 0.6475\n",
      "Epoch 27/30\n",
      "75/75 [==============================] - 7s 96ms/step - loss: 0.1526 - accuracy: 0.9925 - val_loss: 0.3367 - val_accuracy: 0.9237\n",
      "Epoch 28/30\n",
      "75/75 [==============================] - 7s 97ms/step - loss: 0.1651 - accuracy: 0.9858 - val_loss: 0.5682 - val_accuracy: 0.8537\n",
      "Epoch 29/30\n",
      "75/75 [==============================] - 7s 98ms/step - loss: 0.1407 - accuracy: 0.9967 - val_loss: 0.3273 - val_accuracy: 0.9262\n",
      "Epoch 30/30\n",
      "75/75 [==============================] - 7s 96ms/step - loss: 0.1264 - accuracy: 0.9954 - val_loss: 0.2603 - val_accuracy: 0.9488\n"
     ]
    }
   ],
   "source": [
    "history = model_glove.fit(\n",
    "    processed_x_train,\n",
    "    y_train,\n",
    "    validation_data=(processed_x_test, y_test),\n",
    "    epochs=30,\n",
    "    batch_size=32,\n",
    "    verbose=1,\n",
    ")"
   ]
  },
  {
   "cell_type": "code",
   "execution_count": 52,
   "metadata": {
    "trusted": true
   },
   "outputs": [
    {
     "ename": "KeyError",
     "evalue": "'acc'",
     "output_type": "error",
     "traceback": [
      "\u001b[1;31m---------------------------------------------------------------------------\u001b[0m",
      "\u001b[1;31mKeyError\u001b[0m                                  Traceback (most recent call last)",
      "Cell \u001b[1;32mIn[52], line 2\u001b[0m\n\u001b[0;32m      1\u001b[0m \u001b[38;5;66;03m# Plot training & validation accuracy values\u001b[39;00m\n\u001b[1;32m----> 2\u001b[0m plt\u001b[38;5;241m.\u001b[39mplot(\u001b[43mhistory\u001b[49m\u001b[38;5;241;43m.\u001b[39;49m\u001b[43mhistory\u001b[49m\u001b[43m[\u001b[49m\u001b[38;5;124;43m\"\u001b[39;49m\u001b[38;5;124;43macc\u001b[39;49m\u001b[38;5;124;43m\"\u001b[39;49m\u001b[43m]\u001b[49m)\n\u001b[0;32m      3\u001b[0m plt\u001b[38;5;241m.\u001b[39mplot(history\u001b[38;5;241m.\u001b[39mhistory[\u001b[38;5;124m\"\u001b[39m\u001b[38;5;124mval_acc\u001b[39m\u001b[38;5;124m\"\u001b[39m])\n\u001b[0;32m      4\u001b[0m plt\u001b[38;5;241m.\u001b[39mtitle(\u001b[38;5;124m\"\u001b[39m\u001b[38;5;124mModel accuracy\u001b[39m\u001b[38;5;124m\"\u001b[39m)\n",
      "\u001b[1;31mKeyError\u001b[0m: 'acc'"
     ]
    }
   ],
   "source": [
    "# Plot training & validation accuracy values\n",
    "plt.plot(history.history[\"acc\"])\n",
    "plt.plot(history.history[\"val_acc\"])\n",
    "plt.title(\"Model accuracy\")\n",
    "plt.ylabel(\"Accuracy\")\n",
    "plt.xlabel(\"Epoch\")\n",
    "plt.legend([\"Train\", \"Test\"], loc=\"upper left\")\n",
    "plt.show()\n",
    "\n",
    "# Plot training & validation loss values\n",
    "plt.plot(history.history[\"loss\"])\n",
    "plt.plot(history.history[\"val_loss\"])\n",
    "plt.title(\"Model loss\")\n",
    "plt.ylabel(\"Loss\")\n",
    "plt.xlabel(\"Epoch\")\n",
    "plt.legend([\"Train\", \"Test\"], loc=\"upper left\")\n",
    "plt.show()"
   ]
  },
  {
   "cell_type": "markdown",
   "metadata": {},
   "source": [
    "2 LayreLSTM\n"
   ]
  },
  {
   "cell_type": "code",
   "execution_count": null,
   "metadata": {
    "trusted": true
   },
   "outputs": [
    {
     "name": "stdout",
     "output_type": "stream",
     "text": [
      "_________________________________________________________________\n",
      "Layer (type)                 Output Shape              Param #   \n",
      "=================================================================\n",
      "embedding_3 (Embedding)      (None, 416, 100)          934100    \n",
      "_________________________________________________________________\n",
      "lstm_layer1 (LSTM)           (None, 416, 60)           38640     \n",
      "_________________________________________________________________\n",
      "lstm_layer2 (LSTM)           (None, 416, 30)           10920     \n",
      "_________________________________________________________________\n",
      "batch_normalization_3 (Batch (None, 416, 30)           120       \n",
      "_________________________________________________________________\n",
      "flatten_1 (Flatten)          (None, 12480)             0         \n",
      "_________________________________________________________________\n",
      "dense_5 (Dense)              (None, 64)                798784    \n",
      "_________________________________________________________________\n",
      "dropout_5 (Dropout)          (None, 64)                0         \n",
      "_________________________________________________________________\n",
      "dense_6 (Dense)              (None, 32)                2080      \n",
      "_________________________________________________________________\n",
      "dropout_6 (Dropout)          (None, 32)                0         \n",
      "_________________________________________________________________\n",
      "dropout_7 (Dropout)          (None, 32)                0         \n",
      "_________________________________________________________________\n",
      "dense_8 (Dense)              (None, 1)                 33        \n",
      "=================================================================\n",
      "Total params: 1,784,677\n",
      "Trainable params: 1,784,617\n",
      "Non-trainable params: 60\n",
      "_________________________________________________________________\n"
     ]
    }
   ],
   "source": [
    "# Initate model\n",
    "model_lstm = Sequential()\n",
    "\n",
    "\n",
    "model_lstm.add(\n",
    "    Embedding(\n",
    "        vocab_size + 1,\n",
    "        embedding_dim,\n",
    "        weights=[embedding_matrix],\n",
    "        input_length=max_len,\n",
    "        trainable=True,\n",
    "    )\n",
    ")\n",
    "\n",
    "input_shape = embedding_matrix[0].shape\n",
    "\n",
    "\n",
    "# ,kernel_regularizer=l2(0.01),recurrent_regularizer=l2(0.01)))\n",
    "model_lstm.add(LSTM(60, return_sequences=True, name=\"lstm_layer1\"))\n",
    "# kernel_regularizer=l2(0.01),recurrent_regularizer=l2(0.01)))\n",
    "model_lstm.add(LSTM(30, return_sequences=True, name=\"lstm_layer2\"))\n",
    "# model_lstm.add(Conv1D(filters=128, kernel_size=3, padding='same', activation='relu'))#,kernel_regularizer=l2(0.01),bias_regularizer=l2(0.01)))\n",
    "# model_lstm.add(MaxPooling1D(3))\n",
    "# model_lstm.add(GlobalMaxPooling1D())\n",
    "model_lstm.add(BatchNormalization())\n",
    "model_lstm.add(Flatten())\n",
    "model_lstm.add(\n",
    "    Dense(64, activation=\"relu\", kernel_regularizer=l2(0.17), bias_regularizer=l2(0.01))\n",
    ")\n",
    "model_lstm.add(Dropout(0.3))\n",
    "model_lstm.add(\n",
    "    Dense(\n",
    "        32, activation=\"sigmoid\", kernel_regularizer=l2(0.19), bias_regularizer=l2(0.01)\n",
    "    )\n",
    ")\n",
    "model_lstm.add(Dropout(0.3))\n",
    "# model.add(Dense(16, kernel_regularizer=l2(0.001), activation='relu'))\n",
    "model.add(Dense(20, activation=\"relu\", input_shape=input_shape))\n",
    "# model.add(Dense(20, activation='relu'))\n",
    "model_lstm.add(Dropout(0.3))\n",
    "model_lstm.add(Dense(1, activation=\"sigmoid\"))\n",
    "model_lstm.summary()"
   ]
  },
  {
   "cell_type": "code",
   "execution_count": null,
   "metadata": {
    "trusted": true
   },
   "outputs": [],
   "source": [
    "model_lstm.compile(loss=\"binary_crossentropy\", optimizer=\"adam\", metrics=[\"accuracy\"])"
   ]
  },
  {
   "cell_type": "code",
   "execution_count": null,
   "metadata": {
    "trusted": true
   },
   "outputs": [
    {
     "name": "stdout",
     "output_type": "stream",
     "text": [
      "Train on 1200 samples, validate on 400 samples\n",
      "Epoch 1/15\n",
      "1200/1200 [==============================] - 29s 24ms/step - loss: 11.9936 - acc: 0.4950 - val_loss: 6.1268 - val_acc: 0.5325\n",
      "Epoch 2/15\n",
      "1200/1200 [==============================] - 25s 20ms/step - loss: 4.9547 - acc: 0.6150 - val_loss: 3.9150 - val_acc: 0.6300\n",
      "Epoch 3/15\n",
      "1200/1200 [==============================] - 25s 21ms/step - loss: 3.1504 - acc: 0.7433 - val_loss: 2.5269 - val_acc: 0.7000\n",
      "Epoch 4/15\n",
      "1200/1200 [==============================] - 25s 21ms/step - loss: 2.0219 - acc: 0.8133 - val_loss: 2.0638 - val_acc: 0.6350\n",
      "Epoch 5/15\n",
      "1200/1200 [==============================] - 25s 21ms/step - loss: 1.2884 - acc: 0.8642 - val_loss: 1.2858 - val_acc: 0.6750\n",
      "Epoch 6/15\n",
      "1200/1200 [==============================] - 26s 21ms/step - loss: 0.8754 - acc: 0.9067 - val_loss: 0.8732 - val_acc: 0.8250\n",
      "Epoch 7/15\n",
      "1200/1200 [==============================] - 26s 22ms/step - loss: 0.5784 - acc: 0.9333 - val_loss: 0.6989 - val_acc: 0.8225\n",
      "Epoch 8/15\n",
      "1200/1200 [==============================] - 27s 23ms/step - loss: 0.4425 - acc: 0.9450 - val_loss: 0.7347 - val_acc: 0.8050\n",
      "Epoch 9/15\n",
      "1200/1200 [==============================] - 26s 22ms/step - loss: 0.3320 - acc: 0.9633 - val_loss: 0.7283 - val_acc: 0.8025\n",
      "Epoch 10/15\n",
      "1200/1200 [==============================] - 25s 21ms/step - loss: 0.2724 - acc: 0.9742 - val_loss: 0.6217 - val_acc: 0.8050\n",
      "Epoch 11/15\n",
      "1200/1200 [==============================] - 25s 21ms/step - loss: 0.2223 - acc: 0.9808 - val_loss: 0.5969 - val_acc: 0.7975\n",
      "Epoch 12/15\n",
      "1200/1200 [==============================] - 26s 22ms/step - loss: 0.1920 - acc: 0.9875 - val_loss: 0.8302 - val_acc: 0.7725\n",
      "Epoch 13/15\n",
      "1200/1200 [==============================] - 26s 21ms/step - loss: 0.1874 - acc: 0.9892 - val_loss: 0.5810 - val_acc: 0.8350\n",
      "Epoch 14/15\n",
      "1200/1200 [==============================] - 25s 21ms/step - loss: 0.1423 - acc: 1.0000 - val_loss: 0.6558 - val_acc: 0.8275\n",
      "Epoch 15/15\n",
      "1200/1200 [==============================] - 26s 21ms/step - loss: 0.1383 - acc: 0.9967 - val_loss: 0.6246 - val_acc: 0.8275\n"
     ]
    }
   ],
   "source": [
    "hist = model_lstm.fit(\n",
    "    processed_x_train,\n",
    "    y_train,\n",
    "    validation_data=(processed_x_test, y_test),\n",
    "    epochs=15,\n",
    "    batch_size=32,\n",
    "    verbose=1,\n",
    ")"
   ]
  },
  {
   "cell_type": "code",
   "execution_count": null,
   "metadata": {
    "trusted": true
   },
   "outputs": [],
   "source": [
    "# Plot training & validation accuracy values\n",
    "plt.plot(hist.history[\"acc\"])\n",
    "plt.plot(hist.history[\"val_acc\"])\n",
    "plt.title(\"Model accuracy\")\n",
    "plt.ylabel(\"Accuracy\")\n",
    "plt.xlabel(\"Epoch\")\n",
    "plt.legend([\"Train\", \"Test\"], loc=\"upper left\")\n",
    "plt.show()\n",
    "\n",
    "# Plot training & validation loss values\n",
    "plt.plot(hist.history[\"loss\"])\n",
    "plt.plot(hist.history[\"val_loss\"])\n",
    "plt.title(\"Model loss\")\n",
    "plt.ylabel(\"Loss\")\n",
    "plt.xlabel(\"Epoch\")\n",
    "plt.legend([\"Train\", \"Test\"], loc=\"upper left\")\n",
    "plt.show()"
   ]
  },
  {
   "cell_type": "code",
   "execution_count": null,
   "metadata": {},
   "outputs": [],
   "source": []
  }
 ],
 "metadata": {
  "kernelspec": {
   "display_name": "aiapps",
   "language": "python",
   "name": "python3"
  },
  "language_info": {
   "codemirror_mode": {
    "name": "ipython",
    "version": 3
   },
   "file_extension": ".py",
   "mimetype": "text/x-python",
   "name": "python",
   "nbconvert_exporter": "python",
   "pygments_lexer": "ipython3",
   "version": "3.9.18"
  }
 },
 "nbformat": 4,
 "nbformat_minor": 1
}
