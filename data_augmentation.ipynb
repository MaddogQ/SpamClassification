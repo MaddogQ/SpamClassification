{
 "cells": [
  {
   "cell_type": "markdown",
   "metadata": {},
   "source": [
    "# Synonym Replacement\n"
   ]
  },
  {
   "cell_type": "code",
   "execution_count": null,
   "metadata": {},
   "outputs": [],
   "source": [
    "import nltk\n",
    "from nltk.corpus import wordnet\n",
    "import random"
   ]
  },
  {
   "cell_type": "code",
   "execution_count": null,
   "metadata": {},
   "outputs": [],
   "source": [
    "# Download NLTK resources if needed\n",
    "nltk.download(\"wordnet\")\n",
    "nltk.download(\"omw-1.4\")"
   ]
  },
  {
   "cell_type": "code",
   "execution_count": null,
   "metadata": {},
   "outputs": [],
   "source": [
    "def synonym_replacement(sentence, n=1):\n",
    "    words = sentence.split()\n",
    "    new_words = words.copy()\n",
    "\n",
    "    # Choose random words in the sentence to replace with synonyms\n",
    "    random_word_list = list(set(words))\n",
    "    random.shuffle(random_word_list)\n",
    "    num_replaced = 0\n",
    "\n",
    "    for random_word in random_word_list:\n",
    "        synonyms = wordnet.synsets(random_word)\n",
    "        if synonyms:\n",
    "            synonym = (\n",
    "                random.choice(synonyms).lemmas()[0].name()\n",
    "            )  # Choose a random synonym\n",
    "            if synonym != random_word:\n",
    "                new_words = [\n",
    "                    synonym if word == random_word else word for word in new_words\n",
    "                ]\n",
    "                num_replaced += 1\n",
    "            if num_replaced >= n:  # Replace n words with synonyms\n",
    "                break\n",
    "\n",
    "    return \" \".join(new_words)"
   ]
  },
  {
   "cell_type": "code",
   "execution_count": null,
   "metadata": {},
   "outputs": [],
   "source": [
    "import pandas as pd"
   ]
  },
  {
   "cell_type": "code",
   "execution_count": null,
   "metadata": {},
   "outputs": [],
   "source": [
    "data = pd.read_csv(\"./input/deceptive-opinion-spam-corpus/deceptive-opinion.csv\")"
   ]
  },
  {
   "cell_type": "code",
   "execution_count": null,
   "metadata": {},
   "outputs": [],
   "source": [
    "sample_text = data[\"text\"][0]\n",
    "synonym_replaced_text = synonym_replacement(sample_text, n=2)"
   ]
  },
  {
   "cell_type": "code",
   "execution_count": null,
   "metadata": {},
   "outputs": [],
   "source": [
    "print(sample_text)\n",
    "print(synonym_replaced_text)"
   ]
  },
  {
   "cell_type": "markdown",
   "metadata": {},
   "source": [
    "# Back Translation\n"
   ]
  },
  {
   "cell_type": "code",
   "execution_count": null,
   "metadata": {},
   "outputs": [],
   "source": [
    "from deep_translator import GoogleTranslator\n",
    "\n",
    "\n",
    "def back_translate(text, intermediate_lang=\"fr\"):\n",
    "    # Step 1: English to French (or other intermediate language)\n",
    "    translated = GoogleTranslator(source=\"en\", target=intermediate_lang).translate(text)\n",
    "    # Step 2: French back to English\n",
    "    back_translated = GoogleTranslator(source=intermediate_lang, target=\"en\").translate(\n",
    "        translated\n",
    "    )\n",
    "    return back_translated\n",
    "\n",
    "\n",
    "# Example usage\n",
    "\n",
    "result = back_translate(sample_text)\n",
    "print(\"Original:       \", sample_text)\n",
    "print(\"Back Translated:\", result)"
   ]
  },
  {
   "cell_type": "code",
   "execution_count": null,
   "metadata": {},
   "outputs": [],
   "source": []
  }
 ],
 "metadata": {
  "kernelspec": {
   "display_name": "idlf23",
   "language": "python",
   "name": "python3"
  },
  "language_info": {
   "codemirror_mode": {
    "name": "ipython",
    "version": 3
   },
   "file_extension": ".py",
   "mimetype": "text/x-python",
   "name": "python",
   "nbconvert_exporter": "python",
   "pygments_lexer": "ipython3",
   "version": "3.8.16"
  }
 },
 "nbformat": 4,
 "nbformat_minor": 2
}
